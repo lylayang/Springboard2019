{
 "cells": [
  {
   "cell_type": "code",
   "execution_count": null,
   "metadata": {},
   "outputs": [],
   "source": []
  },
  {
   "cell_type": "code",
   "execution_count": 1,
   "metadata": {},
   "outputs": [],
   "source": [
    "import os\n",
    "import pandas as pd\n",
    "import  datetime\n",
    "import numpy as np\n",
    "import matplotlib.pyplot as plt\n",
    "import seaborn as sns\n",
    "from scipy import stats\n",
    "from sklearn.model_selection import train_test_split\n",
    "\n",
    "from ast import literal_eval\n",
    "from sklearn.feature_extraction.text import TfidfVectorizer, CountVectorizer\n",
    "from sklearn.metrics.pairwise import linear_kernel, cosine_similarity\n",
    "from nltk.stem.snowball import SnowballStemmer\n",
    "from nltk.stem.wordnet import WordNetLemmatizer\n",
    "from nltk.corpus import wordnet\n",
    "\n",
    "from sklearn.preprocessing import MinMaxScaler\n",
    "from sklearn.decomposition import PCA\n",
    "\n",
    "from surprise import Reader, Dataset, SVD\n",
    "from surprise.model_selection import cross_validate\n",
    "##https://stackoverflow.com/questions/59112197/importerror-cannot-import-name-evaluate-from-surprise-import-evaluate\n",
    "from scipy.sparse.linalg import svds\n",
    "\n",
    "from bokeh.plotting import figure, output_file, show\n",
    "from bokeh.plotting import figure, show, output_file, output_notebook\n",
    "from bokeh.palettes import Spectral11, colorblind, Inferno, BuGn, brewer\n",
    "from bokeh.models import HoverTool, value, LabelSet, Legend, ColumnDataSource,LinearColorMapper,BasicTicker, PrintfTickFormatter, ColorBar\n",
    "import warnings; warnings.simplefilter('ignore')\n",
    "%matplotlib inline\n",
    "\n",
    "pd.set_option('display.max_columns', None)\n",
    "pd.set_option('max_colwidth', None)\n",
    "\n",
    "\n",
    "from scipy.sparse import csr_matrix\n",
    "from sklearn.neighbors import NearestNeighbors\n",
    "from sklearn.decomposition import PCA\n",
    "from sklearn.pipeline import make_pipeline\n",
    "from sklearn.preprocessing import StandardScaler\n",
    "from sklearn.preprocessing import MinMaxScaler"
   ]
  },
  {
   "cell_type": "markdown",
   "metadata": {},
   "source": [
    "## Data preprocessing\n",
    "\n",
    "1. Load original CSV files.\n",
    "2. Split title and year into separate columns. Convert year to datetime.\n",
    "3. Categorize genres properly: split strings into boolean columns per genre.\n",
    "Modify the rating timestamp: from universal seconds to datetime year.\n",
    "Check for NaN values. Clean (delete rows) if % of NaN values is small."
   ]
  },
  {
   "cell_type": "code",
   "execution_count": 2,
   "metadata": {},
   "outputs": [],
   "source": [
    "## https://grouplens.org/datasets/movielens/20m/\n",
    "data_path = '/Users/yangx/Downloads/ml-20m/'\n",
    "movies_filename = 'movies.csv'\n",
    "ratings_filename = 'ratings2.csv'\n",
    "tags_filename='tags.csv'\n",
    "df_tags = pd.read_csv(os.path.join(data_path, tags_filename))\n",
    "df_movies = pd.read_csv(os.path.join(data_path, movies_filename),usecols=['movieId', 'title','genres'], dtype={'movieId': 'int32', 'title': 'str'})\n",
    "df_ratings = pd.read_csv(os.path.join(data_path, ratings_filename), usecols=['userId', 'movieId', 'rating','timestamp'], \n",
    "                         dtype={'userId':'int32', 'movieId':'int32', 'rating':'float32'}\n",
    "#                          ,parse_dates=['timestamp'],date_parser = pd.datetools.to_datetime\n",
    "                        )"
   ]
  },
  {
   "cell_type": "code",
   "execution_count": 3,
   "metadata": {},
   "outputs": [
    {
     "data": {
      "text/html": [
       "<div>\n",
       "<style scoped>\n",
       "    .dataframe tbody tr th:only-of-type {\n",
       "        vertical-align: middle;\n",
       "    }\n",
       "\n",
       "    .dataframe tbody tr th {\n",
       "        vertical-align: top;\n",
       "    }\n",
       "\n",
       "    .dataframe thead th {\n",
       "        text-align: right;\n",
       "    }\n",
       "</style>\n",
       "<table border=\"1\" class=\"dataframe\">\n",
       "  <thead>\n",
       "    <tr style=\"text-align: right;\">\n",
       "      <th></th>\n",
       "      <th>movieId</th>\n",
       "      <th>title</th>\n",
       "      <th>genres</th>\n",
       "      <th>year</th>\n",
       "      <th>title2</th>\n",
       "    </tr>\n",
       "  </thead>\n",
       "  <tbody>\n",
       "    <tr>\n",
       "      <th>0</th>\n",
       "      <td>1</td>\n",
       "      <td>Toy Story (1995)</td>\n",
       "      <td>Adventure|Animation|Children|Comedy|Fantasy</td>\n",
       "      <td>1995.0</td>\n",
       "      <td>Toy Story</td>\n",
       "    </tr>\n",
       "    <tr>\n",
       "      <th>1</th>\n",
       "      <td>2</td>\n",
       "      <td>Jumanji (1995)</td>\n",
       "      <td>Adventure|Children|Fantasy</td>\n",
       "      <td>1995.0</td>\n",
       "      <td>Jumanji</td>\n",
       "    </tr>\n",
       "    <tr>\n",
       "      <th>2</th>\n",
       "      <td>3</td>\n",
       "      <td>Grumpier Old Men (1995)</td>\n",
       "      <td>Comedy|Romance</td>\n",
       "      <td>1995.0</td>\n",
       "      <td>Grumpier Old Men</td>\n",
       "    </tr>\n",
       "    <tr>\n",
       "      <th>3</th>\n",
       "      <td>4</td>\n",
       "      <td>Waiting to Exhale (1995)</td>\n",
       "      <td>Comedy|Drama|Romance</td>\n",
       "      <td>1995.0</td>\n",
       "      <td>Waiting to Exhale</td>\n",
       "    </tr>\n",
       "    <tr>\n",
       "      <th>4</th>\n",
       "      <td>5</td>\n",
       "      <td>Father of the Bride Part II (1995)</td>\n",
       "      <td>Comedy</td>\n",
       "      <td>1995.0</td>\n",
       "      <td>Father of the Bride Part II</td>\n",
       "    </tr>\n",
       "  </tbody>\n",
       "</table>\n",
       "</div>"
      ],
      "text/plain": [
       "   movieId                               title  \\\n",
       "0        1                    Toy Story (1995)   \n",
       "1        2                      Jumanji (1995)   \n",
       "2        3             Grumpier Old Men (1995)   \n",
       "3        4            Waiting to Exhale (1995)   \n",
       "4        5  Father of the Bride Part II (1995)   \n",
       "\n",
       "                                        genres    year  \\\n",
       "0  Adventure|Animation|Children|Comedy|Fantasy  1995.0   \n",
       "1                   Adventure|Children|Fantasy  1995.0   \n",
       "2                               Comedy|Romance  1995.0   \n",
       "3                         Comedy|Drama|Romance  1995.0   \n",
       "4                                       Comedy  1995.0   \n",
       "\n",
       "                        title2  \n",
       "0                    Toy Story  \n",
       "1                      Jumanji  \n",
       "2             Grumpier Old Men  \n",
       "3            Waiting to Exhale  \n",
       "4  Father of the Bride Part II  "
      ]
     },
     "execution_count": 3,
     "metadata": {},
     "output_type": "execute_result"
    }
   ],
   "source": [
    "# add year column to the ratings\n",
    "df_ratings['rating_year']=pd.to_datetime(df_ratings.timestamp)\n",
    "df_ratings['rating_month']=df_ratings.rating_year.dt.month\n",
    "df_ratings['rating_year']=df_ratings.rating_year.dt.year\n",
    "\n",
    "\n",
    "# df_movies2=df_movies.copy()\n",
    "# df_movies2.genres = df_movies2.genres.str.split('|')\n",
    "# df_movies2 = explode(df_movies2, ['genres'])\n",
    "# df_movies2.head()\n",
    "#Split title and release year in separate columns in movies dataframe. Convert year to timestamp.\n",
    "df_movies['year']=df_movies.title.str.extract(\"\\((\\d{4})\\)\", expand = True)\n",
    "df_movies['year'] = pd.to_datetime(df_movies.year, format='%Y')\n",
    "# extract year digits\n",
    "df_movies.year=df_movies.year.dt.year \n",
    "# As there are some NaN years, resulting type will be float (decimals)\n",
    "#edit title\n",
    "df_movies['title2']=df_movies.title.str[:-7]\n",
    "df_movies.head()"
   ]
  },
  {
   "cell_type": "code",
   "execution_count": 4,
   "metadata": {},
   "outputs": [
    {
     "data": {
      "text/html": [
       "<div>\n",
       "<style scoped>\n",
       "    .dataframe tbody tr th:only-of-type {\n",
       "        vertical-align: middle;\n",
       "    }\n",
       "\n",
       "    .dataframe tbody tr th {\n",
       "        vertical-align: top;\n",
       "    }\n",
       "\n",
       "    .dataframe thead th {\n",
       "        text-align: right;\n",
       "    }\n",
       "</style>\n",
       "<table border=\"1\" class=\"dataframe\">\n",
       "  <thead>\n",
       "    <tr style=\"text-align: right;\">\n",
       "      <th></th>\n",
       "      <th>movieId</th>\n",
       "      <th>title</th>\n",
       "      <th>year</th>\n",
       "      <th>title2</th>\n",
       "      <th>(no genres listed)</th>\n",
       "      <th>Action</th>\n",
       "      <th>Adventure</th>\n",
       "      <th>Animation</th>\n",
       "      <th>Children</th>\n",
       "      <th>Comedy</th>\n",
       "      <th>Crime</th>\n",
       "      <th>Documentary</th>\n",
       "      <th>Drama</th>\n",
       "      <th>Fantasy</th>\n",
       "      <th>Film-Noir</th>\n",
       "      <th>Horror</th>\n",
       "      <th>IMAX</th>\n",
       "      <th>Musical</th>\n",
       "      <th>Mystery</th>\n",
       "      <th>Romance</th>\n",
       "      <th>Sci-Fi</th>\n",
       "      <th>Thriller</th>\n",
       "      <th>War</th>\n",
       "      <th>Western</th>\n",
       "    </tr>\n",
       "  </thead>\n",
       "  <tbody>\n",
       "    <tr>\n",
       "      <th>0</th>\n",
       "      <td>1</td>\n",
       "      <td>Toy Story (1995)</td>\n",
       "      <td>1995.0</td>\n",
       "      <td>Toy Story</td>\n",
       "      <td>False</td>\n",
       "      <td>False</td>\n",
       "      <td>True</td>\n",
       "      <td>True</td>\n",
       "      <td>True</td>\n",
       "      <td>True</td>\n",
       "      <td>False</td>\n",
       "      <td>False</td>\n",
       "      <td>False</td>\n",
       "      <td>True</td>\n",
       "      <td>False</td>\n",
       "      <td>False</td>\n",
       "      <td>False</td>\n",
       "      <td>False</td>\n",
       "      <td>False</td>\n",
       "      <td>False</td>\n",
       "      <td>False</td>\n",
       "      <td>False</td>\n",
       "      <td>False</td>\n",
       "      <td>False</td>\n",
       "    </tr>\n",
       "    <tr>\n",
       "      <th>1</th>\n",
       "      <td>2</td>\n",
       "      <td>Jumanji (1995)</td>\n",
       "      <td>1995.0</td>\n",
       "      <td>Jumanji</td>\n",
       "      <td>False</td>\n",
       "      <td>False</td>\n",
       "      <td>True</td>\n",
       "      <td>False</td>\n",
       "      <td>True</td>\n",
       "      <td>False</td>\n",
       "      <td>False</td>\n",
       "      <td>False</td>\n",
       "      <td>False</td>\n",
       "      <td>True</td>\n",
       "      <td>False</td>\n",
       "      <td>False</td>\n",
       "      <td>False</td>\n",
       "      <td>False</td>\n",
       "      <td>False</td>\n",
       "      <td>False</td>\n",
       "      <td>False</td>\n",
       "      <td>False</td>\n",
       "      <td>False</td>\n",
       "      <td>False</td>\n",
       "    </tr>\n",
       "    <tr>\n",
       "      <th>2</th>\n",
       "      <td>3</td>\n",
       "      <td>Grumpier Old Men (1995)</td>\n",
       "      <td>1995.0</td>\n",
       "      <td>Grumpier Old Men</td>\n",
       "      <td>False</td>\n",
       "      <td>False</td>\n",
       "      <td>False</td>\n",
       "      <td>False</td>\n",
       "      <td>False</td>\n",
       "      <td>True</td>\n",
       "      <td>False</td>\n",
       "      <td>False</td>\n",
       "      <td>False</td>\n",
       "      <td>False</td>\n",
       "      <td>False</td>\n",
       "      <td>False</td>\n",
       "      <td>False</td>\n",
       "      <td>False</td>\n",
       "      <td>False</td>\n",
       "      <td>True</td>\n",
       "      <td>False</td>\n",
       "      <td>False</td>\n",
       "      <td>False</td>\n",
       "      <td>False</td>\n",
       "    </tr>\n",
       "    <tr>\n",
       "      <th>3</th>\n",
       "      <td>4</td>\n",
       "      <td>Waiting to Exhale (1995)</td>\n",
       "      <td>1995.0</td>\n",
       "      <td>Waiting to Exhale</td>\n",
       "      <td>False</td>\n",
       "      <td>False</td>\n",
       "      <td>False</td>\n",
       "      <td>False</td>\n",
       "      <td>False</td>\n",
       "      <td>True</td>\n",
       "      <td>False</td>\n",
       "      <td>False</td>\n",
       "      <td>True</td>\n",
       "      <td>False</td>\n",
       "      <td>False</td>\n",
       "      <td>False</td>\n",
       "      <td>False</td>\n",
       "      <td>False</td>\n",
       "      <td>False</td>\n",
       "      <td>True</td>\n",
       "      <td>False</td>\n",
       "      <td>False</td>\n",
       "      <td>False</td>\n",
       "      <td>False</td>\n",
       "    </tr>\n",
       "    <tr>\n",
       "      <th>4</th>\n",
       "      <td>5</td>\n",
       "      <td>Father of the Bride Part II (1995)</td>\n",
       "      <td>1995.0</td>\n",
       "      <td>Father of the Bride Part II</td>\n",
       "      <td>False</td>\n",
       "      <td>False</td>\n",
       "      <td>False</td>\n",
       "      <td>False</td>\n",
       "      <td>False</td>\n",
       "      <td>True</td>\n",
       "      <td>False</td>\n",
       "      <td>False</td>\n",
       "      <td>False</td>\n",
       "      <td>False</td>\n",
       "      <td>False</td>\n",
       "      <td>False</td>\n",
       "      <td>False</td>\n",
       "      <td>False</td>\n",
       "      <td>False</td>\n",
       "      <td>False</td>\n",
       "      <td>False</td>\n",
       "      <td>False</td>\n",
       "      <td>False</td>\n",
       "      <td>False</td>\n",
       "    </tr>\n",
       "  </tbody>\n",
       "</table>\n",
       "</div>"
      ],
      "text/plain": [
       "   movieId                               title    year  \\\n",
       "0        1                    Toy Story (1995)  1995.0   \n",
       "1        2                      Jumanji (1995)  1995.0   \n",
       "2        3             Grumpier Old Men (1995)  1995.0   \n",
       "3        4            Waiting to Exhale (1995)  1995.0   \n",
       "4        5  Father of the Bride Part II (1995)  1995.0   \n",
       "\n",
       "                        title2  (no genres listed)  Action  Adventure  \\\n",
       "0                    Toy Story               False   False       True   \n",
       "1                      Jumanji               False   False       True   \n",
       "2             Grumpier Old Men               False   False      False   \n",
       "3            Waiting to Exhale               False   False      False   \n",
       "4  Father of the Bride Part II               False   False      False   \n",
       "\n",
       "   Animation  Children  Comedy  Crime  Documentary  Drama  Fantasy  Film-Noir  \\\n",
       "0       True      True    True  False        False  False     True      False   \n",
       "1      False      True   False  False        False  False     True      False   \n",
       "2      False     False    True  False        False  False    False      False   \n",
       "3      False     False    True  False        False   True    False      False   \n",
       "4      False     False    True  False        False  False    False      False   \n",
       "\n",
       "   Horror   IMAX  Musical  Mystery  Romance  Sci-Fi  Thriller    War  Western  \n",
       "0   False  False    False    False    False   False     False  False    False  \n",
       "1   False  False    False    False    False   False     False  False    False  \n",
       "2   False  False    False    False     True   False     False  False    False  \n",
       "3   False  False    False    False     True   False     False  False    False  \n",
       "4   False  False    False    False    False   False     False  False    False  "
      ]
     },
     "execution_count": 4,
     "metadata": {},
     "output_type": "execute_result"
    }
   ],
   "source": [
    "genres_unique = pd.DataFrame(df_movies.genres.str.split('|').tolist()).stack().unique()\n",
    "genres_unique = pd.DataFrame(genres_unique, columns=['genre'])\n",
    "df_movies = df_movies.join(df_movies.genres.str.get_dummies().astype(bool))\n",
    "df_movies.drop('genres', inplace=True, axis=1)\n",
    "df_movies.head()"
   ]
  },
  {
   "cell_type": "markdown",
   "metadata": {},
   "source": [
    "### Train test split"
   ]
  },
  {
   "cell_type": "code",
   "execution_count": null,
   "metadata": {},
   "outputs": [],
   "source": [
    "# ratings_train_df, ratings_test_df = train_test_split(df_ratings,\n",
    "#                                    stratify=df_ratings['userId'], \n",
    "#                                    test_size=0.20,\n",
    "#                                    random_state=42)\n",
    "# ratings_train_df.shape, ratings_test_df.shape"
   ]
  },
  {
   "cell_type": "code",
   "execution_count": 5,
   "metadata": {},
   "outputs": [
    {
     "name": "stdout",
     "output_type": "stream",
     "text": [
      "train 2000 ~ 2001 (3139784, 6)\n",
      "test 2002 all (869719, 6)\n",
      "test 2002 known (213023, 6)\n",
      "test 2002 june all (459225, 6)\n",
      "test 2002 june known (124220, 6)\n"
     ]
    }
   ],
   "source": [
    "train1=df_ratings.loc[(df_ratings.rating_year==2000)| (df_ratings.rating_year==2001)]\n",
    "print('train 2000 ~ 2001',train1.shape)\n",
    "\n",
    "test1_12mo=df_ratings.loc[(df_ratings.rating_year==2002)]\n",
    "test1_12mo_known=test1_12mo[test1_12mo['userId'].isin(train1['userId'].unique())]\n",
    "train1_known=train1[train1['userId'].isin(test1_12mo_known['userId'].unique())]\n",
    "print('test 2002 all',test1_12mo.shape)\n",
    "print('test 2002 known',test1_12mo_known.shape)\n",
    "\n",
    "test1_6mo=df_ratings.loc[(df_ratings.rating_year==2002)&(df_ratings.rating_month < 7)]\n",
    "test1_6mo_known=test1_6mo[test1_6mo['userId'].isin(train1['userId'])]\n",
    "print('test 2002 june all',test1_6mo.shape)\n",
    "print('test 2002 june known',test1_6mo_known.shape)"
   ]
  },
  {
   "cell_type": "code",
   "execution_count": 6,
   "metadata": {},
   "outputs": [
    {
     "name": "stdout",
     "output_type": "stream",
     "text": [
      "There are 22205 unique users and 4880 unique movies in this training data set during 2000 ~ 2001\n"
     ]
    }
   ],
   "source": [
    "num_users = len(train1.userId.unique())\n",
    "num_items = len(train1.movieId.unique())\n",
    "print('There are {} unique users and {} unique movies in this training data set during 2000 ~ 2001'.format(num_users, num_items))"
   ]
  },
  {
   "cell_type": "markdown",
   "metadata": {},
   "source": [
    "### get the known user in both test and train set"
   ]
  },
  {
   "cell_type": "code",
   "execution_count": 7,
   "metadata": {},
   "outputs": [],
   "source": [
    "known_users=list(test1_12mo_known.userId.unique())\n",
    "test_seen_dict={}\n",
    "    \n",
    "for key in known_users:\n",
    "    test_seen_dict[key]=test1_12mo_known.loc[test1_12mo_known.userId ==key,'movieId'].tolist()\n",
    "test_seen_df=pd.DataFrame(test_seen_dict.items(), columns=['userId', 'movieId'])"
   ]
  },
  {
   "cell_type": "code",
   "execution_count": 8,
   "metadata": {},
   "outputs": [],
   "source": [
    "train_known=train1[train1.userId.isin(known_users)]\n",
    "train_known=train_known[['userId','movieId']]\n",
    "\n",
    "train_users=list(train1.userId.unique())\n",
    "train_seen_dict={}\n",
    "    \n",
    "for key in train_users:\n",
    "    train_seen_dict[key]=train1.loc[train1.userId ==key,'movieId'].tolist()\n",
    "train_seen_df=pd.DataFrame(train_seen_dict.items(), columns=['userId', 'movieIds'])"
   ]
  },
  {
   "cell_type": "code",
   "execution_count": 10,
   "metadata": {},
   "outputs": [
    {
     "data": {
      "text/plain": [
       "(827097, 22205)"
      ]
     },
     "execution_count": 10,
     "metadata": {},
     "output_type": "execute_result"
    }
   ],
   "source": [
    "len(train_known),len(train_seen_df)"
   ]
  },
  {
   "cell_type": "markdown",
   "metadata": {},
   "source": [
    "### Evaluation"
   ]
  },
  {
   "cell_type": "code",
   "execution_count": 11,
   "metadata": {},
   "outputs": [],
   "source": [
    "def evaluation(list1, list2):\n",
    "    intersection = len(list(set(list1).intersection(list2)))\n",
    "    mini = min(len(list1),len(list2)) \n",
    "    return float(intersection) / mini\n",
    " "
   ]
  },
  {
   "cell_type": "markdown",
   "metadata": {},
   "source": [
    "## CF KNN User-item based\n",
    "1. cosine\n",
    "2. pereason\n"
   ]
  },
  {
   "cell_type": "code",
   "execution_count": 12,
   "metadata": {},
   "outputs": [],
   "source": [
    "from scipy.sparse import csr_matrix\n",
    "from sklearn.neighbors import NearestNeighbors\n",
    "from sklearn.decomposition import PCA\n",
    "from sklearn.pipeline import make_pipeline\n",
    "from sklearn.preprocessing import StandardScaler\n",
    "from sklearn.preprocessing import MinMaxScaler\n"
   ]
  },
  {
   "cell_type": "code",
   "execution_count": 13,
   "metadata": {},
   "outputs": [],
   "source": [
    "import collections\n",
    "import heapq \n",
    "\n",
    "#get top k frequent items from a list\n",
    "def topKFrequent(nums, k):\n",
    "    \"\"\"\n",
    "    :type nums: List[int]\n",
    "    :type k: int\n",
    "    :return type: List[int]\n",
    "    \"\"\"\n",
    "    counter=collections.Counter(nums)\n",
    "    return heapq.nlargest(k, counter, key=lambda x: counter[x])"
   ]
  },
  {
   "cell_type": "markdown",
   "metadata": {},
   "source": [
    "#### Create User-MovieId table"
   ]
  },
  {
   "cell_type": "code",
   "execution_count": 14,
   "metadata": {},
   "outputs": [
    {
     "data": {
      "text/plain": [
       "(22205, 4880)"
      ]
     },
     "execution_count": 14,
     "metadata": {},
     "output_type": "execute_result"
    }
   ],
   "source": [
    "user_train1=pd.pivot_table(train1, index='movieId', columns='userId', values='rating').T\n",
    "user_train1=user_train1.fillna(0)\n",
    "user_train1.shape"
   ]
  },
  {
   "cell_type": "markdown",
   "metadata": {},
   "source": [
    "### KNN with Cosine Similarity\n",
    "https://en.wikipedia.org/wiki/Cosine_similarity\n",
    "\n",
    "- Pros\n",
    "- cons"
   ]
  },
  {
   "cell_type": "code",
   "execution_count": 15,
   "metadata": {},
   "outputs": [
    {
     "data": {
      "text/plain": [
       "NearestNeighbors(algorithm='brute', leaf_size=30, metric='cosine',\n",
       "                 metric_params=None, n_jobs=None, n_neighbors=5, p=2,\n",
       "                 radius=1.0)"
      ]
     },
     "execution_count": 15,
     "metadata": {},
     "output_type": "execute_result"
    }
   ],
   "source": [
    "user_train_matrix = csr_matrix(user_train1.values) # handle sparse matrice before input into KNN\n",
    "\n",
    "# fit model\n",
    "model_knn = NearestNeighbors(metric = 'cosine', algorithm= 'brute')\n",
    "model_knn.fit(user_train_matrix)"
   ]
  },
  {
   "cell_type": "code",
   "execution_count": 16,
   "metadata": {},
   "outputs": [],
   "source": [
    "# Get top k recommended movies for each user\n",
    "# it retuns a dictionary with key as user id and values as a list of movie id\n",
    "def recomm_kmovies_cosine(df_train, model,n,topk):\n",
    "    df_train_copy=df_train.copy()\n",
    "    df_train_copy.reset_index(inplace=True)\n",
    "    recomm_dict={}\n",
    "    for i in range(df_train.shape[0]):\n",
    "        distances, indices = model.kneighbors(df_train.iloc[i,:].values.reshape(1, -1), n_neighbors = n+1)\n",
    "        uid=df_train_copy.iloc[i, :]['userId']\n",
    "        l=[]\n",
    "        for k in indices[0]:\n",
    "            neirbor_uid=df_train_copy.iloc[k, :]['userId']\n",
    "            m=train_seen_df.loc[train_seen_df.userId==neirbor_uid,'movieIds'].values[0]\n",
    "            l.append(m)\n",
    "        unnested= [k for i in l for k in i]\n",
    "#         print(len(unnested),' ',i,' ',k)\n",
    "        \n",
    "        if topk > len(unnested):\n",
    "            mvote = topKFrequent(unnested, topk)\n",
    "        else:\n",
    "            mvote = list(set(unnested))\n",
    "        recomm_dict[uid]=mvote\n",
    "    return recomm_dict"
   ]
  },
  {
   "cell_type": "code",
   "execution_count": 18,
   "metadata": {},
   "outputs": [],
   "source": [
    "# make recommendation\n",
    "\n",
    "cosine_recomm_dict=recomm_kmovies_cosine(user_train1,model_knn,5, 50)"
   ]
  },
  {
   "cell_type": "code",
   "execution_count": 19,
   "metadata": {},
   "outputs": [
    {
     "data": {
      "text/plain": [
       "0.3402988236440835"
      ]
     },
     "execution_count": 19,
     "metadata": {},
     "output_type": "execute_result"
    }
   ],
   "source": [
    "# Get the evaluation score\n",
    "test_seen_df['cosine_user_recomm']=test_seen_df['userId'].map(cosine_recomm_dict)\n",
    "test_seen_df['cosine_eval']=test_seen_df.apply(lambda row: evaluation(row.movieId, row.cosine_user_recomm), axis=1)\n",
    "test_seen_df.cosine_eval.mean()"
   ]
  },
  {
   "cell_type": "markdown",
   "metadata": {},
   "source": [
    "### hyperparameter tuning"
   ]
  },
  {
   "cell_type": "code",
   "execution_count": 20,
   "metadata": {},
   "outputs": [],
   "source": [
    "## hyperparameter tuning\n",
    "nb = [5,10,15,20]\n",
    "topk = [25, 50, 75]\n",
    "cos_list=[]\n",
    "for i in nb:\n",
    "    for k in topk:\n",
    "        cosine_recomm_dict=recomm_kmovies_cosine(user_train1,model_knn,i, k)\n",
    "        test_seen_df['cosine_user_recomm']=test_seen_df['userId'].map(cosine_recomm_dict)\n",
    "        test_seen_df['cosine_eval']=test_seen_df.apply(lambda row: evaluation(row.movieId, row.cosine_user_recomm), axis=1)\n",
    "        score = test_seen_df.cosine_eval.mean()\n",
    "        l = [i, k, score]\n",
    "        cos_list.append(l)\n",
    "        "
   ]
  },
  {
   "cell_type": "code",
   "execution_count": 21,
   "metadata": {},
   "outputs": [
    {
     "data": {
      "text/plain": [
       "[[5, 25, 0.3402988236440835],\n",
       " [5, 50, 0.3402988236440835],\n",
       " [5, 75, 0.3402988236440835],\n",
       " [10, 25, 0.4342589006234369],\n",
       " [10, 50, 0.4342589006234369],\n",
       " [10, 75, 0.4342589006234369],\n",
       " [15, 25, 0.48763248777284735],\n",
       " [15, 50, 0.48763248777284735],\n",
       " [15, 75, 0.48763248777284735],\n",
       " [20, 25, 0.5250325256550643],\n",
       " [20, 50, 0.5250325256550643],\n",
       " [20, 75, 0.5250325256550643]]"
      ]
     },
     "execution_count": 21,
     "metadata": {},
     "output_type": "execute_result"
    }
   ],
   "source": [
    "cos_list"
   ]
  },
  {
   "cell_type": "markdown",
   "metadata": {},
   "source": [
    "### KNN with Pearson Similarity\n",
    "https://en.wikipedia.org/wiki/Pearson_correlation_coefficient\n",
    "- pros\n",
    "- cons"
   ]
  },
  {
   "cell_type": "markdown",
   "metadata": {},
   "source": [
    "### Applying PCA before fitting KNN model with pearson correlation similarity"
   ]
  },
  {
   "cell_type": "code",
   "execution_count": 22,
   "metadata": {},
   "outputs": [],
   "source": [
    "from sklearn.decomposition import PCA\n",
    "scaler = MinMaxScaler(feature_range=(-1,1))\n",
    "train_scaled = scaler.fit_transform(user_train1)\n",
    "pca = PCA(.95)\n",
    "pca.fit(train_scaled)\n",
    "ratios = pca.explained_variance_ratio_"
   ]
  },
  {
   "cell_type": "code",
   "execution_count": 23,
   "metadata": {},
   "outputs": [
    {
     "data": {
      "image/png": "[encoded data removed]",
      "text/plain": [
       "<Figure size 432x288 with 1 Axes>"
      ]
     },
     "metadata": {
      "needs_background": "light"
     },
     "output_type": "display_data"
    }
   ],
   "source": [
    "plt.plot(np.cumsum(ratios))\n",
    "plt.xlabel('number of components')\n",
    "plt.ylabel('cumulative explained variance');\n"
   ]
  },
  {
   "cell_type": "code",
   "execution_count": 24,
   "metadata": {},
   "outputs": [],
   "source": [
    "# apply pca to reduce feature dimenstions\n",
    "train_pca = pca.transform(train_scaled)"
   ]
  },
  {
   "cell_type": "code",
   "execution_count": 25,
   "metadata": {},
   "outputs": [
    {
     "data": {
      "text/plain": [
       "((22205, 1906), (22205, 4880))"
      ]
     },
     "execution_count": 25,
     "metadata": {},
     "output_type": "execute_result"
    }
   ],
   "source": [
    "# after dimention reduction\n",
    "train_pca.shape, user_train1.shape"
   ]
  },
  {
   "cell_type": "code",
   "execution_count": 26,
   "metadata": {},
   "outputs": [
    {
     "data": {
      "text/plain": [
       "NearestNeighbors(algorithm='auto', leaf_size=30, metric='correlation',\n",
       "                 metric_params=None, n_jobs=None, n_neighbors=5, p=2,\n",
       "                 radius=1.0)"
      ]
     },
     "execution_count": 26,
     "metadata": {},
     "output_type": "execute_result"
    }
   ],
   "source": [
    "# fit knn model with pearson correlation similarity\n",
    "nbr_corr_pca = NearestNeighbors(metric='correlation',n_neighbors=5)\n",
    "nbr_corr_pca.fit(train_pca)"
   ]
  },
  {
   "cell_type": "code",
   "execution_count": 27,
   "metadata": {},
   "outputs": [],
   "source": [
    "'''\n",
    "arr_train: 1 D arrary and so need to be reshaped as a 2-D array \n",
    "n: n_neighbors\n",
    "k: top k movies \n",
    "output: a dictionary with user_id as key and recommended movies list for each user\n",
    "'''\n",
    "\n",
    "def get_recomm_kmovies_corr(arr_train,df_train, model,n,topk):\n",
    "    recomm_dict={}\n",
    "    df_train_copy=df_train.copy()\n",
    "    df_train_copy.reset_index(inplace=True)\n",
    "# loop each index and get their neighbors\n",
    "    for i in range(df_train.shape[0]):\n",
    "# Turn find the user_id for each index in the model output\n",
    "# (n+1) here means n neighobors because the return from the indices includes user self which correlation is one\n",
    "        distances, indices = model.kneighbors(arr_train[i].reshape(1, -1), n_neighbors = n+1)\n",
    "        indices_list = indices[0].tolist()\n",
    "        uid=df_train_copy.iloc[i, :]['userId']\n",
    "#         indices_list.remove(i) # remove user self\n",
    "        l=[]\n",
    "        for k in indices_list:\n",
    "            neirbor_uid=df_train_copy.iloc[k, :]['userId'].astype(int) #map neibor index to userid\n",
    "            m=train_seen_df.loc[train_seen_df.userId==neirbor_uid,'movieIds'].values[0] # get movids for each neibor userid\n",
    "            l.append(m) # Get all movies     \n",
    "        unnested= [k for i in l for k in i] #unnest the list\n",
    "        if topk > len(unnested):\n",
    "            mvote = topKFrequent(unnested, topk)\n",
    "        else:\n",
    "            mvote = list(set(unnested))  \n",
    "        recomm_dict[uid]=mvote\n",
    "    return recomm_dict"
   ]
  },
  {
   "cell_type": "markdown",
   "metadata": {},
   "source": [
    "#### get recommendations for each user"
   ]
  },
  {
   "cell_type": "code",
   "execution_count": 28,
   "metadata": {},
   "outputs": [
    {
     "name": "stdout",
     "output_type": "stream",
     "text": [
      "CPU times: user 1h 31min 15s, sys: 35min 13s, total: 2h 6min 28s\n",
      "Wall time: 2h 6min 38s\n"
     ]
    }
   ],
   "source": [
    "%%time\n",
    "corr_recomm_dict=get_recomm_kmovies_corr(train_pca,user_train1, nbr_corr_pca, 5, 50)"
   ]
  },
  {
   "cell_type": "code",
   "execution_count": 29,
   "metadata": {},
   "outputs": [
    {
     "data": {
      "text/plain": [
       "0.26844105271325924"
      ]
     },
     "execution_count": 29,
     "metadata": {},
     "output_type": "execute_result"
    }
   ],
   "source": [
    "# get evaluation score\n",
    "test_seen_df['corr_user_recomm']=test_seen_df['userId'].map(corr_recomm_dict)\n",
    "# test_seen_df.head(2)\n",
    "test_seen_df['corr_user_eval']=test_seen_df.apply(lambda row: evaluation(row.movieId, row.corr_user_recomm), axis=1)\n",
    "test_seen_df.corr_user_eval.mean()"
   ]
  },
  {
   "cell_type": "code",
   "execution_count": 32,
   "metadata": {},
   "outputs": [],
   "source": [
    "nb = [5,10,20]\n",
    "topk = [50, 75]\n",
    "corr_list=[]\n",
    "for i in nb:\n",
    "    for k in topk:\n",
    "        corr_recomm_dict=get_recomm_kmovies_corr(train_pca,user_train1, nbr_corr_pca, i, k)\n",
    "        test_seen_df['corr_user_recomm']=test_seen_df['userId'].map(corr_recomm_dict)\n",
    "        test_seen_df['corr_eval']=test_seen_df.apply(lambda row: evaluation(row.movieId, row.corr_user_recomm), axis=1)\n",
    "        score = test_seen_df.corr_eval.mean()\n",
    "        l = [i, k, score]\n",
    "        corr_list.append(l)"
   ]
  },
  {
   "cell_type": "code",
   "execution_count": 33,
   "metadata": {},
   "outputs": [
    {
     "data": {
      "text/plain": [
       "[[5, 50, 0.26844105271325924],\n",
       " [5, 75, 0.26844105271325924],\n",
       " [10, 50, 0.34513784195390546],\n",
       " [10, 75, 0.34513784195390546],\n",
       " [20, 50, 0.4192782332984198],\n",
       " [20, 75, 0.4192782332984198]]"
      ]
     },
     "execution_count": 33,
     "metadata": {},
     "output_type": "execute_result"
    }
   ],
   "source": [
    "corr_list"
   ]
  },
  {
   "cell_type": "markdown",
   "metadata": {},
   "source": [
    "### LightFM"
   ]
  },
  {
   "cell_type": "code",
   "execution_count": 34,
   "metadata": {},
   "outputs": [],
   "source": [
    "from lightfm import LightFM\n",
    "from lightfm.evaluation import precision_at_k"
   ]
  },
  {
   "cell_type": "code",
   "execution_count": 36,
   "metadata": {},
   "outputs": [],
   "source": [
    "item_dict = {}\n",
    "dft = df_movies[['movieId','title']].sort_values('movieId').reset_index()\n",
    "\n",
    "for i in range(dft.shape[0]):\n",
    "    item_dict[(dft.loc[i, 'movieId'])] = dft.loc[i, 'title']"
   ]
  },
  {
   "cell_type": "code",
   "execution_count": 37,
   "metadata": {},
   "outputs": [],
   "source": [
    "# create rating dictionary: key as movieId, value as average ratings\n",
    "# dfr= df_ratings.groupby('movieId').agg({'rating':'mean'}).reset_index().rename({'rating':\"avg_rating\"})\n",
    "dfr = df_ratings.groupby('movieId').agg({'rating':'mean'}).reset_index()\n",
    "dfr.set_index('movieId')['rating'].to_dict()\n",
    "rating_dict = dict(zip(dfr.movieId, dfr.rating))"
   ]
  },
  {
   "cell_type": "code",
   "execution_count": 38,
   "metadata": {},
   "outputs": [
    {
     "name": "stdout",
     "output_type": "stream",
     "text": [
      "   movieId                    title    year            title2  \\\n",
      "0        1         Toy Story (1995)  1995.0         Toy Story   \n",
      "1        2           Jumanji (1995)  1995.0           Jumanji   \n",
      "2        3  Grumpier Old Men (1995)  1995.0  Grumpier Old Men   \n",
      "\n",
      "   (no genres listed)  Action  Adventure  Animation  Children  Comedy  Crime  \\\n",
      "0               False   False       True       True      True    True  False   \n",
      "1               False   False       True      False      True   False  False   \n",
      "2               False   False      False      False     False    True  False   \n",
      "\n",
      "   Documentary  Drama  Fantasy  Film-Noir  Horror   IMAX  Musical  Mystery  \\\n",
      "0        False  False     True      False   False  False    False    False   \n",
      "1        False  False     True      False   False  False    False    False   \n",
      "2        False  False    False      False   False  False    False    False   \n",
      "\n",
      "   Romance  Sci-Fi  Thriller    War  Western  avg_rating  \n",
      "0    False   False     False  False    False         3.9  \n",
      "1    False   False     False  False    False         3.2  \n",
      "2     True   False     False  False    False         3.2  \n",
      "(27278, 45)\n",
      "   movieId  avg_rating_0.5  avg_rating_0.6  avg_rating_0.7  avg_rating_0.8  \\\n",
      "0        1               0               0               0               0   \n",
      "1        2               0               0               0               0   \n",
      "\n",
      "   avg_rating_0.9  avg_rating_1.0  avg_rating_1.1  avg_rating_1.2  \\\n",
      "0               0               0               0               0   \n",
      "1               0               0               0               0   \n",
      "\n",
      "   avg_rating_1.3  avg_rating_1.4  avg_rating_1.5  avg_rating_1.6  \\\n",
      "0               0               0               0               0   \n",
      "1               0               0               0               0   \n",
      "\n",
      "   avg_rating_1.7  avg_rating_1.8  avg_rating_1.9  avg_rating_2.0  \\\n",
      "0               0               0               0               0   \n",
      "1               0               0               0               0   \n",
      "\n",
      "   avg_rating_2.1  avg_rating_2.2  avg_rating_2.3  avg_rating_2.4  \\\n",
      "0               0               0               0               0   \n",
      "1               0               0               0               0   \n",
      "\n",
      "   avg_rating_2.5  avg_rating_2.6  avg_rating_2.7  avg_rating_2.8  \\\n",
      "0               0               0               0               0   \n",
      "1               0               0               0               0   \n",
      "\n",
      "   avg_rating_2.9  avg_rating_3.0  avg_rating_3.1  avg_rating_3.2  \\\n",
      "0               0               0               0               0   \n",
      "1               0               0               0               1   \n",
      "\n",
      "   avg_rating_3.3  avg_rating_3.4  avg_rating_3.5  avg_rating_3.6  \\\n",
      "0               0               0               0               0   \n",
      "1               0               0               0               0   \n",
      "\n",
      "   avg_rating_3.7  avg_rating_3.8  avg_rating_3.9  avg_rating_4.0  \\\n",
      "0               0               0               1               0   \n",
      "1               0               0               0               0   \n",
      "\n",
      "   avg_rating_4.1  avg_rating_4.2  avg_rating_4.3  avg_rating_4.4  \\\n",
      "0               0               0               0               0   \n",
      "1               0               0               0               0   \n",
      "\n",
      "   avg_rating_4.5  avg_rating_4.7  avg_rating_4.8  avg_rating_5.0  \n",
      "0               0               0               0               0  \n",
      "1               0               0               0               0  \n"
     ]
    }
   ],
   "source": [
    "# add avg ratings to the movies dataframe\n",
    "df_movies['avg_rating'] = df_movies['movieId'].map(rating_dict)\n",
    "df_movies['avg_rating'] = round(df_movies['avg_rating'],1)\n",
    "print(df_movies.head(3))\n",
    "\n",
    "# dummify categorical features\n",
    "dfr_transformed = pd.get_dummies(df_movies[['movieId','avg_rating']], columns = ['avg_rating'])\n",
    "print(dfr_transformed.shape)\n",
    "# dfr_transformed.drop(columns =['title','year','title2'], inplace= True)\n",
    "# print(dfr_transformed.shape)\n",
    "\n",
    "print(dfr_transformed.head(2))"
   ]
  },
  {
   "cell_type": "code",
   "execution_count": 39,
   "metadata": {},
   "outputs": [
    {
     "data": {
      "text/plain": [
       "<27278x44 sparse matrix of type '<class 'numpy.uint8'>'\n",
       "\twith 26744 stored elements in Compressed Sparse Row format>"
      ]
     },
     "execution_count": 39,
     "metadata": {},
     "output_type": "execute_result"
    }
   ],
   "source": [
    "# convert to csr matrix\n",
    "movies_csr = csr_matrix(dfr_transformed.drop('movieId', axis=1).values)\n",
    "movies_csr"
   ]
  },
  {
   "cell_type": "code",
   "execution_count": 40,
   "metadata": {},
   "outputs": [],
   "source": [
    "user_id = list(user_train1.index)\n",
    "user_dict = {}\n",
    "counter = 0 \n",
    "for i in user_id:\n",
    "    user_dict[i] = counter\n",
    "    counter += 1"
   ]
  },
  {
   "cell_type": "code",
   "execution_count": 41,
   "metadata": {},
   "outputs": [],
   "source": [
    "# top k Recommendation\n",
    "def recommendation_user(model, interactions, user_id, user_dict, \n",
    "                               item_dict,threshold = 0,nrec_items = 50, show = True):\n",
    "    \n",
    "    n_users, n_items = interactions.shape\n",
    "    user_x = user_dict[user_id]\n",
    "    scores = pd.Series(model.predict(user_x,np.arange(n_items), item_features=movies_csr))\n",
    "    scores.index = interactions.columns\n",
    "    scores = list(pd.Series(scores.sort_values(ascending=False).index))\n",
    "    \n",
    "    known_items = list(pd.Series(interactions.loc[user_id,:] \\\n",
    "                                 [interactions.loc[user_id,:] > threshold].index).sort_values(ascending=False))\n",
    "    \n",
    "    scores = [x for x in scores if x not in known_items]\n",
    "    return_score_list = scores[0:nrec_items]\n",
    "#     known_items = list(pd.Series(known_items).apply(lambda x: item_dict[x]))\n",
    "#     scores = list(pd.Series(return_score_list).apply(lambda x: item_dict[x]))\n",
    "    return return_score_list"
   ]
  },
  {
   "cell_type": "code",
   "execution_count": 42,
   "metadata": {},
   "outputs": [
    {
     "data": {
      "text/plain": [
       "<22205x4880 sparse matrix of type '<class 'numpy.float32'>'\n",
       "\twith 3139784 stored elements in Compressed Sparse Row format>"
      ]
     },
     "execution_count": 42,
     "metadata": {},
     "output_type": "execute_result"
    }
   ],
   "source": [
    "# convert to csr matrix\n",
    "user_train1_csr = csr_matrix(user_train1.values)\n",
    "user_train1_csr"
   ]
  },
  {
   "cell_type": "code",
   "execution_count": 52,
   "metadata": {},
   "outputs": [
    {
     "name": "stdout",
     "output_type": "stream",
     "text": [
      "CPU times: user 13min 33s, sys: 1.62 s, total: 13min 35s\n",
      "Wall time: 13min 36s\n"
     ]
    },
    {
     "data": {
      "text/plain": [
       "<lightfm.lightfm.LightFM at 0x15cb91950>"
      ]
     },
     "execution_count": 52,
     "metadata": {},
     "output_type": "execute_result"
    }
   ],
   "source": [
    "%%time\n",
    "learning_rate = 0.1\n",
    "alpha = 1e-05 \n",
    "epochs = 100 \n",
    "num_components = 32\n",
    "\n",
    "warp_model = LightFM(loss='warp',learning_rate = learning_rate,no_components=num_components,user_alpha=alpha,item_alpha=alpha)\n",
    "#                     learning_schedule='adagrad', max_sampled=100\n",
    "                                      \n",
    "bpr_model = LightFM(loss='bpr',learning_rate = learning_rate ,no_components=num_components,user_alpha=alpha,item_alpha=alpha)\n",
    "#                     learning_schedule='adagrad',\n",
    "                                       \n",
    "warp_model.fit(user_train1_csr, epochs = epochs, num_threads = 16, verbose = False)\n",
    "bpr_model.fit(user_train1_csr, epochs = epochs, num_threads = 16, verbose = False)"
   ]
  },
  {
   "cell_type": "code",
   "execution_count": 53,
   "metadata": {},
   "outputs": [
    {
     "name": "stdout",
     "output_type": "stream",
     "text": [
      "CPU times: user 5min 41s, sys: 960 ms, total: 5min 42s\n",
      "Wall time: 5min 43s\n"
     ]
    }
   ],
   "source": [
    "%%time\n",
    "warp_dict={}\n",
    "for key, value in user_dict.items():\n",
    "    warp_dict[key] = recommendation_user(warp_model, user_train1, key, user_dict, item_dict)\n",
    "\n",
    "bpr_dict={}\n",
    "for key, value in user_dict.items():\n",
    "    bpr_dict[key] = recommendation_user(bpr_model, user_train1, key, user_dict, item_dict)"
   ]
  },
  {
   "cell_type": "code",
   "execution_count": 54,
   "metadata": {},
   "outputs": [
    {
     "data": {
      "text/plain": [
       "0.012845628661107215"
      ]
     },
     "execution_count": 54,
     "metadata": {},
     "output_type": "execute_result"
    }
   ],
   "source": [
    "test_seen_df['bpr_user_recomm']=test_seen_df['userId'].map(bpr_dict)\n",
    "test_seen_df['bpr_user_eval']=test_seen_df.apply(lambda row: evaluation(row.movieId, row.bpr_user_recomm), axis=1)\n",
    "test_seen_df.bpr_user_eval.mean()"
   ]
  },
  {
   "cell_type": "code",
   "execution_count": 55,
   "metadata": {},
   "outputs": [
    {
     "name": "stdout",
     "output_type": "stream",
     "text": [
      "CPU times: user 128 ms, sys: 4.31 ms, total: 133 ms\n",
      "Wall time: 133 ms\n"
     ]
    },
    {
     "data": {
      "text/plain": [
       "0.013116894474609982"
      ]
     },
     "execution_count": 55,
     "metadata": {},
     "output_type": "execute_result"
    }
   ],
   "source": [
    "%%time\n",
    "test_seen_df['warp_user_recomm']=test_seen_df['userId'].map(warp_dict)\n",
    "test_seen_df['warp_user_eval']=test_seen_df.apply(lambda row: evaluation(row.movieId, row.warp_user_recomm), axis=1)\n",
    "test_seen_df.warp_user_eval.mean()"
   ]
  },
  {
   "cell_type": "code",
   "execution_count": null,
   "metadata": {},
   "outputs": [],
   "source": []
  },
  {
   "cell_type": "code",
   "execution_count": 68,
   "metadata": {},
   "outputs": [
    {
     "name": "stdout",
     "output_type": "stream",
     "text": [
      "CPU times: user 10min 36s, sys: 1.33 s, total: 10min 38s\n",
      "Wall time: 10min 39s\n"
     ]
    },
    {
     "data": {
      "text/plain": [
       "<lightfm.lightfm.LightFM at 0x1640318d0>"
      ]
     },
     "execution_count": 68,
     "metadata": {},
     "output_type": "execute_result"
    }
   ],
   "source": [
    "%%time\n",
    "learning_rate = 10000\n",
    "alpha = 1e-05 \n",
    "epochs = 20\n",
    "num_components = 20\n",
    "\n",
    "warp_model = LightFM(loss='warp',learning_rate = learning_rate,no_components=num_components,user_alpha=alpha,item_alpha=alpha)\n",
    "#                     learning_schedule='adagrad', max_sampled=100\n",
    "                                      \n",
    "bpr_model = LightFM(loss='bpr',learning_rate = learning_rate ,no_components=num_components,user_alpha=alpha,item_alpha=alpha)\n",
    "#                     learning_schedule='adagrad',\n",
    "                                       \n",
    "warp_model.fit(user_train1_csr, epochs = epochs, num_threads = 16, verbose = False)\n",
    "bpr_model.fit(user_train1_csr, epochs = epochs, num_threads = 16, verbose = False)"
   ]
  },
  {
   "cell_type": "code",
   "execution_count": 69,
   "metadata": {},
   "outputs": [
    {
     "name": "stdout",
     "output_type": "stream",
     "text": [
      "CPU times: user 6min 24s, sys: 3.24 s, total: 6min 27s\n",
      "Wall time: 6min 28s\n"
     ]
    }
   ],
   "source": [
    "%%time\n",
    "warp_dict={}\n",
    "for key, value in user_dict.items():\n",
    "    warp_dict[key] = recommendation_user(warp_model, user_train1, key, user_dict, item_dict)\n",
    "\n",
    "bpr_dict={}\n",
    "for key, value in user_dict.items():\n",
    "    bpr_dict[key] = recommendation_user(bpr_model, user_train1, key, user_dict, item_dict)"
   ]
  },
  {
   "cell_type": "code",
   "execution_count": 70,
   "metadata": {},
   "outputs": [
    {
     "data": {
      "text/plain": [
       "0.009259984052240253"
      ]
     },
     "execution_count": 70,
     "metadata": {},
     "output_type": "execute_result"
    }
   ],
   "source": [
    "test_seen_df['bpr_user_recomm']=test_seen_df['userId'].map(bpr_dict)\n",
    "test_seen_df['bpr_user_eval']=test_seen_df.apply(lambda row: evaluation(row.movieId, row.bpr_user_recomm), axis=1)\n",
    "test_seen_df.bpr_user_eval.mean()"
   ]
  },
  {
   "cell_type": "code",
   "execution_count": 71,
   "metadata": {},
   "outputs": [
    {
     "name": "stdout",
     "output_type": "stream",
     "text": [
      "CPU times: user 1.21 s, sys: 10.1 ms, total: 1.22 s\n",
      "Wall time: 1.21 s\n"
     ]
    },
    {
     "data": {
      "text/plain": [
       "0.020979628707173813"
      ]
     },
     "execution_count": 71,
     "metadata": {},
     "output_type": "execute_result"
    }
   ],
   "source": [
    "%%time\n",
    "test_seen_df['warp_user_recomm']=test_seen_df['userId'].map(warp_dict)\n",
    "test_seen_df['warp_user_eval']=test_seen_df.apply(lambda row: evaluation(row.movieId, row.warp_user_recomm), axis=1)\n",
    "test_seen_df.warp_user_eval.mean()"
   ]
  },
  {
   "cell_type": "code",
   "execution_count": null,
   "metadata": {},
   "outputs": [],
   "source": []
  },
  {
   "cell_type": "code",
   "execution_count": null,
   "metadata": {},
   "outputs": [],
   "source": [
    "%%time\n",
    "learning_rate = 10000\n",
    "alpha = 1e-05 \n",
    "epochs = 20\n",
    "num_components = 20\n",
    "\n",
    "warp_model = LightFM(loss='warp',learning_rate = learning_rate,no_components=num_components,user_alpha=alpha,item_alpha=alpha)                                       \n",
    "warp_model.fit(user_train1_csr, epochs = epochs, num_threads = 16, verbose = False)\n",
    "\n",
    "warp_dict={}\n",
    "for key, value in user_dict.items():\n",
    "    warp_dict[key] = recommendation_user(warp_model, user_train1, key, user_dict, item_dict)\n",
    "    \n",
    "test_seen_df['warp_user_recomm']=test_seen_df['userId'].map(warp_dict)\n",
    "test_seen_df['warp_user_eval']=test_seen_df.apply(lambda row: evaluation(row.movieId, row.warp_user_recomm), axis=1)\n",
    "test_seen_df.warp_user_eval.mean()"
   ]
  },
  {
   "cell_type": "code",
   "execution_count": null,
   "metadata": {},
   "outputs": [],
   "source": []
  },
  {
   "cell_type": "code",
   "execution_count": 80,
   "metadata": {},
   "outputs": [
    {
     "name": "stdout",
     "output_type": "stream",
     "text": [
      "CPU times: user 1h 40min 42s, sys: 4.63 s, total: 1h 40min 47s\n",
      "Wall time: 1h 40min 51s\n"
     ]
    },
    {
     "data": {
      "text/plain": [
       "<lightfm.lightfm.LightFM at 0x13bf44090>"
      ]
     },
     "execution_count": 80,
     "metadata": {},
     "output_type": "execute_result"
    }
   ],
   "source": [
    "%%time\n",
    "learning_rate = 1000000\n",
    "alpha = 1e-05 \n",
    "epochs = 20\n",
    "num_components = 20\n",
    "\n",
    "lightfm = LightFM(learning_rate = learning_rate,no_components=num_components,user_alpha=alpha,item_alpha=alpha)\n",
    "#                     learning_schedule='adagrad', max_sampled=100\n",
    "                                       \n",
    "lightfm.fit(user_train1_csr, epochs = epochs, num_threads = 16, verbose = False)\n"
   ]
  },
  {
   "cell_type": "code",
   "execution_count": 81,
   "metadata": {},
   "outputs": [
    {
     "name": "stdout",
     "output_type": "stream",
     "text": [
      "CPU times: user 2min 48s, sys: 449 ms, total: 2min 49s\n",
      "Wall time: 2min 49s\n"
     ]
    }
   ],
   "source": [
    "%%time\n",
    "lightfm_dict={}\n",
    "for key, value in user_dict.items():\n",
    "    lightfm_dict[key] = recommendation_user(lightfm, user_train1, key, user_dict, item_dict)"
   ]
  },
  {
   "cell_type": "code",
   "execution_count": 82,
   "metadata": {},
   "outputs": [
    {
     "data": {
      "text/plain": [
       "0.01654046243766223"
      ]
     },
     "execution_count": 82,
     "metadata": {},
     "output_type": "execute_result"
    }
   ],
   "source": [
    "test_seen_df['lightfm_user_recomm']=test_seen_df['userId'].map(lightfm_dict)\n",
    "test_seen_df['lightfm__user_eval']=test_seen_df.apply(lambda row: evaluation(row.movieId, row.lightfm_user_recomm), axis=1)\n",
    "test_seen_df.lightfm__user_eval.mean()"
   ]
  },
  {
   "cell_type": "code",
   "execution_count": null,
   "metadata": {},
   "outputs": [],
   "source": [
    "%%time\n",
    "learning_rate = 1000000\n",
    "alpha = 1e-05 \n",
    "epochs = 20\n",
    "num_components = 200\n",
    "\n",
    "lightfm = LightFM(learning_rate = learning_rate,no_components=num_components,user_alpha=alpha,item_alpha=alpha)\n",
    "#                     learning_schedule='adagrad', max_sampled=100\n",
    "                                       \n",
    "lightfm.fit(user_train1_csr, epochs = epochs, num_threads = 16, verbose = False)\n",
    "lightfm_dict={}\n",
    "for key, value in user_dict.items():\n",
    "    lightfm_dict[key] = recommendation_user(lightfm, user_train1, key, user_dict, item_dict)\n",
    "test_seen_df['lightfm_user_recomm']=test_seen_df['userId'].map(lightfm_dict)\n",
    "test_seen_df['lightfm__user_eval']=test_seen_df.apply(lambda row: evaluation(row.movieId, row.lightfm_user_recomm), axis=1)\n",
    "test_seen_df.lightfm__user_eval.mean()"
   ]
  },
  {
   "cell_type": "code",
   "execution_count": null,
   "metadata": {},
   "outputs": [],
   "source": []
  },
  {
   "cell_type": "code",
   "execution_count": null,
   "metadata": {},
   "outputs": [],
   "source": []
  },
  {
   "cell_type": "code",
   "execution_count": null,
   "metadata": {},
   "outputs": [],
   "source": []
  },
  {
   "cell_type": "code",
   "execution_count": 85,
   "metadata": {},
   "outputs": [
    {
     "name": "stdout",
     "output_type": "stream",
     "text": [
      "CPU times: user 3h 25min 3s, sys: 10.6 s, total: 3h 25min 14s\n",
      "Wall time: 3h 25min 24s\n"
     ]
    },
    {
     "data": {
      "text/plain": [
       "0.008142481021022824"
      ]
     },
     "execution_count": 85,
     "metadata": {},
     "output_type": "execute_result"
    }
   ],
   "source": [
    "%%time\n",
    "learning_rate = 100000000\n",
    "alpha = 1e-05 \n",
    "epochs = 20\n",
    "num_components = 20\n",
    "\n",
    "lightfm = LightFM(learning_rate = learning_rate,no_components=num_components,user_alpha=alpha,item_alpha=alpha)\n",
    "#                     learning_schedule='adagrad', max_sampled=100\n",
    "                                       \n",
    "lightfm.fit(user_train1_csr, epochs = epochs, num_threads = 16, verbose = False)\n",
    "\n",
    "lightfm_dict={}\n",
    "for key, value in user_dict.items():\n",
    "    lightfm_dict[key] = recommendation_user(lightfm, user_train1, key, user_dict, item_dict)\n",
    "    \n",
    "test_seen_df['lightfm_user_recomm']=test_seen_df['userId'].map(lightfm_dict)\n",
    "test_seen_df['lightfm__user_eval']=test_seen_df.apply(lambda row: evaluation(row.movieId, row.lightfm_user_recomm), axis=1)\n",
    "test_seen_df.lightfm__user_eval.mean()"
   ]
  },
  {
   "cell_type": "code",
   "execution_count": null,
   "metadata": {},
   "outputs": [],
   "source": []
  },
  {
   "cell_type": "code",
   "execution_count": 83,
   "metadata": {},
   "outputs": [
    {
     "ename": "TypeError",
     "evalue": "'list' object cannot be interpreted as an integer",
     "output_type": "error",
     "traceback": [
      "\u001b[0;31m---------------------------------------------------------------------------\u001b[0m",
      "\u001b[0;31mTypeError\u001b[0m                                 Traceback (most recent call last)",
      "\u001b[0;32m<timed exec>\u001b[0m in \u001b[0;36m<module>\u001b[0;34m\u001b[0m\n",
      "\u001b[0;32m/opt/anaconda3/lib/python3.7/site-packages/lightfm/lightfm.py\u001b[0m in \u001b[0;36mfit\u001b[0;34m(self, interactions, user_features, item_features, sample_weight, epochs, num_threads, verbose)\u001b[0m\n\u001b[1;32m    477\u001b[0m                                 \u001b[0mepochs\u001b[0m\u001b[0;34m=\u001b[0m\u001b[0mepochs\u001b[0m\u001b[0;34m,\u001b[0m\u001b[0;34m\u001b[0m\u001b[0;34m\u001b[0m\u001b[0m\n\u001b[1;32m    478\u001b[0m                                 \u001b[0mnum_threads\u001b[0m\u001b[0;34m=\u001b[0m\u001b[0mnum_threads\u001b[0m\u001b[0;34m,\u001b[0m\u001b[0;34m\u001b[0m\u001b[0;34m\u001b[0m\u001b[0m\n\u001b[0;32m--> 479\u001b[0;31m                                 verbose=verbose)\n\u001b[0m\u001b[1;32m    480\u001b[0m \u001b[0;34m\u001b[0m\u001b[0m\n\u001b[1;32m    481\u001b[0m     def fit_partial(self, interactions,\n",
      "\u001b[0;32m/opt/anaconda3/lib/python3.7/site-packages/lightfm/lightfm.py\u001b[0m in \u001b[0;36mfit_partial\u001b[0;34m(self, interactions, user_features, item_features, sample_weight, epochs, num_threads, verbose)\u001b[0m\n\u001b[1;32m    564\u001b[0m             \u001b[0;32mraise\u001b[0m \u001b[0mValueError\u001b[0m\u001b[0;34m(\u001b[0m\u001b[0;34m'Incorrect number of features in user_features'\u001b[0m\u001b[0;34m)\u001b[0m\u001b[0;34m\u001b[0m\u001b[0;34m\u001b[0m\u001b[0m\n\u001b[1;32m    565\u001b[0m \u001b[0;34m\u001b[0m\u001b[0m\n\u001b[0;32m--> 566\u001b[0;31m         \u001b[0;32mfor\u001b[0m \u001b[0mepoch\u001b[0m \u001b[0;32min\u001b[0m \u001b[0mrange\u001b[0m\u001b[0;34m(\u001b[0m\u001b[0mepochs\u001b[0m\u001b[0;34m)\u001b[0m\u001b[0;34m:\u001b[0m\u001b[0;34m\u001b[0m\u001b[0;34m\u001b[0m\u001b[0m\n\u001b[0m\u001b[1;32m    567\u001b[0m \u001b[0;34m\u001b[0m\u001b[0m\n\u001b[1;32m    568\u001b[0m             \u001b[0;32mif\u001b[0m \u001b[0mverbose\u001b[0m\u001b[0;34m:\u001b[0m\u001b[0;34m\u001b[0m\u001b[0;34m\u001b[0m\u001b[0m\n",
      "\u001b[0;31mTypeError\u001b[0m: 'list' object cannot be interpreted as an integer"
     ]
    }
   ],
   "source": [
    "%%time\n",
    "learning_rate = [100,100000]\n",
    "num_components = [20,50]\n",
    "alpha = 1e-05\n",
    "epochs = [10,50]\n",
    "bpr_list =[]\n",
    "for i in learning_rate:\n",
    "    for k in num_components:\n",
    "        bpr_model = LightFM(loss='bpr',learning_rate = i,no_components=k ,user_alpha=alpha,item_alpha=alpha)\n",
    "        bpr_model.fit(user_train1_csr, epochs = epochs, num_threads = 16, verbose = False)\n",
    "        bpr_dict={}\n",
    "        for key, value in user_dict.items():\n",
    "            bpr_dict[key] = recommendation_user(bpr_model, user_train1, key, user_dict, item_dict)\n",
    "            test_seen_df['bpr_user_recomm']=test_seen_df['userId'].map(bpr_dict)\n",
    "            test_seen_df['bpr_user_eval']=test_seen_df.apply(lambda row: evaluation(row.movieId, row.bpr_user_recomm), axis=1)\n",
    "            score = test_seen_df.bpr_user_eval.mean()\n",
    "            l = [i, k, alpha, epochs, score]\n",
    "            bpr_list.append(l)\n",
    "                    \n",
    "            \n"
   ]
  },
  {
   "cell_type": "code",
   "execution_count": 67,
   "metadata": {},
   "outputs": [],
   "source": [
    "df_bpr = pd.DataFrame(bpr_list,columns=['learning_rate','num_components','alpha','epochs','evaluation_score'])"
   ]
  },
  {
   "cell_type": "code",
   "execution_count": 84,
   "metadata": {},
   "outputs": [
    {
     "ename": "TypeError",
     "evalue": "'list' object cannot be interpreted as an integer",
     "output_type": "error",
     "traceback": [
      "\u001b[0;31m---------------------------------------------------------------------------\u001b[0m",
      "\u001b[0;31mTypeError\u001b[0m                                 Traceback (most recent call last)",
      "\u001b[0;32m<ipython-input-84-78c89ce6624c>\u001b[0m in \u001b[0;36m<module>\u001b[0;34m\u001b[0m\n\u001b[1;32m      7\u001b[0m     \u001b[0;32mfor\u001b[0m \u001b[0mk\u001b[0m \u001b[0;32min\u001b[0m \u001b[0mnum_components\u001b[0m\u001b[0;34m:\u001b[0m\u001b[0;34m\u001b[0m\u001b[0;34m\u001b[0m\u001b[0m\n\u001b[1;32m      8\u001b[0m         \u001b[0mwarp_model\u001b[0m \u001b[0;34m=\u001b[0m \u001b[0mLightFM\u001b[0m\u001b[0;34m(\u001b[0m\u001b[0mloss\u001b[0m\u001b[0;34m=\u001b[0m\u001b[0;34m'warp'\u001b[0m\u001b[0;34m,\u001b[0m\u001b[0mlearning_rate\u001b[0m \u001b[0;34m=\u001b[0m \u001b[0mi\u001b[0m\u001b[0;34m,\u001b[0m\u001b[0mno_components\u001b[0m\u001b[0;34m=\u001b[0m\u001b[0mk\u001b[0m\u001b[0;34m,\u001b[0m\u001b[0muser_alpha\u001b[0m\u001b[0;34m=\u001b[0m\u001b[0malpha\u001b[0m\u001b[0;34m,\u001b[0m\u001b[0mitem_alpha\u001b[0m\u001b[0;34m=\u001b[0m\u001b[0malpha\u001b[0m\u001b[0;34m)\u001b[0m\u001b[0;34m\u001b[0m\u001b[0;34m\u001b[0m\u001b[0m\n\u001b[0;32m----> 9\u001b[0;31m         \u001b[0mwarp_model\u001b[0m\u001b[0;34m.\u001b[0m\u001b[0mfit\u001b[0m\u001b[0;34m(\u001b[0m\u001b[0muser_train1_csr\u001b[0m\u001b[0;34m,\u001b[0m \u001b[0mepochs\u001b[0m \u001b[0;34m=\u001b[0m \u001b[0mepochs\u001b[0m\u001b[0;34m,\u001b[0m \u001b[0mnum_threads\u001b[0m \u001b[0;34m=\u001b[0m \u001b[0;36m16\u001b[0m\u001b[0;34m,\u001b[0m \u001b[0mverbose\u001b[0m \u001b[0;34m=\u001b[0m \u001b[0;32mFalse\u001b[0m\u001b[0;34m)\u001b[0m\u001b[0;34m\u001b[0m\u001b[0;34m\u001b[0m\u001b[0m\n\u001b[0m\u001b[1;32m     10\u001b[0m         \u001b[0mwarp_dict\u001b[0m\u001b[0;34m=\u001b[0m\u001b[0;34m{\u001b[0m\u001b[0;34m}\u001b[0m\u001b[0;34m\u001b[0m\u001b[0;34m\u001b[0m\u001b[0m\n\u001b[1;32m     11\u001b[0m         \u001b[0;32mfor\u001b[0m \u001b[0mkey\u001b[0m\u001b[0;34m,\u001b[0m \u001b[0mvalue\u001b[0m \u001b[0;32min\u001b[0m \u001b[0muser_dict\u001b[0m\u001b[0;34m.\u001b[0m\u001b[0mitems\u001b[0m\u001b[0;34m(\u001b[0m\u001b[0;34m)\u001b[0m\u001b[0;34m:\u001b[0m\u001b[0;34m\u001b[0m\u001b[0;34m\u001b[0m\u001b[0m\n",
      "\u001b[0;32m/opt/anaconda3/lib/python3.7/site-packages/lightfm/lightfm.py\u001b[0m in \u001b[0;36mfit\u001b[0;34m(self, interactions, user_features, item_features, sample_weight, epochs, num_threads, verbose)\u001b[0m\n\u001b[1;32m    477\u001b[0m                                 \u001b[0mepochs\u001b[0m\u001b[0;34m=\u001b[0m\u001b[0mepochs\u001b[0m\u001b[0;34m,\u001b[0m\u001b[0;34m\u001b[0m\u001b[0;34m\u001b[0m\u001b[0m\n\u001b[1;32m    478\u001b[0m                                 \u001b[0mnum_threads\u001b[0m\u001b[0;34m=\u001b[0m\u001b[0mnum_threads\u001b[0m\u001b[0;34m,\u001b[0m\u001b[0;34m\u001b[0m\u001b[0;34m\u001b[0m\u001b[0m\n\u001b[0;32m--> 479\u001b[0;31m                                 verbose=verbose)\n\u001b[0m\u001b[1;32m    480\u001b[0m \u001b[0;34m\u001b[0m\u001b[0m\n\u001b[1;32m    481\u001b[0m     def fit_partial(self, interactions,\n",
      "\u001b[0;32m/opt/anaconda3/lib/python3.7/site-packages/lightfm/lightfm.py\u001b[0m in \u001b[0;36mfit_partial\u001b[0;34m(self, interactions, user_features, item_features, sample_weight, epochs, num_threads, verbose)\u001b[0m\n\u001b[1;32m    564\u001b[0m             \u001b[0;32mraise\u001b[0m \u001b[0mValueError\u001b[0m\u001b[0;34m(\u001b[0m\u001b[0;34m'Incorrect number of features in user_features'\u001b[0m\u001b[0;34m)\u001b[0m\u001b[0;34m\u001b[0m\u001b[0;34m\u001b[0m\u001b[0m\n\u001b[1;32m    565\u001b[0m \u001b[0;34m\u001b[0m\u001b[0m\n\u001b[0;32m--> 566\u001b[0;31m         \u001b[0;32mfor\u001b[0m \u001b[0mepoch\u001b[0m \u001b[0;32min\u001b[0m \u001b[0mrange\u001b[0m\u001b[0;34m(\u001b[0m\u001b[0mepochs\u001b[0m\u001b[0;34m)\u001b[0m\u001b[0;34m:\u001b[0m\u001b[0;34m\u001b[0m\u001b[0;34m\u001b[0m\u001b[0m\n\u001b[0m\u001b[1;32m    567\u001b[0m \u001b[0;34m\u001b[0m\u001b[0m\n\u001b[1;32m    568\u001b[0m             \u001b[0;32mif\u001b[0m \u001b[0mverbose\u001b[0m\u001b[0;34m:\u001b[0m\u001b[0;34m\u001b[0m\u001b[0;34m\u001b[0m\u001b[0m\n",
      "\u001b[0;31mTypeError\u001b[0m: 'list' object cannot be interpreted as an integer"
     ]
    }
   ],
   "source": [
    "learning_rate = [100,100000]\n",
    "num_components = [20,50]\n",
    "alpha = 1e-05\n",
    "epochs = [10,50]\n",
    "warp_list =[]\n",
    "for i in learning_rate:\n",
    "    for k in num_components:\n",
    "        warp_model = LightFM(loss='warp',learning_rate = i,no_components=k,user_alpha=alpha,item_alpha=alpha)\n",
    "        warp_model.fit(user_train1_csr, epochs = epochs, num_threads = 16, verbose = False)\n",
    "        warp_dict={}\n",
    "        for key, value in user_dict.items():\n",
    "            warp_dict[key] = recommendation_user(warp_model, user_train1, key, user_dict, item_dict)\n",
    "            test_seen_df['warp_user_recomm']=test_seen_df['userId'].map(warp_dict)\n",
    "            test_seen_df['warp_user_eval']=test_seen_df.apply(lambda row: evaluation(row.movieId, row.warp_user_recomm), axis=1)\n",
    "            score = test_seen_df.warp_user_eval.mean()\n",
    "            l = [i, k, alpha, epochs, score]\n",
    "            warp_list.append(l)"
   ]
  },
  {
   "cell_type": "code",
   "execution_count": null,
   "metadata": {},
   "outputs": [],
   "source": [
    "df_warp = pd.DataFrame(warp_list,columns=['learning_rate','num_components','alpha','epochs','evaluation_score'])"
   ]
  },
  {
   "cell_type": "code",
   "execution_count": null,
   "metadata": {},
   "outputs": [],
   "source": []
  },
  {
   "cell_type": "markdown",
   "metadata": {},
   "source": [
    "## Hyperparameter tuning\n",
    "\n",
    "https://stackoverflow.com/questions/34624978/is-there-easy-way-to-grid-search-without-cross-validation-in-python"
   ]
  },
  {
   "cell_type": "code",
   "execution_count": null,
   "metadata": {},
   "outputs": [],
   "source": [
    "def test_regression():\n",
    "    # Check regression for various parameter settings.\n",
    "    rng = check_random_state(0)\n",
    "    X_train, X_test, y_train, y_test = train_test_split(boston.data[:50],\n",
    "                                                        boston.target[:50],\n",
    "                                                        random_state=rng)\n",
    "    grid = ParameterGrid({\"max_samples\": [0.5, 1.0],\n",
    "                          \"max_features\": [0.5, 1.0],\n",
    "                          \"bootstrap\": [True, False],\n",
    "                          \"bootstrap_features\": [True, False]})\n",
    "\n",
    "    for base_estimator in [None,\n",
    "                           DummyRegressor(),\n",
    "                           DecisionTreeRegressor(),\n",
    "                           KNeighborsRegressor(),\n",
    "                           SVR()]:\n",
    "        for params in grid:\n",
    "            BaggingRegressor(base_estimator=base_estimator,\n",
    "                             random_state=rng,\n",
    "                             **params).fit(X_train, y_train).predict(X_test)"
   ]
  },
  {
   "cell_type": "code",
   "execution_count": null,
   "metadata": {},
   "outputs": [],
   "source": [
    "# Create params grid object\n",
    "\n",
    "from sklearn.model_selection import ParameterGrid\n",
    "\n",
    "param_grid = {\n",
    "              'model' : [m]\n",
    "              , 'initial' : ['730 days','500 days']\n",
    "              , 'period'  : ['180 days']\n",
    "              , 'horizon' : ['365 days']\n",
    "              }\n",
    "\n",
    ">>> list(ParameterGrid(param_grid))\n",
    "    [{'model': <fbprophet.forecaster.Prophet at 0x11cd0bba8>,\n",
    "      'initial': '730 days',\n",
    "      'period': '180 days',\n",
    "      'horizon': '365 days'},\n",
    "     {'model': <fbprophet.forecaster.Prophet at 0x11cd0bba8>,\n",
    "      'initial': '500 days',\n",
    "      'period': '180 days',\n",
    "      'horizon': '365 days'}]\n",
    "   "
   ]
  },
  {
   "cell_type": "code",
   "execution_count": null,
   "metadata": {},
   "outputs": [],
   "source": []
  }
 ],
 "metadata": {
  "kernelspec": {
   "display_name": "Python 3",
   "language": "python",
   "name": "python3"
  },
  "language_info": {
   "codemirror_mode": {
    "name": "ipython",
    "version": 3
   },
   "file_extension": ".py",
   "mimetype": "text/x-python",
   "name": "python",
   "nbconvert_exporter": "python",
   "pygments_lexer": "ipython3",
   "version": "3.7.4"
  }
 },
 "nbformat": 4,
 "nbformat_minor": 4
}
