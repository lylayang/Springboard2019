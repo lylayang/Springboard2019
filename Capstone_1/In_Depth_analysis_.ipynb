{
  "nbformat": 4,
  "nbformat_minor": 0,
  "metadata": {
    "colab": {
      "name": "Copy of In Depth analysis .ipynb",
      "provenance": [],
      "collapsed_sections": [
        "JxGxTGfXEsez",
        "o61Nl5IdFDBg"
      ],
      "toc_visible": true
    },
    "kernelspec": {
      "name": "python3",
      "display_name": "Python 3"
    }
  },
  "cells": [
    {
      "cell_type": "markdown",
      "metadata": {
        "id": "73mtoC_G7jeX",
        "colab_type": "text"
      },
      "source": [
        "\n",
        "# Summary of the Content\n",
        "1. **Define the Problem:** \n",
        "Predict whether the customer will purchase again in the next 12 month after the first purchase completed.\n",
        "\n",
        "2. **Gather the Data:** \n",
        "Get the raw from a ecommerce store via BigQuery tabales\n",
        "\n",
        "3. **Prepare Data for Consumption:** \n",
        "*   (1) Calculate 12 month purchase frequency and CLV\n",
        "*   (2) Clean-up\n",
        "*   (3) Handling missing data\n",
        "\n",
        "\n",
        "4. **Perform Exploratory Analysis:** \n",
        "\n",
        "*   (1) Basic descriptive statistics: min, mean, median, quantiles, max\n",
        "*   (2) Check distributions\n",
        "*   (3) Correlations\n",
        "\n",
        "Imbalanced classifiction problem\n",
        "\n",
        "5. **Feature Engineering**\n",
        "\n",
        "*   (1) Creating dummy variables for: binary features and low cardinal categorical features\n",
        "*   (2) Target encoding for high cardinal categorical features\n",
        "\n",
        "6. **Modeling and hyperparameter tunning :** \n",
        "\n",
        "-   Logistic Regression\n",
        "-   Decision Tree\n",
        "-   RandomForest\n",
        "\n",
        "- Grid search_cv \n",
        "\n",
        "7. **Evaluation and model selection :** \n",
        "\n",
        "\n",
        "\n",
        "\n",
        "8. **Optimize and Strategize:** \n",
        "\n"
      ]
    },
    {
      "cell_type": "markdown",
      "metadata": {
        "id": "iU4kYQK_FKf5",
        "colab_type": "text"
      },
      "source": [
        "## 3.Prepare Data for Consumption:"
      ]
    },
    {
      "cell_type": "code",
      "metadata": {
        "id": "VO-GGnBNFnsI",
        "colab_type": "code",
        "colab": {
          "base_uri": "https://localhost:8080/",
          "height": 224
        },
        "outputId": "3c7706a6-51ef-4782-a520-039072d89e66"
      },
      "source": [
        "import os\n",
        "import glob\n",
        "import datetime \n",
        "import pandas as pd\n",
        "import numpy as np\n",
        "import sys\n",
        "\n",
        "import warnings\n",
        "warnings.filterwarnings('ignore')\n",
        "pd.set_option('display.max_columns', None)\n",
        "pd.set_option('display.max_rows', None)\n",
        "\n",
        "from sklearn import preprocessing\n",
        "!pip install category_encoders\n",
        "from category_encoders import TargetEncoder\n",
        "from sklearn.preprocessing import OneHotEncoder, LabelEncoder\n",
        "from sklearn import feature_selection\n",
        "from sklearn import model_selection\n",
        "from sklearn.model_selection import ParameterGrid\n",
        "\n",
        "from sklearn.tree import DecisionTreeClassifier\n",
        "from sklearn.linear_model import LogisticRegression\n",
        "from sklearn.ensemble import RandomForestClassifier \n",
        "from sklearn.tree import export_graphviz\n",
        "import graphviz\n",
        "from graphviz import Source\n",
        "\n",
        "from sklearn import metrics\n",
        "from sklearn.metrics import roc_curve, auc\n",
        "from sklearn.metrics import confusion_matrix\n",
        "from sklearn.metrics import accuracy_score,recall_score,precision_score,f1_score\n",
        "\n",
        "\n",
        "import matplotlib as mpl\n",
        "import matplotlib.pyplot as plt\n",
        "%matplotlib inline\n",
        "import matplotlib.pylab as pylab\n",
        "import seaborn as sns\n",
        "from pandas.plotting import scatter_matrix"
      ],
      "execution_count": 1,
      "outputs": [
        {
          "output_type": "stream",
          "text": [
            "Requirement already satisfied: category_encoders in /usr/local/lib/python3.6/dist-packages (2.2.2)\n",
            "Requirement already satisfied: scikit-learn>=0.20.0 in /usr/local/lib/python3.6/dist-packages (from category_encoders) (0.22.2.post1)\n",
            "Requirement already satisfied: numpy>=1.14.0 in /usr/local/lib/python3.6/dist-packages (from category_encoders) (1.18.5)\n",
            "Requirement already satisfied: pandas>=0.21.1 in /usr/local/lib/python3.6/dist-packages (from category_encoders) (1.0.5)\n",
            "Requirement already satisfied: patsy>=0.5.1 in /usr/local/lib/python3.6/dist-packages (from category_encoders) (0.5.1)\n",
            "Requirement already satisfied: statsmodels>=0.9.0 in /usr/local/lib/python3.6/dist-packages (from category_encoders) (0.10.2)\n",
            "Requirement already satisfied: scipy>=1.0.0 in /usr/local/lib/python3.6/dist-packages (from category_encoders) (1.4.1)\n",
            "Requirement already satisfied: joblib>=0.11 in /usr/local/lib/python3.6/dist-packages (from scikit-learn>=0.20.0->category_encoders) (0.15.1)\n",
            "Requirement already satisfied: python-dateutil>=2.6.1 in /usr/local/lib/python3.6/dist-packages (from pandas>=0.21.1->category_encoders) (2.8.1)\n",
            "Requirement already satisfied: pytz>=2017.2 in /usr/local/lib/python3.6/dist-packages (from pandas>=0.21.1->category_encoders) (2018.9)\n",
            "Requirement already satisfied: six in /usr/local/lib/python3.6/dist-packages (from patsy>=0.5.1->category_encoders) (1.12.0)\n"
          ],
          "name": "stdout"
        }
      ]
    },
    {
      "cell_type": "code",
      "metadata": {
        "id": "MNwOkbypFtD2",
        "colab_type": "code",
        "colab": {}
      },
      "source": [
        "# find the unique values in each column\n",
        "def unique_counts(customer):\n",
        "    for i in customer.columns:\n",
        "        count=customer[i].nunique()\n",
        "        print(i, ':', count)\n",
        "        \n",
        "\n",
        "#print missing value table\n",
        "def missing_values_table(df):\n",
        "        mis_val = df.isnull().sum()\n",
        "        mis_val_percent = 100 * df.isnull().sum() / len(df)\n",
        "        mis_val_table = pd.concat([mis_val, mis_val_percent], axis=1)\n",
        "        mis_val_table_ren_columns = mis_val_table.rename(\n",
        "        columns = {0 : 'Missing Values ', 1 : '% of Total Values'})\n",
        "        mis_val_table_ren_columns = mis_val_table_ren_columns[\n",
        "            mis_val_table_ren_columns.iloc[:,1] != 0].sort_values(\n",
        "        '% of Total Values', ascending=False).round(1)\n",
        "        print (\"Your selected dataframe has \" + str(df.shape[1]) + \" columns.\\n\"      \n",
        "            \"There are \" + str(mis_val_table_ren_columns.shape[0]) +\n",
        "              \" columns that have missing values.\")\n",
        "        return mis_val_table_ren_columns \n"
      ],
      "execution_count": 2,
      "outputs": []
    },
    {
      "cell_type": "code",
      "metadata": {
        "id": "J0Bk5qKs7u3J",
        "colab_type": "code",
        "colab": {
          "resources": {
            "http://localhost:8080/nbextensions/google.colab/files.js": {
              "data": "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",
              "ok": true,
              "headers": [
                [
                  "content-type",
                  "application/javascript"
                ]
              ],
              "status": 200,
              "status_text": ""
            }
          },
          "base_uri": "https://localhost:8080/",
          "height": 72
        },
        "outputId": "9e67ab2b-a089-472f-ddaf-be97bde6cb39"
      },
      "source": [
        "#upload the csv file to colab generated from 'Gather the data' Process\n",
        "from google.colab import files\n",
        "uploaded = files.upload()\n"
      ],
      "execution_count": 3,
      "outputs": [
        {
          "output_type": "display_data",
          "data": {
            "text/html": [
              "\n",
              "     <input type=\"file\" id=\"files-cf0414c9-e861-4499-bc60-abd933a1e97e\" name=\"files[]\" multiple disabled\n",
              "        style=\"border:none\" />\n",
              "     <output id=\"result-cf0414c9-e861-4499-bc60-abd933a1e97e\">\n",
              "      Upload widget is only available when the cell has been executed in the\n",
              "      current browser session. Please rerun this cell to enable.\n",
              "      </output>\n",
              "      <script src=\"/nbextensions/google.colab/files.js\"></script> "
            ],
            "text/plain": [
              "<IPython.core.display.HTML object>"
            ]
          },
          "metadata": {
            "tags": []
          }
        },
        {
          "output_type": "stream",
          "text": [
            "Saving clv_file.csv to clv_file (4).csv\n"
          ],
          "name": "stdout"
        }
      ]
    },
    {
      "cell_type": "code",
      "metadata": {
        "id": "jYcn58-GNunu",
        "colab_type": "code",
        "colab": {
          "base_uri": "https://localhost:8080/",
          "height": 34
        },
        "outputId": "bfe49e6f-8f9c-4e94-99cd-4d60ec35596e"
      },
      "source": [
        "customers = pd.read_csv('clv_file (4).csv')\n",
        "customers.shape"
      ],
      "execution_count": 43,
      "outputs": [
        {
          "output_type": "execute_result",
          "data": {
            "text/plain": [
              "(536811, 26)"
            ]
          },
          "metadata": {
            "tags": []
          },
          "execution_count": 43
        }
      ]
    },
    {
      "cell_type": "code",
      "metadata": {
        "id": "xfwHTZlFNFzI",
        "colab_type": "code",
        "colab": {
          "base_uri": "https://localhost:8080/",
          "height": 224
        },
        "outputId": "cc6c561b-e296-4b89-dd1a-1592fcbdbaa8"
      },
      "source": [
        "customers.head()"
      ],
      "execution_count": 44,
      "outputs": [
        {
          "output_type": "execute_result",
          "data": {
            "text/html": [
              "<div>\n",
              "<style scoped>\n",
              "    .dataframe tbody tr th:only-of-type {\n",
              "        vertical-align: middle;\n",
              "    }\n",
              "\n",
              "    .dataframe tbody tr th {\n",
              "        vertical-align: top;\n",
              "    }\n",
              "\n",
              "    .dataframe thead th {\n",
              "        text-align: right;\n",
              "    }\n",
              "</style>\n",
              "<table border=\"1\" class=\"dataframe\">\n",
              "  <thead>\n",
              "    <tr style=\"text-align: right;\">\n",
              "      <th></th>\n",
              "      <th>uid</th>\n",
              "      <th>buyer_accepts_marketing</th>\n",
              "      <th>order_date</th>\n",
              "      <th>order_id</th>\n",
              "      <th>order_revenue</th>\n",
              "      <th>total_discounts</th>\n",
              "      <th>landing_site</th>\n",
              "      <th>landing_site_ref</th>\n",
              "      <th>referring_site</th>\n",
              "      <th>tags</th>\n",
              "      <th>utm_campaign</th>\n",
              "      <th>utm_source</th>\n",
              "      <th>utm_medium</th>\n",
              "      <th>utm_term</th>\n",
              "      <th>utm_content</th>\n",
              "      <th>first_order_date</th>\n",
              "      <th>SP</th>\n",
              "      <th>DD</th>\n",
              "      <th>AE</th>\n",
              "      <th>country_code</th>\n",
              "      <th>province_code</th>\n",
              "      <th>requires_shipping</th>\n",
              "      <th>item_qty</th>\n",
              "      <th>unique_item</th>\n",
              "      <th>revenue_12m</th>\n",
              "      <th>order_count_12m</th>\n",
              "    </tr>\n",
              "  </thead>\n",
              "  <tbody>\n",
              "    <tr>\n",
              "      <th>0</th>\n",
              "      <td>-1.600000e+18</td>\n",
              "      <td>False</td>\n",
              "      <td>7/31/16</td>\n",
              "      <td>3.639006e+09</td>\n",
              "      <td>20.0</td>\n",
              "      <td>0.0</td>\n",
              "      <td>/</td>\n",
              "      <td>NaN</td>\n",
              "      <td>http://www.I4.com/</td>\n",
              "      <td>NaN</td>\n",
              "      <td>NaN</td>\n",
              "      <td>NaN</td>\n",
              "      <td>NaN</td>\n",
              "      <td>NaN</td>\n",
              "      <td>NaN</td>\n",
              "      <td>2016-07-31</td>\n",
              "      <td>NaN</td>\n",
              "      <td>NaN</td>\n",
              "      <td>NaN</td>\n",
              "      <td>US</td>\n",
              "      <td>MA</td>\n",
              "      <td>False</td>\n",
              "      <td>1</td>\n",
              "      <td>1</td>\n",
              "      <td>20.0</td>\n",
              "      <td>1</td>\n",
              "    </tr>\n",
              "    <tr>\n",
              "      <th>1</th>\n",
              "      <td>-5.490000e+18</td>\n",
              "      <td>True</td>\n",
              "      <td>7/31/16</td>\n",
              "      <td>3.638473e+09</td>\n",
              "      <td>20.0</td>\n",
              "      <td>0.0</td>\n",
              "      <td>/</td>\n",
              "      <td>NaN</td>\n",
              "      <td>http://www.wykss.com/</td>\n",
              "      <td>NaN</td>\n",
              "      <td>NaN</td>\n",
              "      <td>NaN</td>\n",
              "      <td>NaN</td>\n",
              "      <td>NaN</td>\n",
              "      <td>NaN</td>\n",
              "      <td>2016-07-31</td>\n",
              "      <td>NaN</td>\n",
              "      <td>NaN</td>\n",
              "      <td>NaN</td>\n",
              "      <td>US</td>\n",
              "      <td>OH</td>\n",
              "      <td>False</td>\n",
              "      <td>1</td>\n",
              "      <td>1</td>\n",
              "      <td>20.0</td>\n",
              "      <td>1</td>\n",
              "    </tr>\n",
              "    <tr>\n",
              "      <th>2</th>\n",
              "      <td>3.840000e+18</td>\n",
              "      <td>False</td>\n",
              "      <td>7/31/16</td>\n",
              "      <td>3.633415e+09</td>\n",
              "      <td>20.0</td>\n",
              "      <td>0.0</td>\n",
              "      <td>/</td>\n",
              "      <td>NaN</td>\n",
              "      <td>http://shop.wykss.com/</td>\n",
              "      <td>NaN</td>\n",
              "      <td>NaN</td>\n",
              "      <td>NaN</td>\n",
              "      <td>NaN</td>\n",
              "      <td>NaN</td>\n",
              "      <td>NaN</td>\n",
              "      <td>2016-07-31</td>\n",
              "      <td>NaN</td>\n",
              "      <td>NaN</td>\n",
              "      <td>NaN</td>\n",
              "      <td>US</td>\n",
              "      <td>OH</td>\n",
              "      <td>False</td>\n",
              "      <td>1</td>\n",
              "      <td>1</td>\n",
              "      <td>20.0</td>\n",
              "      <td>1</td>\n",
              "    </tr>\n",
              "    <tr>\n",
              "      <th>3</th>\n",
              "      <td>2.380000e+18</td>\n",
              "      <td>True</td>\n",
              "      <td>7/31/16</td>\n",
              "      <td>3.636015e+09</td>\n",
              "      <td>20.0</td>\n",
              "      <td>0.0</td>\n",
              "      <td>/</td>\n",
              "      <td>NaN</td>\n",
              "      <td>http://shop.wykss.com/</td>\n",
              "      <td>NaN</td>\n",
              "      <td>NaN</td>\n",
              "      <td>NaN</td>\n",
              "      <td>NaN</td>\n",
              "      <td>NaN</td>\n",
              "      <td>NaN</td>\n",
              "      <td>2016-07-31</td>\n",
              "      <td>NaN</td>\n",
              "      <td>NaN</td>\n",
              "      <td>NaN</td>\n",
              "      <td>US</td>\n",
              "      <td>NY</td>\n",
              "      <td>False</td>\n",
              "      <td>1</td>\n",
              "      <td>1</td>\n",
              "      <td>20.0</td>\n",
              "      <td>1</td>\n",
              "    </tr>\n",
              "    <tr>\n",
              "      <th>4</th>\n",
              "      <td>-6.390000e+18</td>\n",
              "      <td>False</td>\n",
              "      <td>7/31/16</td>\n",
              "      <td>3.636490e+09</td>\n",
              "      <td>20.0</td>\n",
              "      <td>0.0</td>\n",
              "      <td>/</td>\n",
              "      <td>NaN</td>\n",
              "      <td>http://www.wykss.com/</td>\n",
              "      <td>NaN</td>\n",
              "      <td>NaN</td>\n",
              "      <td>NaN</td>\n",
              "      <td>NaN</td>\n",
              "      <td>NaN</td>\n",
              "      <td>NaN</td>\n",
              "      <td>2016-07-31</td>\n",
              "      <td>NaN</td>\n",
              "      <td>Y</td>\n",
              "      <td>Y</td>\n",
              "      <td>US</td>\n",
              "      <td>WI</td>\n",
              "      <td>False</td>\n",
              "      <td>1</td>\n",
              "      <td>1</td>\n",
              "      <td>20.0</td>\n",
              "      <td>1</td>\n",
              "    </tr>\n",
              "  </tbody>\n",
              "</table>\n",
              "</div>"
            ],
            "text/plain": [
              "            uid  buyer_accepts_marketing order_date      order_id  \\\n",
              "0 -1.600000e+18                    False    7/31/16  3.639006e+09   \n",
              "1 -5.490000e+18                     True    7/31/16  3.638473e+09   \n",
              "2  3.840000e+18                    False    7/31/16  3.633415e+09   \n",
              "3  2.380000e+18                     True    7/31/16  3.636015e+09   \n",
              "4 -6.390000e+18                    False    7/31/16  3.636490e+09   \n",
              "\n",
              "   order_revenue  total_discounts landing_site landing_site_ref  \\\n",
              "0           20.0              0.0            /              NaN   \n",
              "1           20.0              0.0            /              NaN   \n",
              "2           20.0              0.0            /              NaN   \n",
              "3           20.0              0.0            /              NaN   \n",
              "4           20.0              0.0            /              NaN   \n",
              "\n",
              "           referring_site tags utm_campaign utm_source utm_medium utm_term  \\\n",
              "0      http://www.I4.com/  NaN          NaN        NaN        NaN      NaN   \n",
              "1   http://www.wykss.com/  NaN          NaN        NaN        NaN      NaN   \n",
              "2  http://shop.wykss.com/  NaN          NaN        NaN        NaN      NaN   \n",
              "3  http://shop.wykss.com/  NaN          NaN        NaN        NaN      NaN   \n",
              "4   http://www.wykss.com/  NaN          NaN        NaN        NaN      NaN   \n",
              "\n",
              "  utm_content first_order_date   SP   DD   AE country_code province_code  \\\n",
              "0         NaN       2016-07-31  NaN  NaN  NaN           US            MA   \n",
              "1         NaN       2016-07-31  NaN  NaN  NaN           US            OH   \n",
              "2         NaN       2016-07-31  NaN  NaN  NaN           US            OH   \n",
              "3         NaN       2016-07-31  NaN  NaN  NaN           US            NY   \n",
              "4         NaN       2016-07-31  NaN    Y    Y           US            WI   \n",
              "\n",
              "   requires_shipping  item_qty  unique_item  revenue_12m  order_count_12m  \n",
              "0              False         1            1         20.0                1  \n",
              "1              False         1            1         20.0                1  \n",
              "2              False         1            1         20.0                1  \n",
              "3              False         1            1         20.0                1  \n",
              "4              False         1            1         20.0                1  "
            ]
          },
          "metadata": {
            "tags": []
          },
          "execution_count": 44
        }
      ]
    },
    {
      "cell_type": "code",
      "metadata": {
        "id": "bxqI4SLY4sEi",
        "colab_type": "code",
        "colab": {
          "base_uri": "https://localhost:8080/",
          "height": 578
        },
        "outputId": "d1042467-c6a6-4d8c-bb1e-d4468eb2591f"
      },
      "source": [
        "customers.info()"
      ],
      "execution_count": 45,
      "outputs": [
        {
          "output_type": "stream",
          "text": [
            "<class 'pandas.core.frame.DataFrame'>\n",
            "RangeIndex: 536811 entries, 0 to 536810\n",
            "Data columns (total 26 columns):\n",
            " #   Column                   Non-Null Count   Dtype  \n",
            "---  ------                   --------------   -----  \n",
            " 0   uid                      536811 non-null  float64\n",
            " 1   buyer_accepts_marketing  536811 non-null  bool   \n",
            " 2   order_date               536811 non-null  object \n",
            " 3   order_id                 536811 non-null  float64\n",
            " 4   order_revenue            536811 non-null  float64\n",
            " 5   total_discounts          536811 non-null  float64\n",
            " 6   landing_site             534257 non-null  object \n",
            " 7   landing_site_ref         2 non-null       object \n",
            " 8   referring_site           354646 non-null  object \n",
            " 9   tags                     2457 non-null    object \n",
            " 10  utm_campaign             53205 non-null   object \n",
            " 11  utm_source               53393 non-null   object \n",
            " 12  utm_medium               53335 non-null   object \n",
            " 13  utm_term                 21700 non-null   object \n",
            " 14  utm_content              579 non-null     object \n",
            " 15  first_order_date         536811 non-null  object \n",
            " 16  SP                       10931 non-null   object \n",
            " 17  DD                       160523 non-null  object \n",
            " 18  AE                       26911 non-null   object \n",
            " 19  country_code             524879 non-null  object \n",
            " 20  province_code            469742 non-null  object \n",
            " 21  requires_shipping        536811 non-null  bool   \n",
            " 22  item_qty                 536811 non-null  int64  \n",
            " 23  unique_item              536811 non-null  int64  \n",
            " 24  revenue_12m              536811 non-null  float64\n",
            " 25  order_count_12m          536811 non-null  int64  \n",
            "dtypes: bool(2), float64(5), int64(3), object(16)\n",
            "memory usage: 99.3+ MB\n"
          ],
          "name": "stdout"
        }
      ]
    },
    {
      "cell_type": "code",
      "metadata": {
        "id": "qda4rxvqZHEU",
        "colab_type": "code",
        "colab": {
          "base_uri": "https://localhost:8080/",
          "height": 297
        },
        "outputId": "4306dc4a-016f-480e-df9d-dd4b5ad22d10"
      },
      "source": [
        "customers.describe()"
      ],
      "execution_count": 46,
      "outputs": [
        {
          "output_type": "execute_result",
          "data": {
            "text/html": [
              "<div>\n",
              "<style scoped>\n",
              "    .dataframe tbody tr th:only-of-type {\n",
              "        vertical-align: middle;\n",
              "    }\n",
              "\n",
              "    .dataframe tbody tr th {\n",
              "        vertical-align: top;\n",
              "    }\n",
              "\n",
              "    .dataframe thead th {\n",
              "        text-align: right;\n",
              "    }\n",
              "</style>\n",
              "<table border=\"1\" class=\"dataframe\">\n",
              "  <thead>\n",
              "    <tr style=\"text-align: right;\">\n",
              "      <th></th>\n",
              "      <th>uid</th>\n",
              "      <th>order_id</th>\n",
              "      <th>order_revenue</th>\n",
              "      <th>total_discounts</th>\n",
              "      <th>item_qty</th>\n",
              "      <th>unique_item</th>\n",
              "      <th>revenue_12m</th>\n",
              "      <th>order_count_12m</th>\n",
              "    </tr>\n",
              "  </thead>\n",
              "  <tbody>\n",
              "    <tr>\n",
              "      <th>count</th>\n",
              "      <td>5.368110e+05</td>\n",
              "      <td>5.368110e+05</td>\n",
              "      <td>536811.000000</td>\n",
              "      <td>536811.000000</td>\n",
              "      <td>536811.000000</td>\n",
              "      <td>536811.0</td>\n",
              "      <td>536811.000000</td>\n",
              "      <td>536811.000000</td>\n",
              "    </tr>\n",
              "    <tr>\n",
              "      <th>mean</th>\n",
              "      <td>1.612341e+15</td>\n",
              "      <td>8.566186e+11</td>\n",
              "      <td>67.198656</td>\n",
              "      <td>0.161512</td>\n",
              "      <td>1.033027</td>\n",
              "      <td>1.0</td>\n",
              "      <td>95.900871</td>\n",
              "      <td>1.383612</td>\n",
              "    </tr>\n",
              "    <tr>\n",
              "      <th>std</th>\n",
              "      <td>5.322875e+18</td>\n",
              "      <td>6.084956e+11</td>\n",
              "      <td>81.282303</td>\n",
              "      <td>2.593883</td>\n",
              "      <td>0.274625</td>\n",
              "      <td>0.0</td>\n",
              "      <td>190.260530</td>\n",
              "      <td>0.920181</td>\n",
              "    </tr>\n",
              "    <tr>\n",
              "      <th>min</th>\n",
              "      <td>-9.220000e+18</td>\n",
              "      <td>3.633358e+09</td>\n",
              "      <td>0.000000</td>\n",
              "      <td>0.000000</td>\n",
              "      <td>1.000000</td>\n",
              "      <td>1.0</td>\n",
              "      <td>0.000000</td>\n",
              "      <td>1.000000</td>\n",
              "    </tr>\n",
              "    <tr>\n",
              "      <th>25%</th>\n",
              "      <td>-4.600000e+18</td>\n",
              "      <td>5.170000e+11</td>\n",
              "      <td>25.000000</td>\n",
              "      <td>0.000000</td>\n",
              "      <td>1.000000</td>\n",
              "      <td>1.0</td>\n",
              "      <td>30.000000</td>\n",
              "      <td>1.000000</td>\n",
              "    </tr>\n",
              "    <tr>\n",
              "      <th>50%</th>\n",
              "      <td>2.240000e+15</td>\n",
              "      <td>5.600000e+11</td>\n",
              "      <td>50.000000</td>\n",
              "      <td>0.000000</td>\n",
              "      <td>1.000000</td>\n",
              "      <td>1.0</td>\n",
              "      <td>65.000000</td>\n",
              "      <td>1.000000</td>\n",
              "    </tr>\n",
              "    <tr>\n",
              "      <th>75%</th>\n",
              "      <td>4.610000e+18</td>\n",
              "      <td>1.710000e+12</td>\n",
              "      <td>85.000000</td>\n",
              "      <td>0.000000</td>\n",
              "      <td>1.000000</td>\n",
              "      <td>1.0</td>\n",
              "      <td>105.000000</td>\n",
              "      <td>1.000000</td>\n",
              "    </tr>\n",
              "    <tr>\n",
              "      <th>max</th>\n",
              "      <td>9.220000e+18</td>\n",
              "      <td>2.430000e+12</td>\n",
              "      <td>21210.000000</td>\n",
              "      <td>1275.000000</td>\n",
              "      <td>50.000000</td>\n",
              "      <td>1.0</td>\n",
              "      <td>51030.000000</td>\n",
              "      <td>37.000000</td>\n",
              "    </tr>\n",
              "  </tbody>\n",
              "</table>\n",
              "</div>"
            ],
            "text/plain": [
              "                uid      order_id  order_revenue  total_discounts  \\\n",
              "count  5.368110e+05  5.368110e+05  536811.000000    536811.000000   \n",
              "mean   1.612341e+15  8.566186e+11      67.198656         0.161512   \n",
              "std    5.322875e+18  6.084956e+11      81.282303         2.593883   \n",
              "min   -9.220000e+18  3.633358e+09       0.000000         0.000000   \n",
              "25%   -4.600000e+18  5.170000e+11      25.000000         0.000000   \n",
              "50%    2.240000e+15  5.600000e+11      50.000000         0.000000   \n",
              "75%    4.610000e+18  1.710000e+12      85.000000         0.000000   \n",
              "max    9.220000e+18  2.430000e+12   21210.000000      1275.000000   \n",
              "\n",
              "            item_qty  unique_item    revenue_12m  order_count_12m  \n",
              "count  536811.000000     536811.0  536811.000000    536811.000000  \n",
              "mean        1.033027          1.0      95.900871         1.383612  \n",
              "std         0.274625          0.0     190.260530         0.920181  \n",
              "min         1.000000          1.0       0.000000         1.000000  \n",
              "25%         1.000000          1.0      30.000000         1.000000  \n",
              "50%         1.000000          1.0      65.000000         1.000000  \n",
              "75%         1.000000          1.0     105.000000         1.000000  \n",
              "max        50.000000          1.0   51030.000000        37.000000  "
            ]
          },
          "metadata": {
            "tags": []
          },
          "execution_count": 46
        }
      ]
    },
    {
      "cell_type": "code",
      "metadata": {
        "id": "3X4PWBqjGHW8",
        "colab_type": "code",
        "colab": {
          "base_uri": "https://localhost:8080/",
          "height": 289
        },
        "outputId": "61f2f62c-1b72-4b37-cfdb-a8fec792729f"
      },
      "source": [
        "# check categorical variables\n",
        "for i in customers.columns:\n",
        "    if customers[i].dtypes == 'O':\n",
        "        print(i, ': ', customers[i].nunique())"
      ],
      "execution_count": 47,
      "outputs": [
        {
          "output_type": "stream",
          "text": [
            "order_date :  1394\n",
            "landing_site :  46463\n",
            "landing_site_ref :  2\n",
            "referring_site :  22899\n",
            "tags :  2\n",
            "utm_campaign :  87\n",
            "utm_source :  44\n",
            "utm_medium :  12\n",
            "utm_term :  21019\n",
            "utm_content :  18\n",
            "first_order_date :  1394\n",
            "SP :  1\n",
            "DD :  1\n",
            "AE :  1\n",
            "country_code :  158\n",
            "province_code :  516\n"
          ],
          "name": "stdout"
        }
      ]
    },
    {
      "cell_type": "code",
      "metadata": {
        "id": "cmHol-MmGPqu",
        "colab_type": "code",
        "colab": {
          "base_uri": "https://localhost:8080/",
          "height": 517
        },
        "outputId": "4d847e74-cb91-4ba6-c4dc-79fe8791ac36"
      },
      "source": [
        "missing_values_table(customers)"
      ],
      "execution_count": 48,
      "outputs": [
        {
          "output_type": "stream",
          "text": [
            "Your selected dataframe has 26 columns.\n",
            "There are 14 columns that have missing values.\n"
          ],
          "name": "stdout"
        },
        {
          "output_type": "execute_result",
          "data": {
            "text/html": [
              "<div>\n",
              "<style scoped>\n",
              "    .dataframe tbody tr th:only-of-type {\n",
              "        vertical-align: middle;\n",
              "    }\n",
              "\n",
              "    .dataframe tbody tr th {\n",
              "        vertical-align: top;\n",
              "    }\n",
              "\n",
              "    .dataframe thead th {\n",
              "        text-align: right;\n",
              "    }\n",
              "</style>\n",
              "<table border=\"1\" class=\"dataframe\">\n",
              "  <thead>\n",
              "    <tr style=\"text-align: right;\">\n",
              "      <th></th>\n",
              "      <th>Missing Values</th>\n",
              "      <th>% of Total Values</th>\n",
              "    </tr>\n",
              "  </thead>\n",
              "  <tbody>\n",
              "    <tr>\n",
              "      <th>landing_site_ref</th>\n",
              "      <td>536809</td>\n",
              "      <td>100.0</td>\n",
              "    </tr>\n",
              "    <tr>\n",
              "      <th>utm_content</th>\n",
              "      <td>536232</td>\n",
              "      <td>99.9</td>\n",
              "    </tr>\n",
              "    <tr>\n",
              "      <th>tags</th>\n",
              "      <td>534354</td>\n",
              "      <td>99.5</td>\n",
              "    </tr>\n",
              "    <tr>\n",
              "      <th>SP</th>\n",
              "      <td>525880</td>\n",
              "      <td>98.0</td>\n",
              "    </tr>\n",
              "    <tr>\n",
              "      <th>utm_term</th>\n",
              "      <td>515111</td>\n",
              "      <td>96.0</td>\n",
              "    </tr>\n",
              "    <tr>\n",
              "      <th>AE</th>\n",
              "      <td>509900</td>\n",
              "      <td>95.0</td>\n",
              "    </tr>\n",
              "    <tr>\n",
              "      <th>utm_campaign</th>\n",
              "      <td>483606</td>\n",
              "      <td>90.1</td>\n",
              "    </tr>\n",
              "    <tr>\n",
              "      <th>utm_medium</th>\n",
              "      <td>483476</td>\n",
              "      <td>90.1</td>\n",
              "    </tr>\n",
              "    <tr>\n",
              "      <th>utm_source</th>\n",
              "      <td>483418</td>\n",
              "      <td>90.1</td>\n",
              "    </tr>\n",
              "    <tr>\n",
              "      <th>DD</th>\n",
              "      <td>376288</td>\n",
              "      <td>70.1</td>\n",
              "    </tr>\n",
              "    <tr>\n",
              "      <th>referring_site</th>\n",
              "      <td>182165</td>\n",
              "      <td>33.9</td>\n",
              "    </tr>\n",
              "    <tr>\n",
              "      <th>province_code</th>\n",
              "      <td>67069</td>\n",
              "      <td>12.5</td>\n",
              "    </tr>\n",
              "    <tr>\n",
              "      <th>country_code</th>\n",
              "      <td>11932</td>\n",
              "      <td>2.2</td>\n",
              "    </tr>\n",
              "    <tr>\n",
              "      <th>landing_site</th>\n",
              "      <td>2554</td>\n",
              "      <td>0.5</td>\n",
              "    </tr>\n",
              "  </tbody>\n",
              "</table>\n",
              "</div>"
            ],
            "text/plain": [
              "                  Missing Values   % of Total Values\n",
              "landing_site_ref           536809              100.0\n",
              "utm_content                536232               99.9\n",
              "tags                       534354               99.5\n",
              "SP                         525880               98.0\n",
              "utm_term                   515111               96.0\n",
              "AE                         509900               95.0\n",
              "utm_campaign               483606               90.1\n",
              "utm_medium                 483476               90.1\n",
              "utm_source                 483418               90.1\n",
              "DD                         376288               70.1\n",
              "referring_site             182165               33.9\n",
              "province_code               67069               12.5\n",
              "country_code                11932                2.2\n",
              "landing_site                 2554                0.5"
            ]
          },
          "metadata": {
            "tags": []
          },
          "execution_count": 48
        }
      ]
    },
    {
      "cell_type": "code",
      "metadata": {
        "id": "UtYHDI1vFcE2",
        "colab_type": "code",
        "colab": {
          "base_uri": "https://localhost:8080/",
          "height": 34
        },
        "outputId": "fcd56551-b06f-4521-813f-3b2d442ae238"
      },
      "source": [
        "# drop customers with first order < =0\n",
        "customers = customers[customers['order_revenue'] > 0]\n",
        "customers.shape"
      ],
      "execution_count": 49,
      "outputs": [
        {
          "output_type": "execute_result",
          "data": {
            "text/plain": [
              "(532565, 26)"
            ]
          },
          "metadata": {
            "tags": []
          },
          "execution_count": 49
        }
      ]
    },
    {
      "cell_type": "markdown",
      "metadata": {
        "id": "qDp2SywAGWC1",
        "colab_type": "text"
      },
      "source": [
        "### Formatting"
      ]
    },
    {
      "cell_type": "code",
      "metadata": {
        "id": "ELRBSqERGVRn",
        "colab_type": "code",
        "colab": {}
      },
      "source": [
        "customers.rename(columns={'order_revenue':\n",
        "                   'first_order_revenue',\n",
        "                  'total_discounts':\n",
        "                   'first_order_discount' }, inplace= True)\n",
        "customers['revenue_12m']=customers['revenue_12m'].astype(float)\n",
        "customers['first_order_discount']=customers['first_order_discount'].astype(float)\n",
        "customers['first_order_revenue']=customers['first_order_revenue'].astype(float)\n",
        "\n",
        "# add new day_of_week column\n",
        "customers['order_date']=pd.to_datetime(customers['order_date'])\n",
        "customers['day_of_week']=customers['order_date'].dt.dayofweek \n",
        "customers['day_of_week'] =customers['day_of_week'].astype(str)\n",
        "\n",
        "\n",
        "# create target column repeat_purchase\n",
        "# customers['repeat_purchase'] = ~(customers.order_count_12m < 2)\n",
        "customers['repeat_purchase'] = np.where(customers.order_count_12m >1,  1, 0)"
      ],
      "execution_count": 50,
      "outputs": []
    },
    {
      "cell_type": "markdown",
      "metadata": {
        "id": "_6qLk0k3Gb16",
        "colab_type": "text"
      },
      "source": [
        "### Handling missing values\n",
        "(1) filling null based on business definitions"
      ]
    },
    {
      "cell_type": "code",
      "metadata": {
        "id": "BxYQcdZRGbQI",
        "colab_type": "code",
        "colab": {}
      },
      "source": [
        "customers['province_code'].fillna(\"unknown\", inplace = True) \n",
        "customers['country_code'].fillna(\"unknown\", inplace = True) \n",
        "\n",
        "cols_to_fill = ['utm_content','landing_site','utm_term','utm_campaign', 'utm_medium','utm_source', 'referring_site', 'AE', 'DD', 'SP']\n",
        "for i in cols_to_fill:\n",
        "  customers[i+'_known'] = customers[i].notnull()\n",
        "\n",
        "cols_to_drop=['landing_site_ref','tags', 'utm_term','utm_content','landing_site',\n",
        "         'utm_campaign','utm_medium','utm_source','referring_site','AE', 'DD', 'SP']\n",
        "customers.drop(cols_to_drop, axis=1, inplace=True)"
      ],
      "execution_count": 51,
      "outputs": []
    },
    {
      "cell_type": "code",
      "metadata": {
        "id": "8r-oAl9VGfhZ",
        "colab_type": "code",
        "colab": {
          "base_uri": "https://localhost:8080/",
          "height": 83
        },
        "outputId": "19cf483b-9f43-48cf-ffd6-1b6e2ee1f1f6"
      },
      "source": [
        "#check missing value again\n",
        "missing_values_table(customers)"
      ],
      "execution_count": 52,
      "outputs": [
        {
          "output_type": "stream",
          "text": [
            "Your selected dataframe has 26 columns.\n",
            "There are 0 columns that have missing values.\n"
          ],
          "name": "stdout"
        },
        {
          "output_type": "execute_result",
          "data": {
            "text/html": [
              "<div>\n",
              "<style scoped>\n",
              "    .dataframe tbody tr th:only-of-type {\n",
              "        vertical-align: middle;\n",
              "    }\n",
              "\n",
              "    .dataframe tbody tr th {\n",
              "        vertical-align: top;\n",
              "    }\n",
              "\n",
              "    .dataframe thead th {\n",
              "        text-align: right;\n",
              "    }\n",
              "</style>\n",
              "<table border=\"1\" class=\"dataframe\">\n",
              "  <thead>\n",
              "    <tr style=\"text-align: right;\">\n",
              "      <th></th>\n",
              "      <th>Missing Values</th>\n",
              "      <th>% of Total Values</th>\n",
              "    </tr>\n",
              "  </thead>\n",
              "  <tbody>\n",
              "  </tbody>\n",
              "</table>\n",
              "</div>"
            ],
            "text/plain": [
              "Empty DataFrame\n",
              "Columns: [Missing Values , % of Total Values]\n",
              "Index: []"
            ]
          },
          "metadata": {
            "tags": []
          },
          "execution_count": 52
        }
      ]
    },
    {
      "cell_type": "code",
      "metadata": {
        "id": "QXlkUi6uJA2X",
        "colab_type": "code",
        "colab": {
          "base_uri": "https://localhost:8080/",
          "height": 459
        },
        "outputId": "16d34931-322c-4adb-d583-7226285c091f"
      },
      "source": [
        "unique_counts(customers)"
      ],
      "execution_count": 53,
      "outputs": [
        {
          "output_type": "stream",
          "text": [
            "uid : 5619\n",
            "buyer_accepts_marketing : 2\n",
            "order_date : 1394\n",
            "order_id : 49492\n",
            "first_order_revenue : 858\n",
            "first_order_discount : 139\n",
            "first_order_date : 1394\n",
            "country_code : 159\n",
            "province_code : 517\n",
            "requires_shipping : 2\n",
            "item_qty : 21\n",
            "unique_item : 1\n",
            "revenue_12m : 3228\n",
            "order_count_12m : 27\n",
            "day_of_week : 7\n",
            "repeat_purchase : 2\n",
            "utm_content_known : 2\n",
            "landing_site_known : 2\n",
            "utm_term_known : 2\n",
            "utm_campaign_known : 2\n",
            "utm_medium_known : 2\n",
            "utm_source_known : 2\n",
            "referring_site_known : 2\n",
            "AE_known : 2\n",
            "DD_known : 2\n",
            "SP_known : 2\n"
          ],
          "name": "stdout"
        }
      ]
    },
    {
      "cell_type": "code",
      "metadata": {
        "id": "l1UQJSh8GqZG",
        "colab_type": "code",
        "colab": {
          "base_uri": "https://localhost:8080/",
          "height": 459
        },
        "outputId": "1de9ec98-981d-4b10-dcb8-e3e08984d8a2"
      },
      "source": [
        "for column in customers:\n",
        "    unique_values = np.unique(customers[column])\n",
        "    nr_values = len(unique_values)\n",
        "    if nr_values <= 10:\n",
        "        print(\"The number of values for feature {} is: {} -- {}\".format(column, nr_values, unique_values))\n",
        "    else:\n",
        "        print(\"The number of values for feature {} is: {}\".format(column, nr_values))"
      ],
      "execution_count": 54,
      "outputs": [
        {
          "output_type": "stream",
          "text": [
            "The number of values for feature uid is: 5619\n",
            "The number of values for feature buyer_accepts_marketing is: 2 -- [False  True]\n",
            "The number of values for feature order_date is: 1394\n",
            "The number of values for feature order_id is: 49492\n",
            "The number of values for feature first_order_revenue is: 858\n",
            "The number of values for feature first_order_discount is: 139\n",
            "The number of values for feature first_order_date is: 1394\n",
            "The number of values for feature country_code is: 159\n",
            "The number of values for feature province_code is: 517\n",
            "The number of values for feature requires_shipping is: 2 -- [False  True]\n",
            "The number of values for feature item_qty is: 21\n",
            "The number of values for feature unique_item is: 1 -- [1]\n",
            "The number of values for feature revenue_12m is: 3228\n",
            "The number of values for feature order_count_12m is: 27\n",
            "The number of values for feature day_of_week is: 7 -- ['0' '1' '2' '3' '4' '5' '6']\n",
            "The number of values for feature repeat_purchase is: 2 -- [0 1]\n",
            "The number of values for feature utm_content_known is: 2 -- [False  True]\n",
            "The number of values for feature landing_site_known is: 2 -- [False  True]\n",
            "The number of values for feature utm_term_known is: 2 -- [False  True]\n",
            "The number of values for feature utm_campaign_known is: 2 -- [False  True]\n",
            "The number of values for feature utm_medium_known is: 2 -- [False  True]\n",
            "The number of values for feature utm_source_known is: 2 -- [False  True]\n",
            "The number of values for feature referring_site_known is: 2 -- [False  True]\n",
            "The number of values for feature AE_known is: 2 -- [False  True]\n",
            "The number of values for feature DD_known is: 2 -- [False  True]\n",
            "The number of values for feature SP_known is: 2 -- [False  True]\n"
          ],
          "name": "stdout"
        }
      ]
    },
    {
      "cell_type": "code",
      "metadata": {
        "id": "M-UJUNBwNJH7",
        "colab_type": "code",
        "colab": {
          "base_uri": "https://localhost:8080/",
          "height": 34
        },
        "outputId": "b71088b6-134a-49bb-d029-9e1762b87e45"
      },
      "source": [
        "customers.shape"
      ],
      "execution_count": 55,
      "outputs": [
        {
          "output_type": "execute_result",
          "data": {
            "text/plain": [
              "(532565, 26)"
            ]
          },
          "metadata": {
            "tags": []
          },
          "execution_count": 55
        }
      ]
    },
    {
      "cell_type": "code",
      "metadata": {
        "id": "et7goqrZNLGR",
        "colab_type": "code",
        "colab": {
          "base_uri": "https://localhost:8080/",
          "height": 578
        },
        "outputId": "cc92941a-eeb2-4e17-836e-1b9a979185ec"
      },
      "source": [
        "customers.info()"
      ],
      "execution_count": 56,
      "outputs": [
        {
          "output_type": "stream",
          "text": [
            "<class 'pandas.core.frame.DataFrame'>\n",
            "Int64Index: 532565 entries, 0 to 536810\n",
            "Data columns (total 26 columns):\n",
            " #   Column                   Non-Null Count   Dtype         \n",
            "---  ------                   --------------   -----         \n",
            " 0   uid                      532565 non-null  float64       \n",
            " 1   buyer_accepts_marketing  532565 non-null  bool          \n",
            " 2   order_date               532565 non-null  datetime64[ns]\n",
            " 3   order_id                 532565 non-null  float64       \n",
            " 4   first_order_revenue      532565 non-null  float64       \n",
            " 5   first_order_discount     532565 non-null  float64       \n",
            " 6   first_order_date         532565 non-null  object        \n",
            " 7   country_code             532565 non-null  object        \n",
            " 8   province_code            532565 non-null  object        \n",
            " 9   requires_shipping        532565 non-null  bool          \n",
            " 10  item_qty                 532565 non-null  int64         \n",
            " 11  unique_item              532565 non-null  int64         \n",
            " 12  revenue_12m              532565 non-null  float64       \n",
            " 13  order_count_12m          532565 non-null  int64         \n",
            " 14  day_of_week              532565 non-null  object        \n",
            " 15  repeat_purchase          532565 non-null  int64         \n",
            " 16  utm_content_known        532565 non-null  bool          \n",
            " 17  landing_site_known       532565 non-null  bool          \n",
            " 18  utm_term_known           532565 non-null  bool          \n",
            " 19  utm_campaign_known       532565 non-null  bool          \n",
            " 20  utm_medium_known         532565 non-null  bool          \n",
            " 21  utm_source_known         532565 non-null  bool          \n",
            " 22  referring_site_known     532565 non-null  bool          \n",
            " 23  AE_known                 532565 non-null  bool          \n",
            " 24  DD_known                 532565 non-null  bool          \n",
            " 25  SP_known                 532565 non-null  bool          \n",
            "dtypes: bool(12), datetime64[ns](1), float64(5), int64(4), object(4)\n",
            "memory usage: 67.0+ MB\n"
          ],
          "name": "stdout"
        }
      ]
    },
    {
      "cell_type": "code",
      "metadata": {
        "id": "rsu_IaeCNZl3",
        "colab_type": "code",
        "colab": {
          "base_uri": "https://localhost:8080/",
          "height": 317
        },
        "outputId": "424365e5-8bd0-4a16-85b8-5469185dc24c"
      },
      "source": [
        "customers.describe()"
      ],
      "execution_count": 57,
      "outputs": [
        {
          "output_type": "execute_result",
          "data": {
            "text/html": [
              "<div>\n",
              "<style scoped>\n",
              "    .dataframe tbody tr th:only-of-type {\n",
              "        vertical-align: middle;\n",
              "    }\n",
              "\n",
              "    .dataframe tbody tr th {\n",
              "        vertical-align: top;\n",
              "    }\n",
              "\n",
              "    .dataframe thead th {\n",
              "        text-align: right;\n",
              "    }\n",
              "</style>\n",
              "<table border=\"1\" class=\"dataframe\">\n",
              "  <thead>\n",
              "    <tr style=\"text-align: right;\">\n",
              "      <th></th>\n",
              "      <th>uid</th>\n",
              "      <th>order_id</th>\n",
              "      <th>first_order_revenue</th>\n",
              "      <th>first_order_discount</th>\n",
              "      <th>item_qty</th>\n",
              "      <th>unique_item</th>\n",
              "      <th>revenue_12m</th>\n",
              "      <th>order_count_12m</th>\n",
              "      <th>repeat_purchase</th>\n",
              "    </tr>\n",
              "  </thead>\n",
              "  <tbody>\n",
              "    <tr>\n",
              "      <th>count</th>\n",
              "      <td>5.325650e+05</td>\n",
              "      <td>5.325650e+05</td>\n",
              "      <td>532565.000000</td>\n",
              "      <td>532565.000000</td>\n",
              "      <td>532565.000000</td>\n",
              "      <td>532565.0</td>\n",
              "      <td>532565.000000</td>\n",
              "      <td>532565.000000</td>\n",
              "      <td>532565.000000</td>\n",
              "    </tr>\n",
              "    <tr>\n",
              "      <th>mean</th>\n",
              "      <td>7.763938e+14</td>\n",
              "      <td>8.554080e+11</td>\n",
              "      <td>67.734413</td>\n",
              "      <td>0.094273</td>\n",
              "      <td>1.033277</td>\n",
              "      <td>1.0</td>\n",
              "      <td>96.623003</td>\n",
              "      <td>1.385964</td>\n",
              "      <td>0.233639</td>\n",
              "    </tr>\n",
              "    <tr>\n",
              "      <th>std</th>\n",
              "      <td>5.323107e+18</td>\n",
              "      <td>6.055553e+11</td>\n",
              "      <td>81.383033</td>\n",
              "      <td>1.240837</td>\n",
              "      <td>0.275652</td>\n",
              "      <td>0.0</td>\n",
              "      <td>190.817455</td>\n",
              "      <td>0.922873</td>\n",
              "      <td>0.423146</td>\n",
              "    </tr>\n",
              "    <tr>\n",
              "      <th>min</th>\n",
              "      <td>-9.220000e+18</td>\n",
              "      <td>3.633358e+09</td>\n",
              "      <td>0.690000</td>\n",
              "      <td>0.000000</td>\n",
              "      <td>1.000000</td>\n",
              "      <td>1.0</td>\n",
              "      <td>0.690000</td>\n",
              "      <td>1.000000</td>\n",
              "      <td>0.000000</td>\n",
              "    </tr>\n",
              "    <tr>\n",
              "      <th>25%</th>\n",
              "      <td>-4.600000e+18</td>\n",
              "      <td>5.220000e+11</td>\n",
              "      <td>25.000000</td>\n",
              "      <td>0.000000</td>\n",
              "      <td>1.000000</td>\n",
              "      <td>1.0</td>\n",
              "      <td>35.000000</td>\n",
              "      <td>1.000000</td>\n",
              "      <td>0.000000</td>\n",
              "    </tr>\n",
              "    <tr>\n",
              "      <th>50%</th>\n",
              "      <td>1.270000e+15</td>\n",
              "      <td>5.600000e+11</td>\n",
              "      <td>50.000000</td>\n",
              "      <td>0.000000</td>\n",
              "      <td>1.000000</td>\n",
              "      <td>1.0</td>\n",
              "      <td>65.000000</td>\n",
              "      <td>1.000000</td>\n",
              "      <td>0.000000</td>\n",
              "    </tr>\n",
              "    <tr>\n",
              "      <th>75%</th>\n",
              "      <td>4.610000e+18</td>\n",
              "      <td>1.710000e+12</td>\n",
              "      <td>85.000000</td>\n",
              "      <td>0.000000</td>\n",
              "      <td>1.000000</td>\n",
              "      <td>1.0</td>\n",
              "      <td>105.000000</td>\n",
              "      <td>1.000000</td>\n",
              "      <td>0.000000</td>\n",
              "    </tr>\n",
              "    <tr>\n",
              "      <th>max</th>\n",
              "      <td>9.220000e+18</td>\n",
              "      <td>2.430000e+12</td>\n",
              "      <td>21210.000000</td>\n",
              "      <td>99.900000</td>\n",
              "      <td>50.000000</td>\n",
              "      <td>1.0</td>\n",
              "      <td>51030.000000</td>\n",
              "      <td>37.000000</td>\n",
              "      <td>1.000000</td>\n",
              "    </tr>\n",
              "  </tbody>\n",
              "</table>\n",
              "</div>"
            ],
            "text/plain": [
              "                uid      order_id  first_order_revenue  first_order_discount  \\\n",
              "count  5.325650e+05  5.325650e+05        532565.000000         532565.000000   \n",
              "mean   7.763938e+14  8.554080e+11            67.734413              0.094273   \n",
              "std    5.323107e+18  6.055553e+11            81.383033              1.240837   \n",
              "min   -9.220000e+18  3.633358e+09             0.690000              0.000000   \n",
              "25%   -4.600000e+18  5.220000e+11            25.000000              0.000000   \n",
              "50%    1.270000e+15  5.600000e+11            50.000000              0.000000   \n",
              "75%    4.610000e+18  1.710000e+12            85.000000              0.000000   \n",
              "max    9.220000e+18  2.430000e+12         21210.000000             99.900000   \n",
              "\n",
              "            item_qty  unique_item    revenue_12m  order_count_12m  \\\n",
              "count  532565.000000     532565.0  532565.000000    532565.000000   \n",
              "mean        1.033277          1.0      96.623003         1.385964   \n",
              "std         0.275652          0.0     190.817455         0.922873   \n",
              "min         1.000000          1.0       0.690000         1.000000   \n",
              "25%         1.000000          1.0      35.000000         1.000000   \n",
              "50%         1.000000          1.0      65.000000         1.000000   \n",
              "75%         1.000000          1.0     105.000000         1.000000   \n",
              "max        50.000000          1.0   51030.000000        37.000000   \n",
              "\n",
              "       repeat_purchase  \n",
              "count    532565.000000  \n",
              "mean          0.233639  \n",
              "std           0.423146  \n",
              "min           0.000000  \n",
              "25%           0.000000  \n",
              "50%           0.000000  \n",
              "75%           0.000000  \n",
              "max           1.000000  "
            ]
          },
          "metadata": {
            "tags": []
          },
          "execution_count": 57
        }
      ]
    },
    {
      "cell_type": "markdown",
      "metadata": {
        "id": "MOGjAJr4Kcmi",
        "colab_type": "text"
      },
      "source": [
        "### Check the distribution"
      ]
    },
    {
      "cell_type": "code",
      "metadata": {
        "id": "stGXXEWo7eG_",
        "colab_type": "code",
        "colab": {
          "base_uri": "https://localhost:8080/",
          "height": 547
        },
        "outputId": "bcf2a9a0-5d5c-4009-da7e-27abf330786b"
      },
      "source": [
        "def density3(df1, df2,df3):\n",
        "  #input shape df['col']\n",
        "  fig, axes = plt.subplots(nrows=1, ncols=3,figsize=(20,8))\n",
        "  g1=sns.distplot(df1, hist=True, kde=True, \n",
        "             bins=int(180/5), color = 'darkblue', \n",
        "             hist_kws={'edgecolor':'black'},\n",
        "             kde_kws={'linewidth': 4}, ax=axes[0])\n",
        "  axes[0].set_title('Density plot of order_count_12m')\n",
        "\n",
        "  g2=sns.distplot(df2, hist=True, kde=True, \n",
        "             bins=int(180/5), color = 'darkblue', \n",
        "             hist_kws={'edgecolor':'black'},\n",
        "             kde_kws={'linewidth': 4},ax=axes[1])\n",
        "  axes[1].set_title('Density plot of revenue_12m')\n",
        "\n",
        "  g3=sns.distplot(df3, hist=True, kde=True, \n",
        "             bins=int(180/5), color = 'darkblue', \n",
        "             hist_kws={'edgecolor':'black'},\n",
        "             kde_kws={'linewidth': 4},ax=axes[2])\n",
        "  axes[2].set_title('Density plot of first_order_revenue')\n",
        "\n",
        "  return g1, g2, g3\n",
        "\n",
        "density3(customers['order_count_12m'], \n",
        "         customers['revenue_12m'],\n",
        "         customers['first_order_revenue'])"
      ],
      "execution_count": 58,
      "outputs": [
        {
          "output_type": "execute_result",
          "data": {
            "text/plain": [
              "(<matplotlib.axes._subplots.AxesSubplot at 0x7f48cb66f2b0>,\n",
              " <matplotlib.axes._subplots.AxesSubplot at 0x7f48cb68c908>,\n",
              " <matplotlib.axes._subplots.AxesSubplot at 0x7f48cb63cb38>)"
            ]
          },
          "metadata": {
            "tags": []
          },
          "execution_count": 58
        },
        {
          "output_type": "display_data",
          "data": {
            "image/png": "[encoded data removed]",
            "text/plain": [
              "<Figure size 1440x576 with 3 Axes>"
            ]
          },
          "metadata": {
            "tags": [],
            "needs_background": "light"
          }
        }
      ]
    },
    {
      "cell_type": "code",
      "metadata": {
        "id": "aVjEzM-piX0s",
        "colab_type": "code",
        "colab": {
          "base_uri": "https://localhost:8080/",
          "height": 551
        },
        "outputId": "78294074-1f89-48b2-9d7b-16e945f6e009"
      },
      "source": [
        "def density4(df1, df2,df3):\n",
        "  #input shape df['col']\n",
        "  fig, axes = plt.subplots(nrows=1, ncols=3,figsize=(20,8))\n",
        "  g1=sns.distplot(df1, hist=True, kde=True, \n",
        "             bins=int(180/5), color = 'darkblue', \n",
        "             hist_kws={'edgecolor':'black'},\n",
        "             kde_kws={'linewidth': 4}, ax=axes[0])\n",
        "  axes[0].set_title('Log Density plot of order_count_12m')\n",
        "\n",
        "  g2=sns.distplot(df2, hist=True, kde=True, \n",
        "             bins=int(180/5), color = 'darkblue', \n",
        "             hist_kws={'edgecolor':'black'},\n",
        "             kde_kws={'linewidth': 4},ax=axes[1])\n",
        "  axes[1].set_title('Log Density plot of revenue_12m')\n",
        "\n",
        "  g3=sns.distplot(df3, hist=True, kde=True, \n",
        "             bins=int(180/5), color = 'darkblue', \n",
        "             hist_kws={'edgecolor':'black'},\n",
        "             kde_kws={'linewidth': 4},ax=axes[2])\n",
        "  axes[2].set_title('Log Density plot of first_order_revenue')\n",
        "\n",
        "  return g1, g2, g3\n",
        "\n",
        "density4(np.log(customers['order_count_12m']), np.log(customers['revenue_12m']),np.log(customers['first_order_revenue'])\n",
        "         )"
      ],
      "execution_count": 59,
      "outputs": [
        {
          "output_type": "execute_result",
          "data": {
            "text/plain": [
              "(<matplotlib.axes._subplots.AxesSubplot at 0x7f48cb45b710>,\n",
              " <matplotlib.axes._subplots.AxesSubplot at 0x7f48cb4468d0>,\n",
              " <matplotlib.axes._subplots.AxesSubplot at 0x7f48cb3fcb00>)"
            ]
          },
          "metadata": {
            "tags": []
          },
          "execution_count": 59
        },
        {
          "output_type": "display_data",
          "data": {
            "image/png": "[encoded data removed]",
            "text/plain": [
              "<Figure size 1440x576 with 3 Axes>"
            ]
          },
          "metadata": {
            "tags": [],
            "needs_background": "light"
          }
        }
      ]
    },
    {
      "cell_type": "code",
      "metadata": {
        "id": "NJp7F5zRNBzb",
        "colab_type": "code",
        "colab": {
          "base_uri": "https://localhost:8080/",
          "height": 534
        },
        "outputId": "7e3225f4-ba7f-4a24-fe5e-c154b52c5c37"
      },
      "source": [
        "density3(customers.loc[customers['repeat_purchase']==0,['order_count_12m']], \n",
        "         customers.loc[customers['repeat_purchase']==0,['revenue_12m']],\n",
        "         customers.loc[customers['repeat_purchase']==0,['first_order_revenue']])"
      ],
      "execution_count": 60,
      "outputs": [
        {
          "output_type": "execute_result",
          "data": {
            "text/plain": [
              "(<matplotlib.axes._subplots.AxesSubplot at 0x7f48d43e2550>,\n",
              " <matplotlib.axes._subplots.AxesSubplot at 0x7f48cb257908>,\n",
              " <matplotlib.axes._subplots.AxesSubplot at 0x7f48cb1d4710>)"
            ]
          },
          "metadata": {
            "tags": []
          },
          "execution_count": 60
        },
        {
          "output_type": "display_data",
          "data": {
            "image/png": "[encoded data removed]",
            "text/plain": [
              "<Figure size 1440x576 with 3 Axes>"
            ]
          },
          "metadata": {
            "tags": [],
            "needs_background": "light"
          }
        }
      ]
    },
    {
      "cell_type": "code",
      "metadata": {
        "id": "HwK8WG1Sl2SR",
        "colab_type": "code",
        "colab": {
          "base_uri": "https://localhost:8080/",
          "height": 534
        },
        "outputId": "ed1e893e-01f3-43ce-f9f3-a6486ffadbca"
      },
      "source": [
        "density4(np.log(customers.loc[customers['repeat_purchase']==0,['order_count_12m']]), \n",
        "         np.log(customers.loc[customers['repeat_purchase']==0,['revenue_12m']]),\n",
        "         np.log(customers.loc[customers['repeat_purchase']==0,['first_order_revenue']])\n",
        "         )"
      ],
      "execution_count": 61,
      "outputs": [
        {
          "output_type": "execute_result",
          "data": {
            "text/plain": [
              "(<matplotlib.axes._subplots.AxesSubplot at 0x7f48d43e2470>,\n",
              " <matplotlib.axes._subplots.AxesSubplot at 0x7f48cb424ef0>,\n",
              " <matplotlib.axes._subplots.AxesSubplot at 0x7f48cb27f048>)"
            ]
          },
          "metadata": {
            "tags": []
          },
          "execution_count": 61
        },
        {
          "output_type": "display_data",
          "data": {
            "image/png": "[encoded data removed]",
            "text/plain": [
              "<Figure size 1440x576 with 3 Axes>"
            ]
          },
          "metadata": {
            "tags": [],
            "needs_background": "light"
          }
        }
      ]
    },
    {
      "cell_type": "code",
      "metadata": {
        "id": "eUEes3mMNSZM",
        "colab_type": "code",
        "colab": {
          "base_uri": "https://localhost:8080/",
          "height": 532
        },
        "outputId": "be2627d1-f294-4344-e7cb-8ea9dea18734"
      },
      "source": [
        "density3(customers.loc[customers['repeat_purchase']==1,['order_count_12m']], \n",
        "         customers.loc[customers['repeat_purchase']==1,['revenue_12m']],\n",
        "         customers.loc[customers['repeat_purchase']==1,['first_order_revenue']])"
      ],
      "execution_count": 62,
      "outputs": [
        {
          "output_type": "execute_result",
          "data": {
            "text/plain": [
              "(<matplotlib.axes._subplots.AxesSubplot at 0x7f48cadae6a0>,\n",
              " <matplotlib.axes._subplots.AxesSubplot at 0x7f48cad789e8>,\n",
              " <matplotlib.axes._subplots.AxesSubplot at 0x7f48cad28c18>)"
            ]
          },
          "metadata": {
            "tags": []
          },
          "execution_count": 62
        },
        {
          "output_type": "display_data",
          "data": {
            "image/png": "[encoded data removed]",
            "text/plain": [
              "<Figure size 1440x576 with 3 Axes>"
            ]
          },
          "metadata": {
            "tags": [],
            "needs_background": "light"
          }
        }
      ]
    },
    {
      "cell_type": "code",
      "metadata": {
        "id": "UwFtDOLHmBl-",
        "colab_type": "code",
        "colab": {
          "base_uri": "https://localhost:8080/",
          "height": 537
        },
        "outputId": "78a5a61d-0bc9-48bd-c4cf-0b4953519565"
      },
      "source": [
        "density4(np.log(customers.loc[customers['repeat_purchase']==1,['order_count_12m']]), \n",
        "         np.log(customers.loc[customers['repeat_purchase']==1,['revenue_12m']]),\n",
        "         np.log(customers.loc[customers['repeat_purchase']==1,['first_order_revenue']])\n",
        "                )"
      ],
      "execution_count": 63,
      "outputs": [
        {
          "output_type": "execute_result",
          "data": {
            "text/plain": [
              "(<matplotlib.axes._subplots.AxesSubplot at 0x7f48cab2acf8>,\n",
              " <matplotlib.axes._subplots.AxesSubplot at 0x7f48cab4a198>,\n",
              " <matplotlib.axes._subplots.AxesSubplot at 0x7f48caafa518>)"
            ]
          },
          "metadata": {
            "tags": []
          },
          "execution_count": 63
        },
        {
          "output_type": "display_data",
          "data": {
            "image/png": "[encoded data removed]",
            "text/plain": [
              "<Figure size 1440x576 with 3 Axes>"
            ]
          },
          "metadata": {
            "tags": [],
            "needs_background": "light"
          }
        }
      ]
    },
    {
      "cell_type": "markdown",
      "metadata": {
        "id": "yhWUItpXKqPI",
        "colab_type": "text"
      },
      "source": [
        "### Compare one-time customers and repeat customers in one graph"
      ]
    },
    {
      "cell_type": "code",
      "metadata": {
        "id": "_E3zvr3VyGUh",
        "colab_type": "code",
        "colab": {
          "base_uri": "https://localhost:8080/",
          "height": 85
        },
        "outputId": "7528c213-9cd7-4658-8523-cfe681e59939"
      },
      "source": [
        "df2 = customers[['order_count_12m','revenue_12m','first_order_revenue','repeat_purchase']]\n",
        "for i in df2.drop('repeat_purchase', axis=1).columns:\n",
        "    df2['log_{0}'.format(i)] = np.log(customers[i])\n",
        "df2.columns"
      ],
      "execution_count": 64,
      "outputs": [
        {
          "output_type": "execute_result",
          "data": {
            "text/plain": [
              "Index(['order_count_12m', 'revenue_12m', 'first_order_revenue',\n",
              "       'repeat_purchase', 'log_order_count_12m', 'log_revenue_12m',\n",
              "       'log_first_order_revenue'],\n",
              "      dtype='object')"
            ]
          },
          "metadata": {
            "tags": []
          },
          "execution_count": 64
        }
      ]
    },
    {
      "cell_type": "code",
      "metadata": {
        "id": "pfv43gtWGeBX",
        "colab_type": "code",
        "colab": {
          "base_uri": "https://localhost:8080/",
          "height": 298
        },
        "outputId": "1066e428-88d0-447f-e9fa-5e7884fb7a11"
      },
      "source": [
        "# Sort the dataframe by target variable\n",
        "repeat_0 = df2.loc[df2['repeat_purchase'] == 0]\n",
        "repeat_1 = df2.loc[df2['repeat_purchase'] == 1]\n",
        "\n",
        "sns.distplot(repeat_0[['log_revenue_12m']], hist=False,label='repeat_purchase = 0')\n",
        "sns.distplot(repeat_1[['log_revenue_12m']], hist=False,label='repeat_purchase = 1')\n",
        "plt.title('Density log plot of revenue_12m')\n",
        "plt.legend()"
      ],
      "execution_count": 65,
      "outputs": [
        {
          "output_type": "execute_result",
          "data": {
            "text/plain": [
              "<matplotlib.legend.Legend at 0x7f48d3127ac8>"
            ]
          },
          "metadata": {
            "tags": []
          },
          "execution_count": 65
        },
        {
          "output_type": "display_data",
          "data": {
            "image/png": "[encoded data removed]",
            "text/plain": [
              "<Figure size 432x288 with 1 Axes>"
            ]
          },
          "metadata": {
            "tags": [],
            "needs_background": "light"
          }
        }
      ]
    },
    {
      "cell_type": "code",
      "metadata": {
        "id": "XUHwQY-nW4-X",
        "colab_type": "code",
        "colab": {
          "base_uri": "https://localhost:8080/",
          "height": 499
        },
        "outputId": "9979d7f4-913e-41e0-c578-a11812b4d813"
      },
      "source": [
        "# plot first purchase \n",
        "from matplotlib.ticker import (AutoMinorLocator, MultipleLocator)\n",
        "fig, ax = plt.subplots(figsize=(10, 8))\n",
        "\n",
        "sns.distplot(repeat_0[['log_first_order_revenue']], hist=False,label='repeat_purchase = 0')\n",
        "sns.distplot(repeat_1[['log_first_order_revenue']], hist=False,label='repeat_purchase = 1')\n",
        "ax.set_axisbelow(True)\n",
        "ax.minorticks_on()\n",
        "ax.grid(which='minor', linestyle=':', linewidth='0.25', color='black')\n",
        "\n",
        "plt.title('Density log plot of first_order_revenue')\n",
        "plt.legend()\n",
        "plt.grid(True)"
      ],
      "execution_count": 66,
      "outputs": [
        {
          "output_type": "display_data",
          "data": {
            "image/png": "[encoded data removed]",
            "text/plain": [
              "<Figure size 720x576 with 1 Axes>"
            ]
          },
          "metadata": {
            "tags": [],
            "needs_background": "light"
          }
        }
      ]
    },
    {
      "cell_type": "markdown",
      "metadata": {
        "id": "tm850s84SFpR",
        "colab_type": "text"
      },
      "source": [
        "Interesgting, this show the difference between single purchaser and repeat purchasers with x-axis number roughly between 2.9-3.4. Features can be created to extract this information. "
      ]
    },
    {
      "cell_type": "code",
      "metadata": {
        "id": "b2_-FpgVTZei",
        "colab_type": "code",
        "colab": {
          "base_uri": "https://localhost:8080/",
          "height": 493
        },
        "outputId": "818728c1-2f87-46fb-e205-60e89145b9e6"
      },
      "source": [
        "corr = customers[['first_order_revenue','first_order_discount','item_qty','revenue_12m','order_count_12m']].corr()\n",
        "# fig, axes = plt.subplots(1, 2,figsize=(20,8))\n",
        "# sns.heatmap(corr, annot = True, cmap='RdYlGn', vmin=-1, vmax=1,ax=axes[0])  \n",
        "# axes[0].title.set_text('Correlation Heatmap for all purchasers ')\n",
        "\n",
        "fig, ax= plt.subplots(figsize=(20, 8))\n",
        "ax = sns.heatmap(corr, annot= True, cmap='RdYlGn', vmin=-1, vmax=1)\n",
        "ax.title.set_text('Correlation Heatmap for all customers')"
      ],
      "execution_count": 67,
      "outputs": [
        {
          "output_type": "display_data",
          "data": {
            "image/png": "[encoded data removed]",
            "text/plain": [
              "<Figure size 1440x576 with 2 Axes>"
            ]
          },
          "metadata": {
            "tags": [],
            "needs_background": "light"
          }
        }
      ]
    },
    {
      "cell_type": "markdown",
      "metadata": {
        "id": "7Chy54AoIZUp",
        "colab_type": "text"
      },
      "source": [
        "## 5.Feature Engineering\n",
        "\n",
        "*   (1) Add new feature to represent log(first_purchase) between 2.9-3.4 or not from EDA\n",
        "*   (2) Create dummy variables for: binary features and low cardinal categorical features\n",
        "*   (3) Target encoding for high cardinal categorical features"
      ]
    },
    {
      "cell_type": "code",
      "metadata": {
        "id": "fYPb5qdpWoMc",
        "colab_type": "code",
        "colab": {
          "base_uri": "https://localhost:8080/",
          "height": 34
        },
        "outputId": "4b42b36b-af28-4f21-a34a-738ab75d7b61"
      },
      "source": [
        "# all customer age > = 12month\n",
        "df_customer=customers.copy()\n",
        "df_customer=df_customer[df_customer.first_order_date < '2019-05-01']\n",
        "df_customer.shape"
      ],
      "execution_count": 68,
      "outputs": [
        {
          "output_type": "execute_result",
          "data": {
            "text/plain": [
              "(378075, 26)"
            ]
          },
          "metadata": {
            "tags": []
          },
          "execution_count": 68
        }
      ]
    },
    {
      "cell_type": "markdown",
      "metadata": {
        "id": "42S9TspTjijH",
        "colab_type": "text"
      },
      "source": [
        "### Add new feature - log_first_range\n",
        "log_first_range (Y/N) to represent whether log( first_purchase_revenue) between 2.9 to 3.4 or not"
      ]
    },
    {
      "cell_type": "code",
      "metadata": {
        "id": "no9Zy-fljhE1",
        "colab_type": "code",
        "colab": {}
      },
      "source": [
        "df_customer['log_first_range'] = df_customer.apply(lambda x: 'True' if (np.log(x.first_order_revenue) >2.9) & (np.log(x.first_order_revenue) <3.4) else 'False', axis=1)\n"
      ],
      "execution_count": 69,
      "outputs": []
    },
    {
      "cell_type": "code",
      "metadata": {
        "id": "wZX4ulxnMvBx",
        "colab_type": "code",
        "colab": {
          "base_uri": "https://localhost:8080/",
          "height": 224
        },
        "outputId": "dd115070-5e14-443f-ba21-5f1e76340b60"
      },
      "source": [
        "df_customer.head()"
      ],
      "execution_count": 70,
      "outputs": [
        {
          "output_type": "execute_result",
          "data": {
            "text/html": [
              "<div>\n",
              "<style scoped>\n",
              "    .dataframe tbody tr th:only-of-type {\n",
              "        vertical-align: middle;\n",
              "    }\n",
              "\n",
              "    .dataframe tbody tr th {\n",
              "        vertical-align: top;\n",
              "    }\n",
              "\n",
              "    .dataframe thead th {\n",
              "        text-align: right;\n",
              "    }\n",
              "</style>\n",
              "<table border=\"1\" class=\"dataframe\">\n",
              "  <thead>\n",
              "    <tr style=\"text-align: right;\">\n",
              "      <th></th>\n",
              "      <th>uid</th>\n",
              "      <th>buyer_accepts_marketing</th>\n",
              "      <th>order_date</th>\n",
              "      <th>order_id</th>\n",
              "      <th>first_order_revenue</th>\n",
              "      <th>first_order_discount</th>\n",
              "      <th>first_order_date</th>\n",
              "      <th>country_code</th>\n",
              "      <th>province_code</th>\n",
              "      <th>requires_shipping</th>\n",
              "      <th>item_qty</th>\n",
              "      <th>unique_item</th>\n",
              "      <th>revenue_12m</th>\n",
              "      <th>order_count_12m</th>\n",
              "      <th>day_of_week</th>\n",
              "      <th>repeat_purchase</th>\n",
              "      <th>utm_content_known</th>\n",
              "      <th>landing_site_known</th>\n",
              "      <th>utm_term_known</th>\n",
              "      <th>utm_campaign_known</th>\n",
              "      <th>utm_medium_known</th>\n",
              "      <th>utm_source_known</th>\n",
              "      <th>referring_site_known</th>\n",
              "      <th>AE_known</th>\n",
              "      <th>DD_known</th>\n",
              "      <th>SP_known</th>\n",
              "      <th>log_first_range</th>\n",
              "    </tr>\n",
              "  </thead>\n",
              "  <tbody>\n",
              "    <tr>\n",
              "      <th>0</th>\n",
              "      <td>-1.600000e+18</td>\n",
              "      <td>False</td>\n",
              "      <td>2016-07-31</td>\n",
              "      <td>3.639006e+09</td>\n",
              "      <td>20.0</td>\n",
              "      <td>0.0</td>\n",
              "      <td>2016-07-31</td>\n",
              "      <td>US</td>\n",
              "      <td>MA</td>\n",
              "      <td>False</td>\n",
              "      <td>1</td>\n",
              "      <td>1</td>\n",
              "      <td>20.0</td>\n",
              "      <td>1</td>\n",
              "      <td>6</td>\n",
              "      <td>0</td>\n",
              "      <td>False</td>\n",
              "      <td>True</td>\n",
              "      <td>False</td>\n",
              "      <td>False</td>\n",
              "      <td>False</td>\n",
              "      <td>False</td>\n",
              "      <td>True</td>\n",
              "      <td>False</td>\n",
              "      <td>False</td>\n",
              "      <td>False</td>\n",
              "      <td>True</td>\n",
              "    </tr>\n",
              "    <tr>\n",
              "      <th>1</th>\n",
              "      <td>-5.490000e+18</td>\n",
              "      <td>True</td>\n",
              "      <td>2016-07-31</td>\n",
              "      <td>3.638473e+09</td>\n",
              "      <td>20.0</td>\n",
              "      <td>0.0</td>\n",
              "      <td>2016-07-31</td>\n",
              "      <td>US</td>\n",
              "      <td>OH</td>\n",
              "      <td>False</td>\n",
              "      <td>1</td>\n",
              "      <td>1</td>\n",
              "      <td>20.0</td>\n",
              "      <td>1</td>\n",
              "      <td>6</td>\n",
              "      <td>0</td>\n",
              "      <td>False</td>\n",
              "      <td>True</td>\n",
              "      <td>False</td>\n",
              "      <td>False</td>\n",
              "      <td>False</td>\n",
              "      <td>False</td>\n",
              "      <td>True</td>\n",
              "      <td>False</td>\n",
              "      <td>False</td>\n",
              "      <td>False</td>\n",
              "      <td>True</td>\n",
              "    </tr>\n",
              "    <tr>\n",
              "      <th>2</th>\n",
              "      <td>3.840000e+18</td>\n",
              "      <td>False</td>\n",
              "      <td>2016-07-31</td>\n",
              "      <td>3.633415e+09</td>\n",
              "      <td>20.0</td>\n",
              "      <td>0.0</td>\n",
              "      <td>2016-07-31</td>\n",
              "      <td>US</td>\n",
              "      <td>OH</td>\n",
              "      <td>False</td>\n",
              "      <td>1</td>\n",
              "      <td>1</td>\n",
              "      <td>20.0</td>\n",
              "      <td>1</td>\n",
              "      <td>6</td>\n",
              "      <td>0</td>\n",
              "      <td>False</td>\n",
              "      <td>True</td>\n",
              "      <td>False</td>\n",
              "      <td>False</td>\n",
              "      <td>False</td>\n",
              "      <td>False</td>\n",
              "      <td>True</td>\n",
              "      <td>False</td>\n",
              "      <td>False</td>\n",
              "      <td>False</td>\n",
              "      <td>True</td>\n",
              "    </tr>\n",
              "    <tr>\n",
              "      <th>3</th>\n",
              "      <td>2.380000e+18</td>\n",
              "      <td>True</td>\n",
              "      <td>2016-07-31</td>\n",
              "      <td>3.636015e+09</td>\n",
              "      <td>20.0</td>\n",
              "      <td>0.0</td>\n",
              "      <td>2016-07-31</td>\n",
              "      <td>US</td>\n",
              "      <td>NY</td>\n",
              "      <td>False</td>\n",
              "      <td>1</td>\n",
              "      <td>1</td>\n",
              "      <td>20.0</td>\n",
              "      <td>1</td>\n",
              "      <td>6</td>\n",
              "      <td>0</td>\n",
              "      <td>False</td>\n",
              "      <td>True</td>\n",
              "      <td>False</td>\n",
              "      <td>False</td>\n",
              "      <td>False</td>\n",
              "      <td>False</td>\n",
              "      <td>True</td>\n",
              "      <td>False</td>\n",
              "      <td>False</td>\n",
              "      <td>False</td>\n",
              "      <td>True</td>\n",
              "    </tr>\n",
              "    <tr>\n",
              "      <th>4</th>\n",
              "      <td>-6.390000e+18</td>\n",
              "      <td>False</td>\n",
              "      <td>2016-07-31</td>\n",
              "      <td>3.636490e+09</td>\n",
              "      <td>20.0</td>\n",
              "      <td>0.0</td>\n",
              "      <td>2016-07-31</td>\n",
              "      <td>US</td>\n",
              "      <td>WI</td>\n",
              "      <td>False</td>\n",
              "      <td>1</td>\n",
              "      <td>1</td>\n",
              "      <td>20.0</td>\n",
              "      <td>1</td>\n",
              "      <td>6</td>\n",
              "      <td>0</td>\n",
              "      <td>False</td>\n",
              "      <td>True</td>\n",
              "      <td>False</td>\n",
              "      <td>False</td>\n",
              "      <td>False</td>\n",
              "      <td>False</td>\n",
              "      <td>True</td>\n",
              "      <td>True</td>\n",
              "      <td>True</td>\n",
              "      <td>False</td>\n",
              "      <td>True</td>\n",
              "    </tr>\n",
              "  </tbody>\n",
              "</table>\n",
              "</div>"
            ],
            "text/plain": [
              "            uid  buyer_accepts_marketing order_date      order_id  \\\n",
              "0 -1.600000e+18                    False 2016-07-31  3.639006e+09   \n",
              "1 -5.490000e+18                     True 2016-07-31  3.638473e+09   \n",
              "2  3.840000e+18                    False 2016-07-31  3.633415e+09   \n",
              "3  2.380000e+18                     True 2016-07-31  3.636015e+09   \n",
              "4 -6.390000e+18                    False 2016-07-31  3.636490e+09   \n",
              "\n",
              "   first_order_revenue  first_order_discount first_order_date country_code  \\\n",
              "0                 20.0                   0.0       2016-07-31           US   \n",
              "1                 20.0                   0.0       2016-07-31           US   \n",
              "2                 20.0                   0.0       2016-07-31           US   \n",
              "3                 20.0                   0.0       2016-07-31           US   \n",
              "4                 20.0                   0.0       2016-07-31           US   \n",
              "\n",
              "  province_code  requires_shipping  item_qty  unique_item  revenue_12m  \\\n",
              "0            MA              False         1            1         20.0   \n",
              "1            OH              False         1            1         20.0   \n",
              "2            OH              False         1            1         20.0   \n",
              "3            NY              False         1            1         20.0   \n",
              "4            WI              False         1            1         20.0   \n",
              "\n",
              "   order_count_12m day_of_week  repeat_purchase  utm_content_known  \\\n",
              "0                1           6                0              False   \n",
              "1                1           6                0              False   \n",
              "2                1           6                0              False   \n",
              "3                1           6                0              False   \n",
              "4                1           6                0              False   \n",
              "\n",
              "   landing_site_known  utm_term_known  utm_campaign_known  utm_medium_known  \\\n",
              "0                True           False               False             False   \n",
              "1                True           False               False             False   \n",
              "2                True           False               False             False   \n",
              "3                True           False               False             False   \n",
              "4                True           False               False             False   \n",
              "\n",
              "   utm_source_known  referring_site_known  AE_known  DD_known  SP_known  \\\n",
              "0             False                  True     False     False     False   \n",
              "1             False                  True     False     False     False   \n",
              "2             False                  True     False     False     False   \n",
              "3             False                  True     False     False     False   \n",
              "4             False                  True      True      True     False   \n",
              "\n",
              "  log_first_range  \n",
              "0            True  \n",
              "1            True  \n",
              "2            True  \n",
              "3            True  \n",
              "4            True  "
            ]
          },
          "metadata": {
            "tags": []
          },
          "execution_count": 70
        }
      ]
    },
    {
      "cell_type": "code",
      "metadata": {
        "id": "BS60MOhwOOCt",
        "colab_type": "code",
        "colab": {
          "base_uri": "https://localhost:8080/",
          "height": 34
        },
        "outputId": "12c1d097-c416-418f-f5c1-bb810d835aac"
      },
      "source": [
        "### Train - test split\n",
        "train = df_customer[df_customer.first_order_date < '2018-10-31']\n",
        "test  = df_customer[df_customer.first_order_date > '2018-10-31']\n",
        "train.drop(columns=['uid','order_date','order_id','first_order_date','revenue_12m','order_count_12m'], inplace= True)\n",
        "test.drop(columns=['uid','order_date','order_id','first_order_date','revenue_12m','order_count_12m'], inplace= True)\n",
        "train.shape, test.shape"
      ],
      "execution_count": 73,
      "outputs": [
        {
          "output_type": "execute_result",
          "data": {
            "text/plain": [
              "((351858, 21), (26187, 21))"
            ]
          },
          "metadata": {
            "tags": []
          },
          "execution_count": 73
        }
      ]
    },
    {
      "cell_type": "code",
      "metadata": {
        "id": "JzRrmOTehfCu",
        "colab_type": "code",
        "colab": {
          "base_uri": "https://localhost:8080/",
          "height": 153
        },
        "outputId": "ca994533-3797-41f7-94ec-57739170a58b"
      },
      "source": [
        "train.columns"
      ],
      "execution_count": 74,
      "outputs": [
        {
          "output_type": "execute_result",
          "data": {
            "text/plain": [
              "Index(['buyer_accepts_marketing', 'first_order_revenue',\n",
              "       'first_order_discount', 'country_code', 'province_code',\n",
              "       'requires_shipping', 'item_qty', 'unique_item', 'day_of_week',\n",
              "       'repeat_purchase', 'utm_content_known', 'landing_site_known',\n",
              "       'utm_term_known', 'utm_campaign_known', 'utm_medium_known',\n",
              "       'utm_source_known', 'referring_site_known', 'AE_known', 'DD_known',\n",
              "       'SP_known', 'log_first_range'],\n",
              "      dtype='object')"
            ]
          },
          "metadata": {
            "tags": []
          },
          "execution_count": 74
        }
      ]
    },
    {
      "cell_type": "code",
      "metadata": {
        "id": "FVYR65YkTq_r",
        "colab_type": "code",
        "colab": {
          "base_uri": "https://localhost:8080/",
          "height": 85
        },
        "outputId": "f8f4aee4-7192-47f6-ccd1-616544236b6a"
      },
      "source": [
        "train.groupby('repeat_purchase').size()"
      ],
      "execution_count": 75,
      "outputs": [
        {
          "output_type": "execute_result",
          "data": {
            "text/plain": [
              "repeat_purchase\n",
              "0    258539\n",
              "1     93319\n",
              "dtype: int64"
            ]
          },
          "metadata": {
            "tags": []
          },
          "execution_count": 75
        }
      ]
    },
    {
      "cell_type": "code",
      "metadata": {
        "id": "fa8XSqo2Tr4P",
        "colab_type": "code",
        "colab": {
          "base_uri": "https://localhost:8080/",
          "height": 85
        },
        "outputId": "ae60938a-89a6-4d26-d7ac-a14581cd9352"
      },
      "source": [
        "test.groupby('repeat_purchase').size()"
      ],
      "execution_count": 76,
      "outputs": [
        {
          "output_type": "execute_result",
          "data": {
            "text/plain": [
              "repeat_purchase\n",
              "0    21430\n",
              "1     4757\n",
              "dtype: int64"
            ]
          },
          "metadata": {
            "tags": []
          },
          "execution_count": 76
        }
      ]
    },
    {
      "cell_type": "markdown",
      "metadata": {
        "id": "YAgEcsoWWZN9",
        "colab_type": "text"
      },
      "source": [
        "### Target Encoding"
      ]
    },
    {
      "cell_type": "code",
      "metadata": {
        "id": "PZYpv1UhTPv6",
        "colab_type": "code",
        "colab": {}
      },
      "source": [
        "from category_encoders import TargetEncoder\n",
        "encoder = TargetEncoder()\n",
        "train['country_code_encoded'] = encoder.fit_transform(train['country_code'], train['repeat_purchase'])\n",
        "test['country_code_encoded'] = encoder.fit_transform(test['country_code'], test['repeat_purchase'])\n",
        "train.drop(columns=['country_code','province_code'], inplace= True)\n",
        "test.drop(columns=['country_code','province_code'], inplace= True)\n"
      ],
      "execution_count": 77,
      "outputs": []
    },
    {
      "cell_type": "code",
      "metadata": {
        "id": "f75T3FWsNORa",
        "colab_type": "code",
        "colab": {
          "base_uri": "https://localhost:8080/",
          "height": 34
        },
        "outputId": "971af44b-b748-4682-c3ae-d519367ebb1d"
      },
      "source": [
        "train.shape, test.shape"
      ],
      "execution_count": 78,
      "outputs": [
        {
          "output_type": "execute_result",
          "data": {
            "text/plain": [
              "((351858, 20), (26187, 20))"
            ]
          },
          "metadata": {
            "tags": []
          },
          "execution_count": 78
        }
      ]
    },
    {
      "cell_type": "markdown",
      "metadata": {
        "id": "xIk-d3LYQvCU",
        "colab_type": "text"
      },
      "source": [
        "### Dummy variables"
      ]
    },
    {
      "cell_type": "code",
      "metadata": {
        "id": "RQJ3W9F5MVLT",
        "colab_type": "code",
        "colab": {
          "base_uri": "https://localhost:8080/",
          "height": 34
        },
        "outputId": "64118abe-573f-4dfd-d0ba-1ad8fc32787a"
      },
      "source": [
        "X_train= train.drop(columns='repeat_purchase')\n",
        "X_train= pd.get_dummies(X_train)\n",
        "\n",
        "X_test= test.drop(columns='repeat_purchase')\n",
        "X_test= pd.get_dummies(X_test)\n",
        "print(X_train.shape, X_test.shape)"
      ],
      "execution_count": 89,
      "outputs": [
        {
          "output_type": "stream",
          "text": [
            "(351858, 26) (26187, 26)\n"
          ],
          "name": "stdout"
        }
      ]
    },
    {
      "cell_type": "code",
      "metadata": {
        "id": "dIyrSUNDRJoE",
        "colab_type": "code",
        "colab": {}
      },
      "source": [
        "y_test  = np.array(test['repeat_purchase'])\n",
        "y_train =  np.array(train['repeat_purchase'])\n",
        "# Convert to numpy array\n",
        "features_train = np.array(X_train)\n",
        "features_test = np.array(X_test)"
      ],
      "execution_count": 90,
      "outputs": []
    },
    {
      "cell_type": "markdown",
      "metadata": {
        "id": "1SHXaKOmQ4tZ",
        "colab_type": "text"
      },
      "source": [
        "## 6.Modeling and hyperparameter tunning via grid search"
      ]
    },
    {
      "cell_type": "markdown",
      "metadata": {
        "id": "DYCndAkxDZRK",
        "colab_type": "text"
      },
      "source": [
        "###LogisticRegression"
      ]
    },
    {
      "cell_type": "code",
      "metadata": {
        "id": "2QiFR-KvS36I",
        "colab_type": "code",
        "colab": {
          "base_uri": "https://localhost:8080/",
          "height": 153
        },
        "outputId": "7219908e-9d92-4238-aa1b-7d01935e354d"
      },
      "source": [
        "model = LogisticRegression(random_state=42,class_weight='balanced')\n",
        "param_grid = {'solver': ['liblinear'],  #'lbfgs'\n",
        "              'penalty': ['l2','l1'], \n",
        "              'C': [0.0002, 0.0005,0.0008, 0.000010]\n",
        "             }\n",
        "\n",
        "feat1= []\n",
        "feat2 = []\n",
        "feat3 =[]\n",
        "f1 = []\n",
        "test_f1=[]\n",
        "train_f1=[]\n",
        "\n",
        "\n",
        "for params in ParameterGrid(param_grid):\n",
        "    model.set_params(**params)\n",
        "    model.fit(X_train, y_train)\n",
        "    y_test_pred=model.predict(X_test)\n",
        "    y_train_pred= model.predict(X_train)\n",
        "    test_f1_score=metrics.f1_score(y_test, y_test_pred)\n",
        "    train_f1_score=metrics.f1_score(y_train, y_train_pred)\n",
        "    feat1.append(params['solver'])\n",
        "    feat2.append(params['penalty'])\n",
        "    feat3.append(params['C'])\n",
        "    test_f1.append(test_f1_score)\n",
        "    train_f1.append(train_f1_score)\n",
        "    f1.append(test_f1)\n",
        "    print(params, test_f1_score, train_f1_score)"
      ],
      "execution_count": 117,
      "outputs": [
        {
          "output_type": "stream",
          "text": [
            "{'C': 0.0002, 'penalty': 'l2', 'solver': 'liblinear'} 0.3426622917068777 0.4598774656306037\n",
            "{'C': 0.0002, 'penalty': 'l1', 'solver': 'liblinear'} 0.3594800537875392 0.4300736192899262\n",
            "{'C': 0.0005, 'penalty': 'l2', 'solver': 'liblinear'} 0.3361673414304993 0.4600846717189709\n",
            "{'C': 0.0005, 'penalty': 'l1', 'solver': 'liblinear'} 0.3622280441963777 0.45088211708099435\n",
            "{'C': 0.0008, 'penalty': 'l2', 'solver': 'liblinear'} 0.33684355427076884 0.4603446265417354\n",
            "{'C': 0.0008, 'penalty': 'l1', 'solver': 'liblinear'} 0.3384149758995628 0.4611736544862925\n",
            "{'C': 1e-05, 'penalty': 'l2', 'solver': 'liblinear'} 0.35346989966555187 0.43783899620176464\n",
            "{'C': 1e-05, 'penalty': 'l1', 'solver': 'liblinear'} 0.30745863495346437 0.4192444802853696\n"
          ],
          "name": "stdout"
        }
      ]
    },
    {
      "cell_type": "code",
      "metadata": {
        "id": "nRewPvCA2Zn-",
        "colab_type": "code",
        "colab": {
          "base_uri": "https://localhost:8080/",
          "height": 297
        },
        "outputId": "16e34aca-7d4d-46fb-ae07-fd810088398f"
      },
      "source": [
        "hp1 = pd.DataFrame({'solver': feat1, 'penalty': feat2, 'C': feat3,'test_f1_score':test_f1, 'train_f1_score':train_f1})\n",
        "hp1"
      ],
      "execution_count": 92,
      "outputs": [
        {
          "output_type": "execute_result",
          "data": {
            "text/html": [
              "<div>\n",
              "<style scoped>\n",
              "    .dataframe tbody tr th:only-of-type {\n",
              "        vertical-align: middle;\n",
              "    }\n",
              "\n",
              "    .dataframe tbody tr th {\n",
              "        vertical-align: top;\n",
              "    }\n",
              "\n",
              "    .dataframe thead th {\n",
              "        text-align: right;\n",
              "    }\n",
              "</style>\n",
              "<table border=\"1\" class=\"dataframe\">\n",
              "  <thead>\n",
              "    <tr style=\"text-align: right;\">\n",
              "      <th></th>\n",
              "      <th>solver</th>\n",
              "      <th>penalty</th>\n",
              "      <th>C</th>\n",
              "      <th>test_f1_score</th>\n",
              "      <th>train_f1_score</th>\n",
              "    </tr>\n",
              "  </thead>\n",
              "  <tbody>\n",
              "    <tr>\n",
              "      <th>0</th>\n",
              "      <td>liblinear</td>\n",
              "      <td>l2</td>\n",
              "      <td>0.00020</td>\n",
              "      <td>0.342662</td>\n",
              "      <td>0.459877</td>\n",
              "    </tr>\n",
              "    <tr>\n",
              "      <th>1</th>\n",
              "      <td>liblinear</td>\n",
              "      <td>l1</td>\n",
              "      <td>0.00020</td>\n",
              "      <td>0.359480</td>\n",
              "      <td>0.430074</td>\n",
              "    </tr>\n",
              "    <tr>\n",
              "      <th>2</th>\n",
              "      <td>liblinear</td>\n",
              "      <td>l2</td>\n",
              "      <td>0.00050</td>\n",
              "      <td>0.336167</td>\n",
              "      <td>0.460085</td>\n",
              "    </tr>\n",
              "    <tr>\n",
              "      <th>3</th>\n",
              "      <td>liblinear</td>\n",
              "      <td>l1</td>\n",
              "      <td>0.00050</td>\n",
              "      <td>0.362228</td>\n",
              "      <td>0.450882</td>\n",
              "    </tr>\n",
              "    <tr>\n",
              "      <th>4</th>\n",
              "      <td>liblinear</td>\n",
              "      <td>l2</td>\n",
              "      <td>0.00080</td>\n",
              "      <td>0.336844</td>\n",
              "      <td>0.460345</td>\n",
              "    </tr>\n",
              "    <tr>\n",
              "      <th>5</th>\n",
              "      <td>liblinear</td>\n",
              "      <td>l1</td>\n",
              "      <td>0.00080</td>\n",
              "      <td>0.338415</td>\n",
              "      <td>0.461174</td>\n",
              "    </tr>\n",
              "    <tr>\n",
              "      <th>6</th>\n",
              "      <td>liblinear</td>\n",
              "      <td>l2</td>\n",
              "      <td>0.00001</td>\n",
              "      <td>0.353470</td>\n",
              "      <td>0.437839</td>\n",
              "    </tr>\n",
              "    <tr>\n",
              "      <th>7</th>\n",
              "      <td>liblinear</td>\n",
              "      <td>l1</td>\n",
              "      <td>0.00001</td>\n",
              "      <td>0.307459</td>\n",
              "      <td>0.419244</td>\n",
              "    </tr>\n",
              "  </tbody>\n",
              "</table>\n",
              "</div>"
            ],
            "text/plain": [
              "      solver penalty        C  test_f1_score  train_f1_score\n",
              "0  liblinear      l2  0.00020       0.342662        0.459877\n",
              "1  liblinear      l1  0.00020       0.359480        0.430074\n",
              "2  liblinear      l2  0.00050       0.336167        0.460085\n",
              "3  liblinear      l1  0.00050       0.362228        0.450882\n",
              "4  liblinear      l2  0.00080       0.336844        0.460345\n",
              "5  liblinear      l1  0.00080       0.338415        0.461174\n",
              "6  liblinear      l2  0.00001       0.353470        0.437839\n",
              "7  liblinear      l1  0.00001       0.307459        0.419244"
            ]
          },
          "metadata": {
            "tags": []
          },
          "execution_count": 92
        }
      ]
    },
    {
      "cell_type": "code",
      "metadata": {
        "id": "x-HOdoXD30nr",
        "colab_type": "code",
        "colab": {
          "base_uri": "https://localhost:8080/",
          "height": 85
        },
        "outputId": "6dfa1b65-8844-413d-bfd4-7f516a22becb"
      },
      "source": [
        "model = LogisticRegression(random_state=42,class_weight='balanced')\n",
        "param_grid = {'solver': ['lbfgs'],  #'lbfgs'\n",
        "              'penalty': ['l2'], \n",
        "              'C': [0.0002, 0.0005,0.0008, 0.000010]\n",
        "             }                   \t\n",
        "feat1= []\n",
        "feat2 = []\n",
        "feat3 =[]\n",
        "f1 = []\n",
        "test_f1=[]\n",
        "train_f1=[]\n",
        "\n",
        "\n",
        "for params in ParameterGrid(param_grid):\n",
        "    model.set_params(**params)\n",
        "    model.fit(X_train, y_train)\n",
        "    y_test_pred=model.predict(X_test)\n",
        "    y_train_pred= model.predict(X_train)\n",
        "    test_f1_score=metrics.f1_score(y_test, y_test_pred)\n",
        "    train_f1_score=metrics.f1_score(y_train, y_train_pred)\n",
        "    feat1.append(params['solver'])\n",
        "    feat2.append(params['penalty'])\n",
        "    feat3.append(params['C'])\n",
        "    test_f1.append(test_f1_score)\n",
        "    train_f1.append(train_f1_score)\n",
        "    f1.append(test_f1)\n",
        "    print(params, test_f1_score, train_f1_score)"
      ],
      "execution_count": 124,
      "outputs": [
        {
          "output_type": "stream",
          "text": [
            "{'C': 0.0002, 'penalty': 'l2', 'solver': 'lbfgs'} 0.3395061728395061 0.4601372557853164\n",
            "{'C': 0.0005, 'penalty': 'l2', 'solver': 'lbfgs'} 0.33317441939658105 0.4601523613762785\n",
            "{'C': 0.0008, 'penalty': 'l2', 'solver': 'lbfgs'} 0.33703065794006204 0.4606345740430178\n",
            "{'C': 1e-05, 'penalty': 'l2', 'solver': 'lbfgs'} 0.3599701269604182 0.4325596987580787\n"
          ],
          "name": "stdout"
        }
      ]
    },
    {
      "cell_type": "code",
      "metadata": {
        "id": "xeaeLTlg8FKv",
        "colab_type": "code",
        "colab": {
          "base_uri": "https://localhost:8080/",
          "height": 173
        },
        "outputId": "164e7861-767f-49a5-b367-3a7fd2e6257f"
      },
      "source": [
        "hp2 = pd.DataFrame({'solver': feat1, 'penalty': feat2, 'C': feat3,'test_f1_score':test_f1, 'train_f1_score':train_f1})\n",
        "hp2"
      ],
      "execution_count": 125,
      "outputs": [
        {
          "output_type": "execute_result",
          "data": {
            "text/html": [
              "<div>\n",
              "<style scoped>\n",
              "    .dataframe tbody tr th:only-of-type {\n",
              "        vertical-align: middle;\n",
              "    }\n",
              "\n",
              "    .dataframe tbody tr th {\n",
              "        vertical-align: top;\n",
              "    }\n",
              "\n",
              "    .dataframe thead th {\n",
              "        text-align: right;\n",
              "    }\n",
              "</style>\n",
              "<table border=\"1\" class=\"dataframe\">\n",
              "  <thead>\n",
              "    <tr style=\"text-align: right;\">\n",
              "      <th></th>\n",
              "      <th>solver</th>\n",
              "      <th>penalty</th>\n",
              "      <th>C</th>\n",
              "      <th>test_f1_score</th>\n",
              "      <th>train_f1_score</th>\n",
              "    </tr>\n",
              "  </thead>\n",
              "  <tbody>\n",
              "    <tr>\n",
              "      <th>0</th>\n",
              "      <td>lbfgs</td>\n",
              "      <td>l2</td>\n",
              "      <td>0.00020</td>\n",
              "      <td>0.339506</td>\n",
              "      <td>0.460137</td>\n",
              "    </tr>\n",
              "    <tr>\n",
              "      <th>1</th>\n",
              "      <td>lbfgs</td>\n",
              "      <td>l2</td>\n",
              "      <td>0.00050</td>\n",
              "      <td>0.333174</td>\n",
              "      <td>0.460152</td>\n",
              "    </tr>\n",
              "    <tr>\n",
              "      <th>2</th>\n",
              "      <td>lbfgs</td>\n",
              "      <td>l2</td>\n",
              "      <td>0.00080</td>\n",
              "      <td>0.337031</td>\n",
              "      <td>0.460635</td>\n",
              "    </tr>\n",
              "    <tr>\n",
              "      <th>3</th>\n",
              "      <td>lbfgs</td>\n",
              "      <td>l2</td>\n",
              "      <td>0.00001</td>\n",
              "      <td>0.359970</td>\n",
              "      <td>0.432560</td>\n",
              "    </tr>\n",
              "  </tbody>\n",
              "</table>\n",
              "</div>"
            ],
            "text/plain": [
              "  solver penalty        C  test_f1_score  train_f1_score\n",
              "0  lbfgs      l2  0.00020       0.339506        0.460137\n",
              "1  lbfgs      l2  0.00050       0.333174        0.460152\n",
              "2  lbfgs      l2  0.00080       0.337031        0.460635\n",
              "3  lbfgs      l2  0.00001       0.359970        0.432560"
            ]
          },
          "metadata": {
            "tags": []
          },
          "execution_count": 125
        }
      ]
    },
    {
      "cell_type": "code",
      "metadata": {
        "id": "GVDmpjVA4goE",
        "colab_type": "code",
        "colab": {
          "base_uri": "https://localhost:8080/",
          "height": 421
        },
        "outputId": "d8b498e5-2043-4fbe-9a0e-6358c15e3a9a"
      },
      "source": [
        "hp=pd.concat([hp1, hp2], axis=0)\n",
        "hp['classifier']='LogisticRegression'\n",
        "hp"
      ],
      "execution_count": 95,
      "outputs": [
        {
          "output_type": "execute_result",
          "data": {
            "text/html": [
              "<div>\n",
              "<style scoped>\n",
              "    .dataframe tbody tr th:only-of-type {\n",
              "        vertical-align: middle;\n",
              "    }\n",
              "\n",
              "    .dataframe tbody tr th {\n",
              "        vertical-align: top;\n",
              "    }\n",
              "\n",
              "    .dataframe thead th {\n",
              "        text-align: right;\n",
              "    }\n",
              "</style>\n",
              "<table border=\"1\" class=\"dataframe\">\n",
              "  <thead>\n",
              "    <tr style=\"text-align: right;\">\n",
              "      <th></th>\n",
              "      <th>solver</th>\n",
              "      <th>penalty</th>\n",
              "      <th>C</th>\n",
              "      <th>test_f1_score</th>\n",
              "      <th>train_f1_score</th>\n",
              "      <th>classifier</th>\n",
              "    </tr>\n",
              "  </thead>\n",
              "  <tbody>\n",
              "    <tr>\n",
              "      <th>0</th>\n",
              "      <td>liblinear</td>\n",
              "      <td>l2</td>\n",
              "      <td>0.00020</td>\n",
              "      <td>0.342662</td>\n",
              "      <td>0.459877</td>\n",
              "      <td>LogisticRegression</td>\n",
              "    </tr>\n",
              "    <tr>\n",
              "      <th>1</th>\n",
              "      <td>liblinear</td>\n",
              "      <td>l1</td>\n",
              "      <td>0.00020</td>\n",
              "      <td>0.359480</td>\n",
              "      <td>0.430074</td>\n",
              "      <td>LogisticRegression</td>\n",
              "    </tr>\n",
              "    <tr>\n",
              "      <th>2</th>\n",
              "      <td>liblinear</td>\n",
              "      <td>l2</td>\n",
              "      <td>0.00050</td>\n",
              "      <td>0.336167</td>\n",
              "      <td>0.460085</td>\n",
              "      <td>LogisticRegression</td>\n",
              "    </tr>\n",
              "    <tr>\n",
              "      <th>3</th>\n",
              "      <td>liblinear</td>\n",
              "      <td>l1</td>\n",
              "      <td>0.00050</td>\n",
              "      <td>0.362228</td>\n",
              "      <td>0.450882</td>\n",
              "      <td>LogisticRegression</td>\n",
              "    </tr>\n",
              "    <tr>\n",
              "      <th>4</th>\n",
              "      <td>liblinear</td>\n",
              "      <td>l2</td>\n",
              "      <td>0.00080</td>\n",
              "      <td>0.336844</td>\n",
              "      <td>0.460345</td>\n",
              "      <td>LogisticRegression</td>\n",
              "    </tr>\n",
              "    <tr>\n",
              "      <th>5</th>\n",
              "      <td>liblinear</td>\n",
              "      <td>l1</td>\n",
              "      <td>0.00080</td>\n",
              "      <td>0.338415</td>\n",
              "      <td>0.461174</td>\n",
              "      <td>LogisticRegression</td>\n",
              "    </tr>\n",
              "    <tr>\n",
              "      <th>6</th>\n",
              "      <td>liblinear</td>\n",
              "      <td>l2</td>\n",
              "      <td>0.00001</td>\n",
              "      <td>0.353470</td>\n",
              "      <td>0.437839</td>\n",
              "      <td>LogisticRegression</td>\n",
              "    </tr>\n",
              "    <tr>\n",
              "      <th>7</th>\n",
              "      <td>liblinear</td>\n",
              "      <td>l1</td>\n",
              "      <td>0.00001</td>\n",
              "      <td>0.307459</td>\n",
              "      <td>0.419244</td>\n",
              "      <td>LogisticRegression</td>\n",
              "    </tr>\n",
              "    <tr>\n",
              "      <th>0</th>\n",
              "      <td>lbfgs</td>\n",
              "      <td>l2</td>\n",
              "      <td>0.00020</td>\n",
              "      <td>0.339506</td>\n",
              "      <td>0.460137</td>\n",
              "      <td>LogisticRegression</td>\n",
              "    </tr>\n",
              "    <tr>\n",
              "      <th>1</th>\n",
              "      <td>lbfgs</td>\n",
              "      <td>l2</td>\n",
              "      <td>0.00050</td>\n",
              "      <td>0.333174</td>\n",
              "      <td>0.460152</td>\n",
              "      <td>LogisticRegression</td>\n",
              "    </tr>\n",
              "    <tr>\n",
              "      <th>2</th>\n",
              "      <td>lbfgs</td>\n",
              "      <td>l2</td>\n",
              "      <td>0.00080</td>\n",
              "      <td>0.337031</td>\n",
              "      <td>0.460635</td>\n",
              "      <td>LogisticRegression</td>\n",
              "    </tr>\n",
              "    <tr>\n",
              "      <th>3</th>\n",
              "      <td>lbfgs</td>\n",
              "      <td>l2</td>\n",
              "      <td>0.00001</td>\n",
              "      <td>0.359970</td>\n",
              "      <td>0.432560</td>\n",
              "      <td>LogisticRegression</td>\n",
              "    </tr>\n",
              "  </tbody>\n",
              "</table>\n",
              "</div>"
            ],
            "text/plain": [
              "      solver penalty        C  test_f1_score  train_f1_score  \\\n",
              "0  liblinear      l2  0.00020       0.342662        0.459877   \n",
              "1  liblinear      l1  0.00020       0.359480        0.430074   \n",
              "2  liblinear      l2  0.00050       0.336167        0.460085   \n",
              "3  liblinear      l1  0.00050       0.362228        0.450882   \n",
              "4  liblinear      l2  0.00080       0.336844        0.460345   \n",
              "5  liblinear      l1  0.00080       0.338415        0.461174   \n",
              "6  liblinear      l2  0.00001       0.353470        0.437839   \n",
              "7  liblinear      l1  0.00001       0.307459        0.419244   \n",
              "0      lbfgs      l2  0.00020       0.339506        0.460137   \n",
              "1      lbfgs      l2  0.00050       0.333174        0.460152   \n",
              "2      lbfgs      l2  0.00080       0.337031        0.460635   \n",
              "3      lbfgs      l2  0.00001       0.359970        0.432560   \n",
              "\n",
              "           classifier  \n",
              "0  LogisticRegression  \n",
              "1  LogisticRegression  \n",
              "2  LogisticRegression  \n",
              "3  LogisticRegression  \n",
              "4  LogisticRegression  \n",
              "5  LogisticRegression  \n",
              "6  LogisticRegression  \n",
              "7  LogisticRegression  \n",
              "0  LogisticRegression  \n",
              "1  LogisticRegression  \n",
              "2  LogisticRegression  \n",
              "3  LogisticRegression  "
            ]
          },
          "metadata": {
            "tags": []
          },
          "execution_count": 95
        }
      ]
    },
    {
      "cell_type": "code",
      "metadata": {
        "id": "opgcfTyw8xrc",
        "colab_type": "code",
        "colab": {
          "base_uri": "https://localhost:8080/",
          "height": 34
        },
        "outputId": "90a5f101-9fd3-48fd-e087-47a23ddab7de"
      },
      "source": [
        "hp.test_f1_score.max()"
      ],
      "execution_count": 96,
      "outputs": [
        {
          "output_type": "execute_result",
          "data": {
            "text/plain": [
              "0.3622280441963777"
            ]
          },
          "metadata": {
            "tags": []
          },
          "execution_count": 96
        }
      ]
    },
    {
      "cell_type": "markdown",
      "metadata": {
        "id": "JxGxTGfXEsez",
        "colab_type": "text"
      },
      "source": [
        "### DecisionTree"
      ]
    },
    {
      "cell_type": "code",
      "metadata": {
        "id": "VVnj-5AVURDQ",
        "colab_type": "code",
        "colab": {
          "base_uri": "https://localhost:8080/",
          "height": 119
        },
        "outputId": "89089193-b443-4141-f4f1-efbcf390b4ec"
      },
      "source": [
        "import graphviz\n",
        "from sklearn.tree import DecisionTreeClassifier\n",
        "from sklearn.tree import export_graphviz\n",
        "from graphviz import Source\n",
        "clf = DecisionTreeClassifier()\n",
        "print(clf)"
      ],
      "execution_count": 97,
      "outputs": [
        {
          "output_type": "stream",
          "text": [
            "DecisionTreeClassifier(ccp_alpha=0.0, class_weight=None, criterion='gini',\n",
            "                       max_depth=None, max_features=None, max_leaf_nodes=None,\n",
            "                       min_impurity_decrease=0.0, min_impurity_split=None,\n",
            "                       min_samples_leaf=1, min_samples_split=2,\n",
            "                       min_weight_fraction_leaf=0.0, presort='deprecated',\n",
            "                       random_state=None, splitter='best')\n"
          ],
          "name": "stdout"
        }
      ]
    },
    {
      "cell_type": "code",
      "metadata": {
        "id": "YxLNuNlJ6yvA",
        "colab_type": "code",
        "colab": {
          "base_uri": "https://localhost:8080/",
          "height": 1000
        },
        "outputId": "8f368e19-103f-4430-be30-1ab708757463"
      },
      "source": [
        "model = DecisionTreeClassifier(random_state=42,class_weight=\"balanced\")\n",
        "param_grid = {'criterion': ['gini','entropy'], \n",
        "              'splitter': ['best', 'random'], \n",
        "              'max_depth': [2,3,4], \n",
        "              'min_samples_split': [5, 50], \n",
        "              'min_samples_leaf': [2,10,15]\n",
        "             }\n",
        "feat1= []\n",
        "feat2 = []\n",
        "feat3 =[]\n",
        "feat4 =[]\n",
        "feat5 =[]\n",
        "f1 = []\n",
        "test_f1=[]\n",
        "train_f1=[]\n",
        "\n",
        "\n",
        "for params in ParameterGrid(param_grid):\n",
        "    model.set_params(**params)\n",
        "    model.fit(X_train, y_train)\n",
        "    y_test_pred=model.predict(X_test)\n",
        "    test_f1_score=metrics.f1_score(y_test, y_test_pred)\n",
        "    y_train_pred= model.predict(X_train)\n",
        "    train_f1_score=metrics.f1_score(y_train, y_train_pred)\n",
        "    feat1.append(params['criterion'])\n",
        "    feat2.append(params['splitter'])\n",
        "    feat3.append(params['max_depth'])\n",
        "    feat4.append(params['min_samples_split'])\n",
        "    feat5.append(params['min_samples_leaf'])\n",
        "    test_f1.append(test_f1_score)\n",
        "    train_f1.append(train_f1_score)\n",
        "    f1.append(test_f1)\n",
        "    print(params, test_f1_score,train_f1_score) "
      ],
      "execution_count": 98,
      "outputs": [
        {
          "output_type": "stream",
          "text": [
            "{'criterion': 'gini', 'max_depth': 2, 'min_samples_leaf': 2, 'min_samples_split': 5, 'splitter': 'best'} 0.3320290665176076 0.40544527417782383\n",
            "{'criterion': 'gini', 'max_depth': 2, 'min_samples_leaf': 2, 'min_samples_split': 5, 'splitter': 'random'} 0.3320290665176076 0.40544527417782383\n",
            "{'criterion': 'gini', 'max_depth': 2, 'min_samples_leaf': 2, 'min_samples_split': 50, 'splitter': 'best'} 0.3320290665176076 0.40544527417782383\n",
            "{'criterion': 'gini', 'max_depth': 2, 'min_samples_leaf': 2, 'min_samples_split': 50, 'splitter': 'random'} 0.3320290665176076 0.40544527417782383\n",
            "{'criterion': 'gini', 'max_depth': 2, 'min_samples_leaf': 10, 'min_samples_split': 5, 'splitter': 'best'} 0.3320290665176076 0.40544527417782383\n",
            "{'criterion': 'gini', 'max_depth': 2, 'min_samples_leaf': 10, 'min_samples_split': 5, 'splitter': 'random'} 0.3320290665176076 0.40544527417782383\n",
            "{'criterion': 'gini', 'max_depth': 2, 'min_samples_leaf': 10, 'min_samples_split': 50, 'splitter': 'best'} 0.3320290665176076 0.40544527417782383\n",
            "{'criterion': 'gini', 'max_depth': 2, 'min_samples_leaf': 10, 'min_samples_split': 50, 'splitter': 'random'} 0.3320290665176076 0.40544527417782383\n",
            "{'criterion': 'gini', 'max_depth': 2, 'min_samples_leaf': 15, 'min_samples_split': 5, 'splitter': 'best'} 0.3320290665176076 0.40544527417782383\n",
            "{'criterion': 'gini', 'max_depth': 2, 'min_samples_leaf': 15, 'min_samples_split': 5, 'splitter': 'random'} 0.3320290665176076 0.40544527417782383\n",
            "{'criterion': 'gini', 'max_depth': 2, 'min_samples_leaf': 15, 'min_samples_split': 50, 'splitter': 'best'} 0.3320290665176076 0.40544527417782383\n",
            "{'criterion': 'gini', 'max_depth': 2, 'min_samples_leaf': 15, 'min_samples_split': 50, 'splitter': 'random'} 0.3320290665176076 0.40544527417782383\n",
            "{'criterion': 'gini', 'max_depth': 3, 'min_samples_leaf': 2, 'min_samples_split': 5, 'splitter': 'best'} 0.3324060090612829 0.407691377677474\n",
            "{'criterion': 'gini', 'max_depth': 3, 'min_samples_leaf': 2, 'min_samples_split': 5, 'splitter': 'random'} 0.3124545274158344 0.4402126639425994\n",
            "{'criterion': 'gini', 'max_depth': 3, 'min_samples_leaf': 2, 'min_samples_split': 50, 'splitter': 'best'} 0.3324060090612829 0.407691377677474\n",
            "{'criterion': 'gini', 'max_depth': 3, 'min_samples_leaf': 2, 'min_samples_split': 50, 'splitter': 'random'} 0.3124545274158344 0.4402126639425994\n",
            "{'criterion': 'gini', 'max_depth': 3, 'min_samples_leaf': 10, 'min_samples_split': 5, 'splitter': 'best'} 0.3324060090612829 0.407691377677474\n",
            "{'criterion': 'gini', 'max_depth': 3, 'min_samples_leaf': 10, 'min_samples_split': 5, 'splitter': 'random'} 0.3124545274158344 0.4402126639425994\n",
            "{'criterion': 'gini', 'max_depth': 3, 'min_samples_leaf': 10, 'min_samples_split': 50, 'splitter': 'best'} 0.3324060090612829 0.407691377677474\n",
            "{'criterion': 'gini', 'max_depth': 3, 'min_samples_leaf': 10, 'min_samples_split': 50, 'splitter': 'random'} 0.3124545274158344 0.4402126639425994\n",
            "{'criterion': 'gini', 'max_depth': 3, 'min_samples_leaf': 15, 'min_samples_split': 5, 'splitter': 'best'} 0.3324060090612829 0.407691377677474\n",
            "{'criterion': 'gini', 'max_depth': 3, 'min_samples_leaf': 15, 'min_samples_split': 5, 'splitter': 'random'} 0.3124545274158344 0.4402126639425994\n",
            "{'criterion': 'gini', 'max_depth': 3, 'min_samples_leaf': 15, 'min_samples_split': 50, 'splitter': 'best'} 0.3324060090612829 0.407691377677474\n",
            "{'criterion': 'gini', 'max_depth': 3, 'min_samples_leaf': 15, 'min_samples_split': 50, 'splitter': 'random'} 0.3124545274158344 0.4402126639425994\n",
            "{'criterion': 'gini', 'max_depth': 4, 'min_samples_leaf': 2, 'min_samples_split': 5, 'splitter': 'best'} 0.3321097989147782 0.40800435085365166\n",
            "{'criterion': 'gini', 'max_depth': 4, 'min_samples_leaf': 2, 'min_samples_split': 5, 'splitter': 'random'} 0.313074253045668 0.44319729650511214\n",
            "{'criterion': 'gini', 'max_depth': 4, 'min_samples_leaf': 2, 'min_samples_split': 50, 'splitter': 'best'} 0.3321097989147782 0.40800435085365166\n",
            "{'criterion': 'gini', 'max_depth': 4, 'min_samples_leaf': 2, 'min_samples_split': 50, 'splitter': 'random'} 0.313074253045668 0.44319729650511214\n",
            "{'criterion': 'gini', 'max_depth': 4, 'min_samples_leaf': 10, 'min_samples_split': 5, 'splitter': 'best'} 0.3321097989147782 0.40800435085365166\n",
            "{'criterion': 'gini', 'max_depth': 4, 'min_samples_leaf': 10, 'min_samples_split': 5, 'splitter': 'random'} 0.313074253045668 0.44319729650511214\n",
            "{'criterion': 'gini', 'max_depth': 4, 'min_samples_leaf': 10, 'min_samples_split': 50, 'splitter': 'best'} 0.3321097989147782 0.40800435085365166\n",
            "{'criterion': 'gini', 'max_depth': 4, 'min_samples_leaf': 10, 'min_samples_split': 50, 'splitter': 'random'} 0.313074253045668 0.44319729650511214\n",
            "{'criterion': 'gini', 'max_depth': 4, 'min_samples_leaf': 15, 'min_samples_split': 5, 'splitter': 'best'} 0.3321097989147782 0.40800435085365166\n",
            "{'criterion': 'gini', 'max_depth': 4, 'min_samples_leaf': 15, 'min_samples_split': 5, 'splitter': 'random'} 0.313074253045668 0.44319729650511214\n",
            "{'criterion': 'gini', 'max_depth': 4, 'min_samples_leaf': 15, 'min_samples_split': 50, 'splitter': 'best'} 0.3321097989147782 0.40800435085365166\n",
            "{'criterion': 'gini', 'max_depth': 4, 'min_samples_leaf': 15, 'min_samples_split': 50, 'splitter': 'random'} 0.313074253045668 0.44319729650511214\n",
            "{'criterion': 'entropy', 'max_depth': 2, 'min_samples_leaf': 2, 'min_samples_split': 5, 'splitter': 'best'} 0.3320290665176076 0.40544527417782383\n",
            "{'criterion': 'entropy', 'max_depth': 2, 'min_samples_leaf': 2, 'min_samples_split': 5, 'splitter': 'random'} 0.3320290665176076 0.40544527417782383\n",
            "{'criterion': 'entropy', 'max_depth': 2, 'min_samples_leaf': 2, 'min_samples_split': 50, 'splitter': 'best'} 0.3320290665176076 0.40544527417782383\n",
            "{'criterion': 'entropy', 'max_depth': 2, 'min_samples_leaf': 2, 'min_samples_split': 50, 'splitter': 'random'} 0.3320290665176076 0.40544527417782383\n",
            "{'criterion': 'entropy', 'max_depth': 2, 'min_samples_leaf': 10, 'min_samples_split': 5, 'splitter': 'best'} 0.3320290665176076 0.40544527417782383\n",
            "{'criterion': 'entropy', 'max_depth': 2, 'min_samples_leaf': 10, 'min_samples_split': 5, 'splitter': 'random'} 0.3320290665176076 0.40544527417782383\n",
            "{'criterion': 'entropy', 'max_depth': 2, 'min_samples_leaf': 10, 'min_samples_split': 50, 'splitter': 'best'} 0.3320290665176076 0.40544527417782383\n",
            "{'criterion': 'entropy', 'max_depth': 2, 'min_samples_leaf': 10, 'min_samples_split': 50, 'splitter': 'random'} 0.3320290665176076 0.40544527417782383\n",
            "{'criterion': 'entropy', 'max_depth': 2, 'min_samples_leaf': 15, 'min_samples_split': 5, 'splitter': 'best'} 0.3320290665176076 0.40544527417782383\n",
            "{'criterion': 'entropy', 'max_depth': 2, 'min_samples_leaf': 15, 'min_samples_split': 5, 'splitter': 'random'} 0.3320290665176076 0.40544527417782383\n",
            "{'criterion': 'entropy', 'max_depth': 2, 'min_samples_leaf': 15, 'min_samples_split': 50, 'splitter': 'best'} 0.3320290665176076 0.40544527417782383\n",
            "{'criterion': 'entropy', 'max_depth': 2, 'min_samples_leaf': 15, 'min_samples_split': 50, 'splitter': 'random'} 0.3320290665176076 0.40544527417782383\n",
            "{'criterion': 'entropy', 'max_depth': 3, 'min_samples_leaf': 2, 'min_samples_split': 5, 'splitter': 'best'} 0.3324060090612829 0.407691377677474\n",
            "{'criterion': 'entropy', 'max_depth': 3, 'min_samples_leaf': 2, 'min_samples_split': 5, 'splitter': 'random'} 0.3124545274158344 0.4402126639425994\n",
            "{'criterion': 'entropy', 'max_depth': 3, 'min_samples_leaf': 2, 'min_samples_split': 50, 'splitter': 'best'} 0.3324060090612829 0.407691377677474\n",
            "{'criterion': 'entropy', 'max_depth': 3, 'min_samples_leaf': 2, 'min_samples_split': 50, 'splitter': 'random'} 0.3124545274158344 0.4402126639425994\n",
            "{'criterion': 'entropy', 'max_depth': 3, 'min_samples_leaf': 10, 'min_samples_split': 5, 'splitter': 'best'} 0.3324060090612829 0.407691377677474\n",
            "{'criterion': 'entropy', 'max_depth': 3, 'min_samples_leaf': 10, 'min_samples_split': 5, 'splitter': 'random'} 0.3124545274158344 0.4402126639425994\n",
            "{'criterion': 'entropy', 'max_depth': 3, 'min_samples_leaf': 10, 'min_samples_split': 50, 'splitter': 'best'} 0.3324060090612829 0.407691377677474\n",
            "{'criterion': 'entropy', 'max_depth': 3, 'min_samples_leaf': 10, 'min_samples_split': 50, 'splitter': 'random'} 0.3124545274158344 0.4402126639425994\n",
            "{'criterion': 'entropy', 'max_depth': 3, 'min_samples_leaf': 15, 'min_samples_split': 5, 'splitter': 'best'} 0.3324060090612829 0.407691377677474\n",
            "{'criterion': 'entropy', 'max_depth': 3, 'min_samples_leaf': 15, 'min_samples_split': 5, 'splitter': 'random'} 0.3124545274158344 0.4402126639425994\n",
            "{'criterion': 'entropy', 'max_depth': 3, 'min_samples_leaf': 15, 'min_samples_split': 50, 'splitter': 'best'} 0.3324060090612829 0.407691377677474\n",
            "{'criterion': 'entropy', 'max_depth': 3, 'min_samples_leaf': 15, 'min_samples_split': 50, 'splitter': 'random'} 0.3124545274158344 0.4402126639425994\n",
            "{'criterion': 'entropy', 'max_depth': 4, 'min_samples_leaf': 2, 'min_samples_split': 5, 'splitter': 'best'} 0.33208270136505147 0.40718520178458656\n",
            "{'criterion': 'entropy', 'max_depth': 4, 'min_samples_leaf': 2, 'min_samples_split': 5, 'splitter': 'random'} 0.3129427792915531 0.4422956280961343\n",
            "{'criterion': 'entropy', 'max_depth': 4, 'min_samples_leaf': 2, 'min_samples_split': 50, 'splitter': 'best'} 0.33208270136505147 0.40718520178458656\n",
            "{'criterion': 'entropy', 'max_depth': 4, 'min_samples_leaf': 2, 'min_samples_split': 50, 'splitter': 'random'} 0.3129427792915531 0.4422956280961343\n",
            "{'criterion': 'entropy', 'max_depth': 4, 'min_samples_leaf': 10, 'min_samples_split': 5, 'splitter': 'best'} 0.33208270136505147 0.40718520178458656\n",
            "{'criterion': 'entropy', 'max_depth': 4, 'min_samples_leaf': 10, 'min_samples_split': 5, 'splitter': 'random'} 0.3129427792915531 0.4422956280961343\n",
            "{'criterion': 'entropy', 'max_depth': 4, 'min_samples_leaf': 10, 'min_samples_split': 50, 'splitter': 'best'} 0.33208270136505147 0.40718520178458656\n",
            "{'criterion': 'entropy', 'max_depth': 4, 'min_samples_leaf': 10, 'min_samples_split': 50, 'splitter': 'random'} 0.3129427792915531 0.4422956280961343\n",
            "{'criterion': 'entropy', 'max_depth': 4, 'min_samples_leaf': 15, 'min_samples_split': 5, 'splitter': 'best'} 0.33208270136505147 0.40718520178458656\n",
            "{'criterion': 'entropy', 'max_depth': 4, 'min_samples_leaf': 15, 'min_samples_split': 5, 'splitter': 'random'} 0.3129427792915531 0.4422956280961343\n",
            "{'criterion': 'entropy', 'max_depth': 4, 'min_samples_leaf': 15, 'min_samples_split': 50, 'splitter': 'best'} 0.33208270136505147 0.40718520178458656\n",
            "{'criterion': 'entropy', 'max_depth': 4, 'min_samples_leaf': 15, 'min_samples_split': 50, 'splitter': 'random'} 0.3129427792915531 0.4422956280961343\n"
          ],
          "name": "stdout"
        }
      ]
    },
    {
      "cell_type": "code",
      "metadata": {
        "id": "vx_DJ1XK9n2-",
        "colab_type": "code",
        "colab": {
          "base_uri": "https://localhost:8080/",
          "height": 1000
        },
        "outputId": "f8f28d9f-0412-40e4-cabc-6dc59748bb69"
      },
      "source": [
        "dt = pd.DataFrame({'criterion': feat1, 'splitter': feat2, 'max_depth': feat3,'min_samples_split':feat4,\n",
        "                   'min_samples_leaf':feat5, 'test_f1_score':test_f1,'train_f1_score': train_f1})\n",
        "dt"
      ],
      "execution_count": 99,
      "outputs": [
        {
          "output_type": "execute_result",
          "data": {
            "text/html": [
              "<div>\n",
              "<style scoped>\n",
              "    .dataframe tbody tr th:only-of-type {\n",
              "        vertical-align: middle;\n",
              "    }\n",
              "\n",
              "    .dataframe tbody tr th {\n",
              "        vertical-align: top;\n",
              "    }\n",
              "\n",
              "    .dataframe thead th {\n",
              "        text-align: right;\n",
              "    }\n",
              "</style>\n",
              "<table border=\"1\" class=\"dataframe\">\n",
              "  <thead>\n",
              "    <tr style=\"text-align: right;\">\n",
              "      <th></th>\n",
              "      <th>criterion</th>\n",
              "      <th>splitter</th>\n",
              "      <th>max_depth</th>\n",
              "      <th>min_samples_split</th>\n",
              "      <th>min_samples_leaf</th>\n",
              "      <th>test_f1_score</th>\n",
              "      <th>train_f1_score</th>\n",
              "    </tr>\n",
              "  </thead>\n",
              "  <tbody>\n",
              "    <tr>\n",
              "      <th>0</th>\n",
              "      <td>gini</td>\n",
              "      <td>best</td>\n",
              "      <td>2</td>\n",
              "      <td>5</td>\n",
              "      <td>2</td>\n",
              "      <td>0.332029</td>\n",
              "      <td>0.405445</td>\n",
              "    </tr>\n",
              "    <tr>\n",
              "      <th>1</th>\n",
              "      <td>gini</td>\n",
              "      <td>random</td>\n",
              "      <td>2</td>\n",
              "      <td>5</td>\n",
              "      <td>2</td>\n",
              "      <td>0.332029</td>\n",
              "      <td>0.405445</td>\n",
              "    </tr>\n",
              "    <tr>\n",
              "      <th>2</th>\n",
              "      <td>gini</td>\n",
              "      <td>best</td>\n",
              "      <td>2</td>\n",
              "      <td>50</td>\n",
              "      <td>2</td>\n",
              "      <td>0.332029</td>\n",
              "      <td>0.405445</td>\n",
              "    </tr>\n",
              "    <tr>\n",
              "      <th>3</th>\n",
              "      <td>gini</td>\n",
              "      <td>random</td>\n",
              "      <td>2</td>\n",
              "      <td>50</td>\n",
              "      <td>2</td>\n",
              "      <td>0.332029</td>\n",
              "      <td>0.405445</td>\n",
              "    </tr>\n",
              "    <tr>\n",
              "      <th>4</th>\n",
              "      <td>gini</td>\n",
              "      <td>best</td>\n",
              "      <td>2</td>\n",
              "      <td>5</td>\n",
              "      <td>10</td>\n",
              "      <td>0.332029</td>\n",
              "      <td>0.405445</td>\n",
              "    </tr>\n",
              "    <tr>\n",
              "      <th>5</th>\n",
              "      <td>gini</td>\n",
              "      <td>random</td>\n",
              "      <td>2</td>\n",
              "      <td>5</td>\n",
              "      <td>10</td>\n",
              "      <td>0.332029</td>\n",
              "      <td>0.405445</td>\n",
              "    </tr>\n",
              "    <tr>\n",
              "      <th>6</th>\n",
              "      <td>gini</td>\n",
              "      <td>best</td>\n",
              "      <td>2</td>\n",
              "      <td>50</td>\n",
              "      <td>10</td>\n",
              "      <td>0.332029</td>\n",
              "      <td>0.405445</td>\n",
              "    </tr>\n",
              "    <tr>\n",
              "      <th>7</th>\n",
              "      <td>gini</td>\n",
              "      <td>random</td>\n",
              "      <td>2</td>\n",
              "      <td>50</td>\n",
              "      <td>10</td>\n",
              "      <td>0.332029</td>\n",
              "      <td>0.405445</td>\n",
              "    </tr>\n",
              "    <tr>\n",
              "      <th>8</th>\n",
              "      <td>gini</td>\n",
              "      <td>best</td>\n",
              "      <td>2</td>\n",
              "      <td>5</td>\n",
              "      <td>15</td>\n",
              "      <td>0.332029</td>\n",
              "      <td>0.405445</td>\n",
              "    </tr>\n",
              "    <tr>\n",
              "      <th>9</th>\n",
              "      <td>gini</td>\n",
              "      <td>random</td>\n",
              "      <td>2</td>\n",
              "      <td>5</td>\n",
              "      <td>15</td>\n",
              "      <td>0.332029</td>\n",
              "      <td>0.405445</td>\n",
              "    </tr>\n",
              "    <tr>\n",
              "      <th>10</th>\n",
              "      <td>gini</td>\n",
              "      <td>best</td>\n",
              "      <td>2</td>\n",
              "      <td>50</td>\n",
              "      <td>15</td>\n",
              "      <td>0.332029</td>\n",
              "      <td>0.405445</td>\n",
              "    </tr>\n",
              "    <tr>\n",
              "      <th>11</th>\n",
              "      <td>gini</td>\n",
              "      <td>random</td>\n",
              "      <td>2</td>\n",
              "      <td>50</td>\n",
              "      <td>15</td>\n",
              "      <td>0.332029</td>\n",
              "      <td>0.405445</td>\n",
              "    </tr>\n",
              "    <tr>\n",
              "      <th>12</th>\n",
              "      <td>gini</td>\n",
              "      <td>best</td>\n",
              "      <td>3</td>\n",
              "      <td>5</td>\n",
              "      <td>2</td>\n",
              "      <td>0.332406</td>\n",
              "      <td>0.407691</td>\n",
              "    </tr>\n",
              "    <tr>\n",
              "      <th>13</th>\n",
              "      <td>gini</td>\n",
              "      <td>random</td>\n",
              "      <td>3</td>\n",
              "      <td>5</td>\n",
              "      <td>2</td>\n",
              "      <td>0.312455</td>\n",
              "      <td>0.440213</td>\n",
              "    </tr>\n",
              "    <tr>\n",
              "      <th>14</th>\n",
              "      <td>gini</td>\n",
              "      <td>best</td>\n",
              "      <td>3</td>\n",
              "      <td>50</td>\n",
              "      <td>2</td>\n",
              "      <td>0.332406</td>\n",
              "      <td>0.407691</td>\n",
              "    </tr>\n",
              "    <tr>\n",
              "      <th>15</th>\n",
              "      <td>gini</td>\n",
              "      <td>random</td>\n",
              "      <td>3</td>\n",
              "      <td>50</td>\n",
              "      <td>2</td>\n",
              "      <td>0.312455</td>\n",
              "      <td>0.440213</td>\n",
              "    </tr>\n",
              "    <tr>\n",
              "      <th>16</th>\n",
              "      <td>gini</td>\n",
              "      <td>best</td>\n",
              "      <td>3</td>\n",
              "      <td>5</td>\n",
              "      <td>10</td>\n",
              "      <td>0.332406</td>\n",
              "      <td>0.407691</td>\n",
              "    </tr>\n",
              "    <tr>\n",
              "      <th>17</th>\n",
              "      <td>gini</td>\n",
              "      <td>random</td>\n",
              "      <td>3</td>\n",
              "      <td>5</td>\n",
              "      <td>10</td>\n",
              "      <td>0.312455</td>\n",
              "      <td>0.440213</td>\n",
              "    </tr>\n",
              "    <tr>\n",
              "      <th>18</th>\n",
              "      <td>gini</td>\n",
              "      <td>best</td>\n",
              "      <td>3</td>\n",
              "      <td>50</td>\n",
              "      <td>10</td>\n",
              "      <td>0.332406</td>\n",
              "      <td>0.407691</td>\n",
              "    </tr>\n",
              "    <tr>\n",
              "      <th>19</th>\n",
              "      <td>gini</td>\n",
              "      <td>random</td>\n",
              "      <td>3</td>\n",
              "      <td>50</td>\n",
              "      <td>10</td>\n",
              "      <td>0.312455</td>\n",
              "      <td>0.440213</td>\n",
              "    </tr>\n",
              "    <tr>\n",
              "      <th>20</th>\n",
              "      <td>gini</td>\n",
              "      <td>best</td>\n",
              "      <td>3</td>\n",
              "      <td>5</td>\n",
              "      <td>15</td>\n",
              "      <td>0.332406</td>\n",
              "      <td>0.407691</td>\n",
              "    </tr>\n",
              "    <tr>\n",
              "      <th>21</th>\n",
              "      <td>gini</td>\n",
              "      <td>random</td>\n",
              "      <td>3</td>\n",
              "      <td>5</td>\n",
              "      <td>15</td>\n",
              "      <td>0.312455</td>\n",
              "      <td>0.440213</td>\n",
              "    </tr>\n",
              "    <tr>\n",
              "      <th>22</th>\n",
              "      <td>gini</td>\n",
              "      <td>best</td>\n",
              "      <td>3</td>\n",
              "      <td>50</td>\n",
              "      <td>15</td>\n",
              "      <td>0.332406</td>\n",
              "      <td>0.407691</td>\n",
              "    </tr>\n",
              "    <tr>\n",
              "      <th>23</th>\n",
              "      <td>gini</td>\n",
              "      <td>random</td>\n",
              "      <td>3</td>\n",
              "      <td>50</td>\n",
              "      <td>15</td>\n",
              "      <td>0.312455</td>\n",
              "      <td>0.440213</td>\n",
              "    </tr>\n",
              "    <tr>\n",
              "      <th>24</th>\n",
              "      <td>gini</td>\n",
              "      <td>best</td>\n",
              "      <td>4</td>\n",
              "      <td>5</td>\n",
              "      <td>2</td>\n",
              "      <td>0.332110</td>\n",
              "      <td>0.408004</td>\n",
              "    </tr>\n",
              "    <tr>\n",
              "      <th>25</th>\n",
              "      <td>gini</td>\n",
              "      <td>random</td>\n",
              "      <td>4</td>\n",
              "      <td>5</td>\n",
              "      <td>2</td>\n",
              "      <td>0.313074</td>\n",
              "      <td>0.443197</td>\n",
              "    </tr>\n",
              "    <tr>\n",
              "      <th>26</th>\n",
              "      <td>gini</td>\n",
              "      <td>best</td>\n",
              "      <td>4</td>\n",
              "      <td>50</td>\n",
              "      <td>2</td>\n",
              "      <td>0.332110</td>\n",
              "      <td>0.408004</td>\n",
              "    </tr>\n",
              "    <tr>\n",
              "      <th>27</th>\n",
              "      <td>gini</td>\n",
              "      <td>random</td>\n",
              "      <td>4</td>\n",
              "      <td>50</td>\n",
              "      <td>2</td>\n",
              "      <td>0.313074</td>\n",
              "      <td>0.443197</td>\n",
              "    </tr>\n",
              "    <tr>\n",
              "      <th>28</th>\n",
              "      <td>gini</td>\n",
              "      <td>best</td>\n",
              "      <td>4</td>\n",
              "      <td>5</td>\n",
              "      <td>10</td>\n",
              "      <td>0.332110</td>\n",
              "      <td>0.408004</td>\n",
              "    </tr>\n",
              "    <tr>\n",
              "      <th>29</th>\n",
              "      <td>gini</td>\n",
              "      <td>random</td>\n",
              "      <td>4</td>\n",
              "      <td>5</td>\n",
              "      <td>10</td>\n",
              "      <td>0.313074</td>\n",
              "      <td>0.443197</td>\n",
              "    </tr>\n",
              "    <tr>\n",
              "      <th>30</th>\n",
              "      <td>gini</td>\n",
              "      <td>best</td>\n",
              "      <td>4</td>\n",
              "      <td>50</td>\n",
              "      <td>10</td>\n",
              "      <td>0.332110</td>\n",
              "      <td>0.408004</td>\n",
              "    </tr>\n",
              "    <tr>\n",
              "      <th>31</th>\n",
              "      <td>gini</td>\n",
              "      <td>random</td>\n",
              "      <td>4</td>\n",
              "      <td>50</td>\n",
              "      <td>10</td>\n",
              "      <td>0.313074</td>\n",
              "      <td>0.443197</td>\n",
              "    </tr>\n",
              "    <tr>\n",
              "      <th>32</th>\n",
              "      <td>gini</td>\n",
              "      <td>best</td>\n",
              "      <td>4</td>\n",
              "      <td>5</td>\n",
              "      <td>15</td>\n",
              "      <td>0.332110</td>\n",
              "      <td>0.408004</td>\n",
              "    </tr>\n",
              "    <tr>\n",
              "      <th>33</th>\n",
              "      <td>gini</td>\n",
              "      <td>random</td>\n",
              "      <td>4</td>\n",
              "      <td>5</td>\n",
              "      <td>15</td>\n",
              "      <td>0.313074</td>\n",
              "      <td>0.443197</td>\n",
              "    </tr>\n",
              "    <tr>\n",
              "      <th>34</th>\n",
              "      <td>gini</td>\n",
              "      <td>best</td>\n",
              "      <td>4</td>\n",
              "      <td>50</td>\n",
              "      <td>15</td>\n",
              "      <td>0.332110</td>\n",
              "      <td>0.408004</td>\n",
              "    </tr>\n",
              "    <tr>\n",
              "      <th>35</th>\n",
              "      <td>gini</td>\n",
              "      <td>random</td>\n",
              "      <td>4</td>\n",
              "      <td>50</td>\n",
              "      <td>15</td>\n",
              "      <td>0.313074</td>\n",
              "      <td>0.443197</td>\n",
              "    </tr>\n",
              "    <tr>\n",
              "      <th>36</th>\n",
              "      <td>entropy</td>\n",
              "      <td>best</td>\n",
              "      <td>2</td>\n",
              "      <td>5</td>\n",
              "      <td>2</td>\n",
              "      <td>0.332029</td>\n",
              "      <td>0.405445</td>\n",
              "    </tr>\n",
              "    <tr>\n",
              "      <th>37</th>\n",
              "      <td>entropy</td>\n",
              "      <td>random</td>\n",
              "      <td>2</td>\n",
              "      <td>5</td>\n",
              "      <td>2</td>\n",
              "      <td>0.332029</td>\n",
              "      <td>0.405445</td>\n",
              "    </tr>\n",
              "    <tr>\n",
              "      <th>38</th>\n",
              "      <td>entropy</td>\n",
              "      <td>best</td>\n",
              "      <td>2</td>\n",
              "      <td>50</td>\n",
              "      <td>2</td>\n",
              "      <td>0.332029</td>\n",
              "      <td>0.405445</td>\n",
              "    </tr>\n",
              "    <tr>\n",
              "      <th>39</th>\n",
              "      <td>entropy</td>\n",
              "      <td>random</td>\n",
              "      <td>2</td>\n",
              "      <td>50</td>\n",
              "      <td>2</td>\n",
              "      <td>0.332029</td>\n",
              "      <td>0.405445</td>\n",
              "    </tr>\n",
              "    <tr>\n",
              "      <th>40</th>\n",
              "      <td>entropy</td>\n",
              "      <td>best</td>\n",
              "      <td>2</td>\n",
              "      <td>5</td>\n",
              "      <td>10</td>\n",
              "      <td>0.332029</td>\n",
              "      <td>0.405445</td>\n",
              "    </tr>\n",
              "    <tr>\n",
              "      <th>41</th>\n",
              "      <td>entropy</td>\n",
              "      <td>random</td>\n",
              "      <td>2</td>\n",
              "      <td>5</td>\n",
              "      <td>10</td>\n",
              "      <td>0.332029</td>\n",
              "      <td>0.405445</td>\n",
              "    </tr>\n",
              "    <tr>\n",
              "      <th>42</th>\n",
              "      <td>entropy</td>\n",
              "      <td>best</td>\n",
              "      <td>2</td>\n",
              "      <td>50</td>\n",
              "      <td>10</td>\n",
              "      <td>0.332029</td>\n",
              "      <td>0.405445</td>\n",
              "    </tr>\n",
              "    <tr>\n",
              "      <th>43</th>\n",
              "      <td>entropy</td>\n",
              "      <td>random</td>\n",
              "      <td>2</td>\n",
              "      <td>50</td>\n",
              "      <td>10</td>\n",
              "      <td>0.332029</td>\n",
              "      <td>0.405445</td>\n",
              "    </tr>\n",
              "    <tr>\n",
              "      <th>44</th>\n",
              "      <td>entropy</td>\n",
              "      <td>best</td>\n",
              "      <td>2</td>\n",
              "      <td>5</td>\n",
              "      <td>15</td>\n",
              "      <td>0.332029</td>\n",
              "      <td>0.405445</td>\n",
              "    </tr>\n",
              "    <tr>\n",
              "      <th>45</th>\n",
              "      <td>entropy</td>\n",
              "      <td>random</td>\n",
              "      <td>2</td>\n",
              "      <td>5</td>\n",
              "      <td>15</td>\n",
              "      <td>0.332029</td>\n",
              "      <td>0.405445</td>\n",
              "    </tr>\n",
              "    <tr>\n",
              "      <th>46</th>\n",
              "      <td>entropy</td>\n",
              "      <td>best</td>\n",
              "      <td>2</td>\n",
              "      <td>50</td>\n",
              "      <td>15</td>\n",
              "      <td>0.332029</td>\n",
              "      <td>0.405445</td>\n",
              "    </tr>\n",
              "    <tr>\n",
              "      <th>47</th>\n",
              "      <td>entropy</td>\n",
              "      <td>random</td>\n",
              "      <td>2</td>\n",
              "      <td>50</td>\n",
              "      <td>15</td>\n",
              "      <td>0.332029</td>\n",
              "      <td>0.405445</td>\n",
              "    </tr>\n",
              "    <tr>\n",
              "      <th>48</th>\n",
              "      <td>entropy</td>\n",
              "      <td>best</td>\n",
              "      <td>3</td>\n",
              "      <td>5</td>\n",
              "      <td>2</td>\n",
              "      <td>0.332406</td>\n",
              "      <td>0.407691</td>\n",
              "    </tr>\n",
              "    <tr>\n",
              "      <th>49</th>\n",
              "      <td>entropy</td>\n",
              "      <td>random</td>\n",
              "      <td>3</td>\n",
              "      <td>5</td>\n",
              "      <td>2</td>\n",
              "      <td>0.312455</td>\n",
              "      <td>0.440213</td>\n",
              "    </tr>\n",
              "    <tr>\n",
              "      <th>50</th>\n",
              "      <td>entropy</td>\n",
              "      <td>best</td>\n",
              "      <td>3</td>\n",
              "      <td>50</td>\n",
              "      <td>2</td>\n",
              "      <td>0.332406</td>\n",
              "      <td>0.407691</td>\n",
              "    </tr>\n",
              "    <tr>\n",
              "      <th>51</th>\n",
              "      <td>entropy</td>\n",
              "      <td>random</td>\n",
              "      <td>3</td>\n",
              "      <td>50</td>\n",
              "      <td>2</td>\n",
              "      <td>0.312455</td>\n",
              "      <td>0.440213</td>\n",
              "    </tr>\n",
              "    <tr>\n",
              "      <th>52</th>\n",
              "      <td>entropy</td>\n",
              "      <td>best</td>\n",
              "      <td>3</td>\n",
              "      <td>5</td>\n",
              "      <td>10</td>\n",
              "      <td>0.332406</td>\n",
              "      <td>0.407691</td>\n",
              "    </tr>\n",
              "    <tr>\n",
              "      <th>53</th>\n",
              "      <td>entropy</td>\n",
              "      <td>random</td>\n",
              "      <td>3</td>\n",
              "      <td>5</td>\n",
              "      <td>10</td>\n",
              "      <td>0.312455</td>\n",
              "      <td>0.440213</td>\n",
              "    </tr>\n",
              "    <tr>\n",
              "      <th>54</th>\n",
              "      <td>entropy</td>\n",
              "      <td>best</td>\n",
              "      <td>3</td>\n",
              "      <td>50</td>\n",
              "      <td>10</td>\n",
              "      <td>0.332406</td>\n",
              "      <td>0.407691</td>\n",
              "    </tr>\n",
              "    <tr>\n",
              "      <th>55</th>\n",
              "      <td>entropy</td>\n",
              "      <td>random</td>\n",
              "      <td>3</td>\n",
              "      <td>50</td>\n",
              "      <td>10</td>\n",
              "      <td>0.312455</td>\n",
              "      <td>0.440213</td>\n",
              "    </tr>\n",
              "    <tr>\n",
              "      <th>56</th>\n",
              "      <td>entropy</td>\n",
              "      <td>best</td>\n",
              "      <td>3</td>\n",
              "      <td>5</td>\n",
              "      <td>15</td>\n",
              "      <td>0.332406</td>\n",
              "      <td>0.407691</td>\n",
              "    </tr>\n",
              "    <tr>\n",
              "      <th>57</th>\n",
              "      <td>entropy</td>\n",
              "      <td>random</td>\n",
              "      <td>3</td>\n",
              "      <td>5</td>\n",
              "      <td>15</td>\n",
              "      <td>0.312455</td>\n",
              "      <td>0.440213</td>\n",
              "    </tr>\n",
              "    <tr>\n",
              "      <th>58</th>\n",
              "      <td>entropy</td>\n",
              "      <td>best</td>\n",
              "      <td>3</td>\n",
              "      <td>50</td>\n",
              "      <td>15</td>\n",
              "      <td>0.332406</td>\n",
              "      <td>0.407691</td>\n",
              "    </tr>\n",
              "    <tr>\n",
              "      <th>59</th>\n",
              "      <td>entropy</td>\n",
              "      <td>random</td>\n",
              "      <td>3</td>\n",
              "      <td>50</td>\n",
              "      <td>15</td>\n",
              "      <td>0.312455</td>\n",
              "      <td>0.440213</td>\n",
              "    </tr>\n",
              "    <tr>\n",
              "      <th>60</th>\n",
              "      <td>entropy</td>\n",
              "      <td>best</td>\n",
              "      <td>4</td>\n",
              "      <td>5</td>\n",
              "      <td>2</td>\n",
              "      <td>0.332083</td>\n",
              "      <td>0.407185</td>\n",
              "    </tr>\n",
              "    <tr>\n",
              "      <th>61</th>\n",
              "      <td>entropy</td>\n",
              "      <td>random</td>\n",
              "      <td>4</td>\n",
              "      <td>5</td>\n",
              "      <td>2</td>\n",
              "      <td>0.312943</td>\n",
              "      <td>0.442296</td>\n",
              "    </tr>\n",
              "    <tr>\n",
              "      <th>62</th>\n",
              "      <td>entropy</td>\n",
              "      <td>best</td>\n",
              "      <td>4</td>\n",
              "      <td>50</td>\n",
              "      <td>2</td>\n",
              "      <td>0.332083</td>\n",
              "      <td>0.407185</td>\n",
              "    </tr>\n",
              "    <tr>\n",
              "      <th>63</th>\n",
              "      <td>entropy</td>\n",
              "      <td>random</td>\n",
              "      <td>4</td>\n",
              "      <td>50</td>\n",
              "      <td>2</td>\n",
              "      <td>0.312943</td>\n",
              "      <td>0.442296</td>\n",
              "    </tr>\n",
              "    <tr>\n",
              "      <th>64</th>\n",
              "      <td>entropy</td>\n",
              "      <td>best</td>\n",
              "      <td>4</td>\n",
              "      <td>5</td>\n",
              "      <td>10</td>\n",
              "      <td>0.332083</td>\n",
              "      <td>0.407185</td>\n",
              "    </tr>\n",
              "    <tr>\n",
              "      <th>65</th>\n",
              "      <td>entropy</td>\n",
              "      <td>random</td>\n",
              "      <td>4</td>\n",
              "      <td>5</td>\n",
              "      <td>10</td>\n",
              "      <td>0.312943</td>\n",
              "      <td>0.442296</td>\n",
              "    </tr>\n",
              "    <tr>\n",
              "      <th>66</th>\n",
              "      <td>entropy</td>\n",
              "      <td>best</td>\n",
              "      <td>4</td>\n",
              "      <td>50</td>\n",
              "      <td>10</td>\n",
              "      <td>0.332083</td>\n",
              "      <td>0.407185</td>\n",
              "    </tr>\n",
              "    <tr>\n",
              "      <th>67</th>\n",
              "      <td>entropy</td>\n",
              "      <td>random</td>\n",
              "      <td>4</td>\n",
              "      <td>50</td>\n",
              "      <td>10</td>\n",
              "      <td>0.312943</td>\n",
              "      <td>0.442296</td>\n",
              "    </tr>\n",
              "    <tr>\n",
              "      <th>68</th>\n",
              "      <td>entropy</td>\n",
              "      <td>best</td>\n",
              "      <td>4</td>\n",
              "      <td>5</td>\n",
              "      <td>15</td>\n",
              "      <td>0.332083</td>\n",
              "      <td>0.407185</td>\n",
              "    </tr>\n",
              "    <tr>\n",
              "      <th>69</th>\n",
              "      <td>entropy</td>\n",
              "      <td>random</td>\n",
              "      <td>4</td>\n",
              "      <td>5</td>\n",
              "      <td>15</td>\n",
              "      <td>0.312943</td>\n",
              "      <td>0.442296</td>\n",
              "    </tr>\n",
              "    <tr>\n",
              "      <th>70</th>\n",
              "      <td>entropy</td>\n",
              "      <td>best</td>\n",
              "      <td>4</td>\n",
              "      <td>50</td>\n",
              "      <td>15</td>\n",
              "      <td>0.332083</td>\n",
              "      <td>0.407185</td>\n",
              "    </tr>\n",
              "    <tr>\n",
              "      <th>71</th>\n",
              "      <td>entropy</td>\n",
              "      <td>random</td>\n",
              "      <td>4</td>\n",
              "      <td>50</td>\n",
              "      <td>15</td>\n",
              "      <td>0.312943</td>\n",
              "      <td>0.442296</td>\n",
              "    </tr>\n",
              "  </tbody>\n",
              "</table>\n",
              "</div>"
            ],
            "text/plain": [
              "   criterion splitter  max_depth  min_samples_split  min_samples_leaf  \\\n",
              "0       gini     best          2                  5                 2   \n",
              "1       gini   random          2                  5                 2   \n",
              "2       gini     best          2                 50                 2   \n",
              "3       gini   random          2                 50                 2   \n",
              "4       gini     best          2                  5                10   \n",
              "5       gini   random          2                  5                10   \n",
              "6       gini     best          2                 50                10   \n",
              "7       gini   random          2                 50                10   \n",
              "8       gini     best          2                  5                15   \n",
              "9       gini   random          2                  5                15   \n",
              "10      gini     best          2                 50                15   \n",
              "11      gini   random          2                 50                15   \n",
              "12      gini     best          3                  5                 2   \n",
              "13      gini   random          3                  5                 2   \n",
              "14      gini     best          3                 50                 2   \n",
              "15      gini   random          3                 50                 2   \n",
              "16      gini     best          3                  5                10   \n",
              "17      gini   random          3                  5                10   \n",
              "18      gini     best          3                 50                10   \n",
              "19      gini   random          3                 50                10   \n",
              "20      gini     best          3                  5                15   \n",
              "21      gini   random          3                  5                15   \n",
              "22      gini     best          3                 50                15   \n",
              "23      gini   random          3                 50                15   \n",
              "24      gini     best          4                  5                 2   \n",
              "25      gini   random          4                  5                 2   \n",
              "26      gini     best          4                 50                 2   \n",
              "27      gini   random          4                 50                 2   \n",
              "28      gini     best          4                  5                10   \n",
              "29      gini   random          4                  5                10   \n",
              "30      gini     best          4                 50                10   \n",
              "31      gini   random          4                 50                10   \n",
              "32      gini     best          4                  5                15   \n",
              "33      gini   random          4                  5                15   \n",
              "34      gini     best          4                 50                15   \n",
              "35      gini   random          4                 50                15   \n",
              "36   entropy     best          2                  5                 2   \n",
              "37   entropy   random          2                  5                 2   \n",
              "38   entropy     best          2                 50                 2   \n",
              "39   entropy   random          2                 50                 2   \n",
              "40   entropy     best          2                  5                10   \n",
              "41   entropy   random          2                  5                10   \n",
              "42   entropy     best          2                 50                10   \n",
              "43   entropy   random          2                 50                10   \n",
              "44   entropy     best          2                  5                15   \n",
              "45   entropy   random          2                  5                15   \n",
              "46   entropy     best          2                 50                15   \n",
              "47   entropy   random          2                 50                15   \n",
              "48   entropy     best          3                  5                 2   \n",
              "49   entropy   random          3                  5                 2   \n",
              "50   entropy     best          3                 50                 2   \n",
              "51   entropy   random          3                 50                 2   \n",
              "52   entropy     best          3                  5                10   \n",
              "53   entropy   random          3                  5                10   \n",
              "54   entropy     best          3                 50                10   \n",
              "55   entropy   random          3                 50                10   \n",
              "56   entropy     best          3                  5                15   \n",
              "57   entropy   random          3                  5                15   \n",
              "58   entropy     best          3                 50                15   \n",
              "59   entropy   random          3                 50                15   \n",
              "60   entropy     best          4                  5                 2   \n",
              "61   entropy   random          4                  5                 2   \n",
              "62   entropy     best          4                 50                 2   \n",
              "63   entropy   random          4                 50                 2   \n",
              "64   entropy     best          4                  5                10   \n",
              "65   entropy   random          4                  5                10   \n",
              "66   entropy     best          4                 50                10   \n",
              "67   entropy   random          4                 50                10   \n",
              "68   entropy     best          4                  5                15   \n",
              "69   entropy   random          4                  5                15   \n",
              "70   entropy     best          4                 50                15   \n",
              "71   entropy   random          4                 50                15   \n",
              "\n",
              "    test_f1_score  train_f1_score  \n",
              "0        0.332029        0.405445  \n",
              "1        0.332029        0.405445  \n",
              "2        0.332029        0.405445  \n",
              "3        0.332029        0.405445  \n",
              "4        0.332029        0.405445  \n",
              "5        0.332029        0.405445  \n",
              "6        0.332029        0.405445  \n",
              "7        0.332029        0.405445  \n",
              "8        0.332029        0.405445  \n",
              "9        0.332029        0.405445  \n",
              "10       0.332029        0.405445  \n",
              "11       0.332029        0.405445  \n",
              "12       0.332406        0.407691  \n",
              "13       0.312455        0.440213  \n",
              "14       0.332406        0.407691  \n",
              "15       0.312455        0.440213  \n",
              "16       0.332406        0.407691  \n",
              "17       0.312455        0.440213  \n",
              "18       0.332406        0.407691  \n",
              "19       0.312455        0.440213  \n",
              "20       0.332406        0.407691  \n",
              "21       0.312455        0.440213  \n",
              "22       0.332406        0.407691  \n",
              "23       0.312455        0.440213  \n",
              "24       0.332110        0.408004  \n",
              "25       0.313074        0.443197  \n",
              "26       0.332110        0.408004  \n",
              "27       0.313074        0.443197  \n",
              "28       0.332110        0.408004  \n",
              "29       0.313074        0.443197  \n",
              "30       0.332110        0.408004  \n",
              "31       0.313074        0.443197  \n",
              "32       0.332110        0.408004  \n",
              "33       0.313074        0.443197  \n",
              "34       0.332110        0.408004  \n",
              "35       0.313074        0.443197  \n",
              "36       0.332029        0.405445  \n",
              "37       0.332029        0.405445  \n",
              "38       0.332029        0.405445  \n",
              "39       0.332029        0.405445  \n",
              "40       0.332029        0.405445  \n",
              "41       0.332029        0.405445  \n",
              "42       0.332029        0.405445  \n",
              "43       0.332029        0.405445  \n",
              "44       0.332029        0.405445  \n",
              "45       0.332029        0.405445  \n",
              "46       0.332029        0.405445  \n",
              "47       0.332029        0.405445  \n",
              "48       0.332406        0.407691  \n",
              "49       0.312455        0.440213  \n",
              "50       0.332406        0.407691  \n",
              "51       0.312455        0.440213  \n",
              "52       0.332406        0.407691  \n",
              "53       0.312455        0.440213  \n",
              "54       0.332406        0.407691  \n",
              "55       0.312455        0.440213  \n",
              "56       0.332406        0.407691  \n",
              "57       0.312455        0.440213  \n",
              "58       0.332406        0.407691  \n",
              "59       0.312455        0.440213  \n",
              "60       0.332083        0.407185  \n",
              "61       0.312943        0.442296  \n",
              "62       0.332083        0.407185  \n",
              "63       0.312943        0.442296  \n",
              "64       0.332083        0.407185  \n",
              "65       0.312943        0.442296  \n",
              "66       0.332083        0.407185  \n",
              "67       0.312943        0.442296  \n",
              "68       0.332083        0.407185  \n",
              "69       0.312943        0.442296  \n",
              "70       0.332083        0.407185  \n",
              "71       0.312943        0.442296  "
            ]
          },
          "metadata": {
            "tags": []
          },
          "execution_count": 99
        }
      ]
    },
    {
      "cell_type": "code",
      "metadata": {
        "id": "wpbiG6a8_NFX",
        "colab_type": "code",
        "colab": {
          "base_uri": "https://localhost:8080/",
          "height": 34
        },
        "outputId": "887e8726-ae6c-47e6-bcc2-feeeb3d82d50"
      },
      "source": [
        "np.max(test_f1)"
      ],
      "execution_count": 100,
      "outputs": [
        {
          "output_type": "execute_result",
          "data": {
            "text/plain": [
              "0.3324060090612829"
            ]
          },
          "metadata": {
            "tags": []
          },
          "execution_count": 100
        }
      ]
    },
    {
      "cell_type": "code",
      "metadata": {
        "id": "ouJpaB_J-UHy",
        "colab_type": "code",
        "colab": {
          "base_uri": "https://localhost:8080/",
          "height": 421
        },
        "outputId": "34a658ee-3e0d-442d-97dd-aa8ff117eba7"
      },
      "source": [
        "dt.loc[dt['test_f1_score']==np.max(test_f1),:]"
      ],
      "execution_count": 101,
      "outputs": [
        {
          "output_type": "execute_result",
          "data": {
            "text/html": [
              "<div>\n",
              "<style scoped>\n",
              "    .dataframe tbody tr th:only-of-type {\n",
              "        vertical-align: middle;\n",
              "    }\n",
              "\n",
              "    .dataframe tbody tr th {\n",
              "        vertical-align: top;\n",
              "    }\n",
              "\n",
              "    .dataframe thead th {\n",
              "        text-align: right;\n",
              "    }\n",
              "</style>\n",
              "<table border=\"1\" class=\"dataframe\">\n",
              "  <thead>\n",
              "    <tr style=\"text-align: right;\">\n",
              "      <th></th>\n",
              "      <th>criterion</th>\n",
              "      <th>splitter</th>\n",
              "      <th>max_depth</th>\n",
              "      <th>min_samples_split</th>\n",
              "      <th>min_samples_leaf</th>\n",
              "      <th>test_f1_score</th>\n",
              "      <th>train_f1_score</th>\n",
              "    </tr>\n",
              "  </thead>\n",
              "  <tbody>\n",
              "    <tr>\n",
              "      <th>12</th>\n",
              "      <td>gini</td>\n",
              "      <td>best</td>\n",
              "      <td>3</td>\n",
              "      <td>5</td>\n",
              "      <td>2</td>\n",
              "      <td>0.332406</td>\n",
              "      <td>0.407691</td>\n",
              "    </tr>\n",
              "    <tr>\n",
              "      <th>14</th>\n",
              "      <td>gini</td>\n",
              "      <td>best</td>\n",
              "      <td>3</td>\n",
              "      <td>50</td>\n",
              "      <td>2</td>\n",
              "      <td>0.332406</td>\n",
              "      <td>0.407691</td>\n",
              "    </tr>\n",
              "    <tr>\n",
              "      <th>16</th>\n",
              "      <td>gini</td>\n",
              "      <td>best</td>\n",
              "      <td>3</td>\n",
              "      <td>5</td>\n",
              "      <td>10</td>\n",
              "      <td>0.332406</td>\n",
              "      <td>0.407691</td>\n",
              "    </tr>\n",
              "    <tr>\n",
              "      <th>18</th>\n",
              "      <td>gini</td>\n",
              "      <td>best</td>\n",
              "      <td>3</td>\n",
              "      <td>50</td>\n",
              "      <td>10</td>\n",
              "      <td>0.332406</td>\n",
              "      <td>0.407691</td>\n",
              "    </tr>\n",
              "    <tr>\n",
              "      <th>20</th>\n",
              "      <td>gini</td>\n",
              "      <td>best</td>\n",
              "      <td>3</td>\n",
              "      <td>5</td>\n",
              "      <td>15</td>\n",
              "      <td>0.332406</td>\n",
              "      <td>0.407691</td>\n",
              "    </tr>\n",
              "    <tr>\n",
              "      <th>22</th>\n",
              "      <td>gini</td>\n",
              "      <td>best</td>\n",
              "      <td>3</td>\n",
              "      <td>50</td>\n",
              "      <td>15</td>\n",
              "      <td>0.332406</td>\n",
              "      <td>0.407691</td>\n",
              "    </tr>\n",
              "    <tr>\n",
              "      <th>48</th>\n",
              "      <td>entropy</td>\n",
              "      <td>best</td>\n",
              "      <td>3</td>\n",
              "      <td>5</td>\n",
              "      <td>2</td>\n",
              "      <td>0.332406</td>\n",
              "      <td>0.407691</td>\n",
              "    </tr>\n",
              "    <tr>\n",
              "      <th>50</th>\n",
              "      <td>entropy</td>\n",
              "      <td>best</td>\n",
              "      <td>3</td>\n",
              "      <td>50</td>\n",
              "      <td>2</td>\n",
              "      <td>0.332406</td>\n",
              "      <td>0.407691</td>\n",
              "    </tr>\n",
              "    <tr>\n",
              "      <th>52</th>\n",
              "      <td>entropy</td>\n",
              "      <td>best</td>\n",
              "      <td>3</td>\n",
              "      <td>5</td>\n",
              "      <td>10</td>\n",
              "      <td>0.332406</td>\n",
              "      <td>0.407691</td>\n",
              "    </tr>\n",
              "    <tr>\n",
              "      <th>54</th>\n",
              "      <td>entropy</td>\n",
              "      <td>best</td>\n",
              "      <td>3</td>\n",
              "      <td>50</td>\n",
              "      <td>10</td>\n",
              "      <td>0.332406</td>\n",
              "      <td>0.407691</td>\n",
              "    </tr>\n",
              "    <tr>\n",
              "      <th>56</th>\n",
              "      <td>entropy</td>\n",
              "      <td>best</td>\n",
              "      <td>3</td>\n",
              "      <td>5</td>\n",
              "      <td>15</td>\n",
              "      <td>0.332406</td>\n",
              "      <td>0.407691</td>\n",
              "    </tr>\n",
              "    <tr>\n",
              "      <th>58</th>\n",
              "      <td>entropy</td>\n",
              "      <td>best</td>\n",
              "      <td>3</td>\n",
              "      <td>50</td>\n",
              "      <td>15</td>\n",
              "      <td>0.332406</td>\n",
              "      <td>0.407691</td>\n",
              "    </tr>\n",
              "  </tbody>\n",
              "</table>\n",
              "</div>"
            ],
            "text/plain": [
              "   criterion splitter  max_depth  min_samples_split  min_samples_leaf  \\\n",
              "12      gini     best          3                  5                 2   \n",
              "14      gini     best          3                 50                 2   \n",
              "16      gini     best          3                  5                10   \n",
              "18      gini     best          3                 50                10   \n",
              "20      gini     best          3                  5                15   \n",
              "22      gini     best          3                 50                15   \n",
              "48   entropy     best          3                  5                 2   \n",
              "50   entropy     best          3                 50                 2   \n",
              "52   entropy     best          3                  5                10   \n",
              "54   entropy     best          3                 50                10   \n",
              "56   entropy     best          3                  5                15   \n",
              "58   entropy     best          3                 50                15   \n",
              "\n",
              "    test_f1_score  train_f1_score  \n",
              "12       0.332406        0.407691  \n",
              "14       0.332406        0.407691  \n",
              "16       0.332406        0.407691  \n",
              "18       0.332406        0.407691  \n",
              "20       0.332406        0.407691  \n",
              "22       0.332406        0.407691  \n",
              "48       0.332406        0.407691  \n",
              "50       0.332406        0.407691  \n",
              "52       0.332406        0.407691  \n",
              "54       0.332406        0.407691  \n",
              "56       0.332406        0.407691  \n",
              "58       0.332406        0.407691  "
            ]
          },
          "metadata": {
            "tags": []
          },
          "execution_count": 101
        }
      ]
    },
    {
      "cell_type": "code",
      "metadata": {
        "id": "dz8k6i3z-XNv",
        "colab_type": "code",
        "colab": {
          "base_uri": "https://localhost:8080/",
          "height": 765
        },
        "outputId": "a51fac03-7e74-4160-99e4-02da7e16aff6"
      },
      "source": [
        "tree=DecisionTreeClassifier(random_state=42,class_weight=\"balanced\", max_depth=3, criterion='gini',min_samples_leaf=2, min_samples_split= 50, splitter='best')\n",
        "tree.fit(X_train , y_train)\n",
        "export_graphviz(tree, out_file=\"tree.dot\", feature_names=X_train.columns, proportion=True, rotate=True)\n",
        "with open(\"tree.dot\") as f:\n",
        "    dot_graph = f.read()\n",
        "s = Source.from_file(\"tree.dot\")\n",
        "s.view()\n",
        "s"
      ],
      "execution_count": 103,
      "outputs": [
        {
          "output_type": "execute_result",
          "data": {
            "text/plain": [
              "<graphviz.files.Source at 0x7f48d3844978>"
            ],
            "image/svg+xml": "<?xml version=\"1.0\" encoding=\"UTF-8\" standalone=\"no\"?>\n<!DOCTYPE svg PUBLIC \"-//W3C//DTD SVG 1.1//EN\"\n \"http://www.w3.org/Graphics/SVG/1.1/DTD/svg11.dtd\">\n<!-- Generated by graphviz version 2.40.1 (20161225.0304)\n -->\n<!-- Title: Tree Pages: 1 -->\n<svg width=\"783pt\" height=\"558pt\"\n viewBox=\"0.00 0.00 783.00 558.00\" xmlns=\"http://www.w3.org/2000/svg\" xmlns:xlink=\"http://www.w3.org/1999/xlink\">\n<g id=\"graph0\" class=\"graph\" transform=\"scale(1 1) rotate(0) translate(4 554)\">\n<title>Tree</title>\n<polygon fill=\"#ffffff\" stroke=\"transparent\" points=\"-4,4 -4,-554 779,-554 779,4 -4,4\"/>\n<!-- 0 -->\n<g id=\"node1\" class=\"node\">\n<title>0</title>\n<polygon fill=\"none\" stroke=\"#000000\" points=\"128,-336.5 0,-336.5 0,-268.5 128,-268.5 128,-336.5\"/>\n<text text-anchor=\"middle\" x=\"64\" y=\"-321.3\" font-family=\"Times,serif\" font-size=\"14.00\" fill=\"#000000\">DD_known &lt;= 0.5</text>\n<text text-anchor=\"middle\" x=\"64\" y=\"-306.3\" font-family=\"Times,serif\" font-size=\"14.00\" fill=\"#000000\">gini = 0.5</text>\n<text text-anchor=\"middle\" x=\"64\" y=\"-291.3\" font-family=\"Times,serif\" font-size=\"14.00\" fill=\"#000000\">samples = 100.0%</text>\n<text text-anchor=\"middle\" x=\"64\" y=\"-276.3\" font-family=\"Times,serif\" font-size=\"14.00\" fill=\"#000000\">value = [0.5, 0.5]</text>\n</g>\n<!-- 1 -->\n<g id=\"node2\" class=\"node\">\n<title>1</title>\n<polygon fill=\"none\" stroke=\"#000000\" points=\"345.5,-372.5 165.5,-372.5 165.5,-304.5 345.5,-304.5 345.5,-372.5\"/>\n<text text-anchor=\"middle\" x=\"255.5\" y=\"-357.3\" font-family=\"Times,serif\" font-size=\"14.00\" fill=\"#000000\">log_first_range_True &lt;= 0.5</text>\n<text text-anchor=\"middle\" x=\"255.5\" y=\"-342.3\" font-family=\"Times,serif\" font-size=\"14.00\" fill=\"#000000\">gini = 0.492</text>\n<text text-anchor=\"middle\" x=\"255.5\" y=\"-327.3\" font-family=\"Times,serif\" font-size=\"14.00\" fill=\"#000000\">samples = 67.7%</text>\n<text text-anchor=\"middle\" x=\"255.5\" y=\"-312.3\" font-family=\"Times,serif\" font-size=\"14.00\" fill=\"#000000\">value = [0.565, 0.435]</text>\n</g>\n<!-- 0&#45;&gt;1 -->\n<g id=\"edge1\" class=\"edge\">\n<title>0&#45;&gt;1</title>\n<path fill=\"none\" stroke=\"#000000\" d=\"M128.033,-314.5375C136.8164,-316.1887 146.0013,-317.9154 155.2423,-319.6526\"/>\n<polygon fill=\"#000000\" stroke=\"#000000\" points=\"154.8009,-323.1309 165.2754,-321.5387 156.0943,-316.2514 154.8009,-323.1309\"/>\n<text text-anchor=\"middle\" x=\"144.6361\" y=\"-331.9461\" font-family=\"Times,serif\" font-size=\"14.00\" fill=\"#000000\">True</text>\n</g>\n<!-- 8 -->\n<g id=\"node9\" class=\"node\">\n<title>8</title>\n<polygon fill=\"none\" stroke=\"#000000\" points=\"347,-245.5 164,-245.5 164,-177.5 347,-177.5 347,-245.5\"/>\n<text text-anchor=\"middle\" x=\"255.5\" y=\"-230.3\" font-family=\"Times,serif\" font-size=\"14.00\" fill=\"#000000\">log_first_range_False &lt;= 0.5</text>\n<text text-anchor=\"middle\" x=\"255.5\" y=\"-215.3\" font-family=\"Times,serif\" font-size=\"14.00\" fill=\"#000000\">gini = 0.474</text>\n<text text-anchor=\"middle\" x=\"255.5\" y=\"-200.3\" font-family=\"Times,serif\" font-size=\"14.00\" fill=\"#000000\">samples = 32.3%</text>\n<text text-anchor=\"middle\" x=\"255.5\" y=\"-185.3\" font-family=\"Times,serif\" font-size=\"14.00\" fill=\"#000000\">value = [0.386, 0.614]</text>\n</g>\n<!-- 0&#45;&gt;8 -->\n<g id=\"edge8\" class=\"edge\">\n<title>0&#45;&gt;8</title>\n<path fill=\"none\" stroke=\"#000000\" d=\"M128.033,-272.0718C143.0302,-264.9452 159.1978,-257.2624 174.8168,-249.8403\"/>\n<polygon fill=\"#000000\" stroke=\"#000000\" points=\"176.4068,-252.9599 183.9366,-245.5066 173.4023,-246.6374 176.4068,-252.9599\"/>\n<text text-anchor=\"middle\" x=\"160.3827\" y=\"-233.4273\" font-family=\"Times,serif\" font-size=\"14.00\" fill=\"#000000\">False</text>\n</g>\n<!-- 2 -->\n<g id=\"node3\" class=\"node\">\n<title>2</title>\n<polygon fill=\"none\" stroke=\"#000000\" points=\"592,-486.5 383,-486.5 383,-418.5 592,-418.5 592,-486.5\"/>\n<text text-anchor=\"middle\" x=\"487.5\" y=\"-471.3\" font-family=\"Times,serif\" font-size=\"14.00\" fill=\"#000000\">country_code_encoded &lt;= 0.254</text>\n<text text-anchor=\"middle\" x=\"487.5\" y=\"-456.3\" font-family=\"Times,serif\" font-size=\"14.00\" fill=\"#000000\">gini = 0.497</text>\n<text text-anchor=\"middle\" x=\"487.5\" y=\"-441.3\" font-family=\"Times,serif\" font-size=\"14.00\" fill=\"#000000\">samples = 60.2%</text>\n<text text-anchor=\"middle\" x=\"487.5\" y=\"-426.3\" font-family=\"Times,serif\" font-size=\"14.00\" fill=\"#000000\">value = [0.541, 0.459]</text>\n</g>\n<!-- 1&#45;&gt;2 -->\n<g id=\"edge2\" class=\"edge\">\n<title>1&#45;&gt;2</title>\n<path fill=\"none\" stroke=\"#000000\" d=\"M324.7934,-372.5493C351.3045,-385.5764 381.7231,-400.5234 409.0313,-413.9421\"/>\n<polygon fill=\"#000000\" stroke=\"#000000\" points=\"407.6445,-417.1603 418.163,-418.4293 410.7316,-410.8778 407.6445,-417.1603\"/>\n</g>\n<!-- 5 -->\n<g id=\"node6\" class=\"node\">\n<title>5</title>\n<polygon fill=\"none\" stroke=\"#000000\" points=\"577,-372.5 398,-372.5 398,-304.5 577,-304.5 577,-372.5\"/>\n<text text-anchor=\"middle\" x=\"487.5\" y=\"-357.3\" font-family=\"Times,serif\" font-size=\"14.00\" fill=\"#000000\">first_order_revenue &lt;= 24.5</text>\n<text text-anchor=\"middle\" x=\"487.5\" y=\"-342.3\" font-family=\"Times,serif\" font-size=\"14.00\" fill=\"#000000\">gini = 0.315</text>\n<text text-anchor=\"middle\" x=\"487.5\" y=\"-327.3\" font-family=\"Times,serif\" font-size=\"14.00\" fill=\"#000000\">samples = 7.5%</text>\n<text text-anchor=\"middle\" x=\"487.5\" y=\"-312.3\" font-family=\"Times,serif\" font-size=\"14.00\" fill=\"#000000\">value = [0.804, 0.196]</text>\n</g>\n<!-- 1&#45;&gt;5 -->\n<g id=\"edge5\" class=\"edge\">\n<title>1&#45;&gt;5</title>\n<path fill=\"none\" stroke=\"#000000\" d=\"M345.5293,-338.5C359.3659,-338.5 373.7222,-338.5 387.7547,-338.5\"/>\n<polygon fill=\"#000000\" stroke=\"#000000\" points=\"387.9033,-342.0001 397.9032,-338.5 387.9032,-335.0001 387.9033,-342.0001\"/>\n</g>\n<!-- 3 -->\n<g id=\"node4\" class=\"node\">\n<title>3</title>\n<polygon fill=\"none\" stroke=\"#000000\" points=\"775,-550 628,-550 628,-497 775,-497 775,-550\"/>\n<text text-anchor=\"middle\" x=\"701.5\" y=\"-534.8\" font-family=\"Times,serif\" font-size=\"14.00\" fill=\"#000000\">gini = 0.447</text>\n<text text-anchor=\"middle\" x=\"701.5\" y=\"-519.8\" font-family=\"Times,serif\" font-size=\"14.00\" fill=\"#000000\">samples = 13.6%</text>\n<text text-anchor=\"middle\" x=\"701.5\" y=\"-504.8\" font-family=\"Times,serif\" font-size=\"14.00\" fill=\"#000000\">value = [0.662, 0.338]</text>\n</g>\n<!-- 2&#45;&gt;3 -->\n<g id=\"edge3\" class=\"edge\">\n<title>2&#45;&gt;3</title>\n<path fill=\"none\" stroke=\"#000000\" d=\"M590.1124,-486.5443C599.5865,-489.6876 609.1065,-492.8461 618.3746,-495.921\"/>\n<polygon fill=\"#000000\" stroke=\"#000000\" points=\"617.336,-499.264 627.9294,-499.0911 619.5403,-492.6201 617.336,-499.264\"/>\n</g>\n<!-- 4 -->\n<g id=\"node5\" class=\"node\">\n<title>4</title>\n<polygon fill=\"none\" stroke=\"#000000\" points=\"767.5,-479 635.5,-479 635.5,-426 767.5,-426 767.5,-479\"/>\n<text text-anchor=\"middle\" x=\"701.5\" y=\"-463.8\" font-family=\"Times,serif\" font-size=\"14.00\" fill=\"#000000\">gini = 0.5</text>\n<text text-anchor=\"middle\" x=\"701.5\" y=\"-448.8\" font-family=\"Times,serif\" font-size=\"14.00\" fill=\"#000000\">samples = 46.6%</text>\n<text text-anchor=\"middle\" x=\"701.5\" y=\"-433.8\" font-family=\"Times,serif\" font-size=\"14.00\" fill=\"#000000\">value = [0.51, 0.49]</text>\n</g>\n<!-- 2&#45;&gt;4 -->\n<g id=\"edge4\" class=\"edge\">\n<title>2&#45;&gt;4</title>\n<path fill=\"none\" stroke=\"#000000\" d=\"M592.3058,-452.5C603.3807,-452.5 614.487,-452.5 625.1498,-452.5\"/>\n<polygon fill=\"#000000\" stroke=\"#000000\" points=\"625.2215,-456.0001 635.2215,-452.5 625.2215,-449.0001 625.2215,-456.0001\"/>\n</g>\n<!-- 6 -->\n<g id=\"node7\" class=\"node\">\n<title>6</title>\n<polygon fill=\"none\" stroke=\"#000000\" points=\"775,-408 628,-408 628,-355 775,-355 775,-408\"/>\n<text text-anchor=\"middle\" x=\"701.5\" y=\"-392.8\" font-family=\"Times,serif\" font-size=\"14.00\" fill=\"#000000\">gini = 0.261</text>\n<text text-anchor=\"middle\" x=\"701.5\" y=\"-377.8\" font-family=\"Times,serif\" font-size=\"14.00\" fill=\"#000000\">samples = 6.0%</text>\n<text text-anchor=\"middle\" x=\"701.5\" y=\"-362.8\" font-family=\"Times,serif\" font-size=\"14.00\" fill=\"#000000\">value = [0.846, 0.154]</text>\n</g>\n<!-- 5&#45;&gt;6 -->\n<g id=\"edge6\" class=\"edge\">\n<title>5&#45;&gt;6</title>\n<path fill=\"none\" stroke=\"#000000\" d=\"M577.0153,-356.4867C590.5232,-359.2009 604.4132,-361.9919 617.7926,-364.6803\"/>\n<polygon fill=\"#000000\" stroke=\"#000000\" points=\"617.4159,-368.1745 627.9095,-366.7131 618.795,-361.3117 617.4159,-368.1745\"/>\n</g>\n<!-- 7 -->\n<g id=\"node8\" class=\"node\">\n<title>7</title>\n<polygon fill=\"none\" stroke=\"#000000\" points=\"775,-337 628,-337 628,-284 775,-284 775,-337\"/>\n<text text-anchor=\"middle\" x=\"701.5\" y=\"-321.8\" font-family=\"Times,serif\" font-size=\"14.00\" fill=\"#000000\">gini = 0.45</text>\n<text text-anchor=\"middle\" x=\"701.5\" y=\"-306.8\" font-family=\"Times,serif\" font-size=\"14.00\" fill=\"#000000\">samples = 1.5%</text>\n<text text-anchor=\"middle\" x=\"701.5\" y=\"-291.8\" font-family=\"Times,serif\" font-size=\"14.00\" fill=\"#000000\">value = [0.659, 0.341]</text>\n</g>\n<!-- 5&#45;&gt;7 -->\n<g id=\"edge7\" class=\"edge\">\n<title>5&#45;&gt;7</title>\n<path fill=\"none\" stroke=\"#000000\" d=\"M577.0153,-326.7877C590.5232,-325.0203 604.4132,-323.2029 617.7926,-321.4524\"/>\n<polygon fill=\"#000000\" stroke=\"#000000\" points=\"618.4481,-324.8965 627.9095,-320.1287 617.5399,-317.9557 618.4481,-324.8965\"/>\n</g>\n<!-- 9 -->\n<g id=\"node10\" class=\"node\">\n<title>9</title>\n<polygon fill=\"none\" stroke=\"#000000\" points=\"577,-245.5 398,-245.5 398,-177.5 577,-177.5 577,-245.5\"/>\n<text text-anchor=\"middle\" x=\"487.5\" y=\"-230.3\" font-family=\"Times,serif\" font-size=\"14.00\" fill=\"#000000\">first_order_revenue &lt;= 24.5</text>\n<text text-anchor=\"middle\" x=\"487.5\" y=\"-215.3\" font-family=\"Times,serif\" font-size=\"14.00\" fill=\"#000000\">gini = 0.453</text>\n<text text-anchor=\"middle\" x=\"487.5\" y=\"-200.3\" font-family=\"Times,serif\" font-size=\"14.00\" fill=\"#000000\">samples = 3.2%</text>\n<text text-anchor=\"middle\" x=\"487.5\" y=\"-185.3\" font-family=\"Times,serif\" font-size=\"14.00\" fill=\"#000000\">value = [0.653, 0.347]</text>\n</g>\n<!-- 8&#45;&gt;9 -->\n<g id=\"edge9\" class=\"edge\">\n<title>8&#45;&gt;9</title>\n<path fill=\"none\" stroke=\"#000000\" d=\"M347.1925,-211.5C360.5152,-211.5 374.2857,-211.5 387.7578,-211.5\"/>\n<polygon fill=\"#000000\" stroke=\"#000000\" points=\"387.9895,-215.0001 397.9894,-211.5 387.9894,-208.0001 387.9895,-215.0001\"/>\n</g>\n<!-- 12 -->\n<g id=\"node13\" class=\"node\">\n<title>12</title>\n<polygon fill=\"none\" stroke=\"#000000\" points=\"590.5,-131.5 384.5,-131.5 384.5,-63.5 590.5,-63.5 590.5,-131.5\"/>\n<text text-anchor=\"middle\" x=\"487.5\" y=\"-116.3\" font-family=\"Times,serif\" font-size=\"14.00\" fill=\"#000000\">buyer_accepts_marketing &lt;= 0.5</text>\n<text text-anchor=\"middle\" x=\"487.5\" y=\"-101.3\" font-family=\"Times,serif\" font-size=\"14.00\" fill=\"#000000\">gini = 0.463</text>\n<text text-anchor=\"middle\" x=\"487.5\" y=\"-86.3\" font-family=\"Times,serif\" font-size=\"14.00\" fill=\"#000000\">samples = 29.2%</text>\n<text text-anchor=\"middle\" x=\"487.5\" y=\"-71.3\" font-family=\"Times,serif\" font-size=\"14.00\" fill=\"#000000\">value = [0.364, 0.636]</text>\n</g>\n<!-- 8&#45;&gt;12 -->\n<g id=\"edge12\" class=\"edge\">\n<title>8&#45;&gt;12</title>\n<path fill=\"none\" stroke=\"#000000\" d=\"M324.7934,-177.4507C351.3045,-164.4236 381.7231,-149.4766 409.0313,-136.0579\"/>\n<polygon fill=\"#000000\" stroke=\"#000000\" points=\"410.7316,-139.1222 418.163,-131.5707 407.6445,-132.8397 410.7316,-139.1222\"/>\n</g>\n<!-- 10 -->\n<g id=\"node11\" class=\"node\">\n<title>10</title>\n<polygon fill=\"none\" stroke=\"#000000\" points=\"775,-266 628,-266 628,-213 775,-213 775,-266\"/>\n<text text-anchor=\"middle\" x=\"701.5\" y=\"-250.8\" font-family=\"Times,serif\" font-size=\"14.00\" fill=\"#000000\">gini = 0.402</text>\n<text text-anchor=\"middle\" x=\"701.5\" y=\"-235.8\" font-family=\"Times,serif\" font-size=\"14.00\" fill=\"#000000\">samples = 2.4%</text>\n<text text-anchor=\"middle\" x=\"701.5\" y=\"-220.8\" font-family=\"Times,serif\" font-size=\"14.00\" fill=\"#000000\">value = [0.722, 0.278]</text>\n</g>\n<!-- 9&#45;&gt;10 -->\n<g id=\"edge10\" class=\"edge\">\n<title>9&#45;&gt;10</title>\n<path fill=\"none\" stroke=\"#000000\" d=\"M577.0153,-223.2123C590.5232,-224.9797 604.4132,-226.7971 617.7926,-228.5476\"/>\n<polygon fill=\"#000000\" stroke=\"#000000\" points=\"617.5399,-232.0443 627.9095,-229.8713 618.4481,-225.1035 617.5399,-232.0443\"/>\n</g>\n<!-- 11 -->\n<g id=\"node12\" class=\"node\">\n<title>11</title>\n<polygon fill=\"none\" stroke=\"#000000\" points=\"775,-195 628,-195 628,-142 775,-142 775,-195\"/>\n<text text-anchor=\"middle\" x=\"701.5\" y=\"-179.8\" font-family=\"Times,serif\" font-size=\"14.00\" fill=\"#000000\">gini = 0.498</text>\n<text text-anchor=\"middle\" x=\"701.5\" y=\"-164.8\" font-family=\"Times,serif\" font-size=\"14.00\" fill=\"#000000\">samples = 0.7%</text>\n<text text-anchor=\"middle\" x=\"701.5\" y=\"-149.8\" font-family=\"Times,serif\" font-size=\"14.00\" fill=\"#000000\">value = [0.471, 0.529]</text>\n</g>\n<!-- 9&#45;&gt;11 -->\n<g id=\"edge11\" class=\"edge\">\n<title>9&#45;&gt;11</title>\n<path fill=\"none\" stroke=\"#000000\" d=\"M577.0153,-193.5133C590.5232,-190.7991 604.4132,-188.0081 617.7926,-185.3197\"/>\n<polygon fill=\"#000000\" stroke=\"#000000\" points=\"618.795,-188.6883 627.9095,-183.2869 617.4159,-181.8255 618.795,-188.6883\"/>\n</g>\n<!-- 13 -->\n<g id=\"node14\" class=\"node\">\n<title>13</title>\n<polygon fill=\"none\" stroke=\"#000000\" points=\"775,-124 628,-124 628,-71 775,-71 775,-124\"/>\n<text text-anchor=\"middle\" x=\"701.5\" y=\"-108.8\" font-family=\"Times,serif\" font-size=\"14.00\" fill=\"#000000\">gini = 0.413</text>\n<text text-anchor=\"middle\" x=\"701.5\" y=\"-93.8\" font-family=\"Times,serif\" font-size=\"14.00\" fill=\"#000000\">samples = 9.4%</text>\n<text text-anchor=\"middle\" x=\"701.5\" y=\"-78.8\" font-family=\"Times,serif\" font-size=\"14.00\" fill=\"#000000\">value = [0.291, 0.709]</text>\n</g>\n<!-- 12&#45;&gt;13 -->\n<g id=\"edge13\" class=\"edge\">\n<title>12&#45;&gt;13</title>\n<path fill=\"none\" stroke=\"#000000\" d=\"M590.739,-97.5C599.7271,-97.5 608.7507,-97.5 617.5556,-97.5\"/>\n<polygon fill=\"#000000\" stroke=\"#000000\" points=\"617.7761,-101.0001 627.7761,-97.5 617.7761,-94.0001 617.7761,-101.0001\"/>\n</g>\n<!-- 14 -->\n<g id=\"node15\" class=\"node\">\n<title>14</title>\n<polygon fill=\"none\" stroke=\"#000000\" points=\"775,-53 628,-53 628,0 775,0 775,-53\"/>\n<text text-anchor=\"middle\" x=\"701.5\" y=\"-37.8\" font-family=\"Times,serif\" font-size=\"14.00\" fill=\"#000000\">gini = 0.481</text>\n<text text-anchor=\"middle\" x=\"701.5\" y=\"-22.8\" font-family=\"Times,serif\" font-size=\"14.00\" fill=\"#000000\">samples = 19.8%</text>\n<text text-anchor=\"middle\" x=\"701.5\" y=\"-7.8\" font-family=\"Times,serif\" font-size=\"14.00\" fill=\"#000000\">value = [0.402, 0.598]</text>\n</g>\n<!-- 12&#45;&gt;14 -->\n<g id=\"edge14\" class=\"edge\">\n<title>12&#45;&gt;14</title>\n<path fill=\"none\" stroke=\"#000000\" d=\"M590.1124,-63.4557C599.5865,-60.3124 609.1065,-57.1539 618.3746,-54.079\"/>\n<polygon fill=\"#000000\" stroke=\"#000000\" points=\"619.5403,-57.3799 627.9294,-50.9089 617.336,-50.736 619.5403,-57.3799\"/>\n</g>\n</g>\n</svg>\n"
          },
          "metadata": {
            "tags": []
          },
          "execution_count": 103
        }
      ]
    },
    {
      "cell_type": "code",
      "metadata": {
        "id": "msNGRZtGS7Ag",
        "colab_type": "code",
        "colab": {
          "base_uri": "https://localhost:8080/",
          "height": 765
        },
        "outputId": "3ff43811-236f-45a1-83df-eb6ae274ecae"
      },
      "source": [
        "tree=DecisionTreeClassifier(random_state=42,class_weight=\"balanced\", max_depth=3, criterion='entropy',min_samples_leaf=5, min_samples_split= 2, splitter='best')\n",
        "tree.fit(X_train , y_train)\n",
        "export_graphviz(tree, out_file=\"tree.dot\", feature_names=X_train.columns, proportion=True, rotate=True)\n",
        "with open(\"tree.dot\") as f:\n",
        "    dot_graph = f.read()\n",
        "s = Source.from_file(\"tree.dot\")\n",
        "s.view()\n",
        "s"
      ],
      "execution_count": 104,
      "outputs": [
        {
          "output_type": "execute_result",
          "data": {
            "text/plain": [
              "<graphviz.files.Source at 0x7f48cb446128>"
            ],
            "image/svg+xml": "<?xml version=\"1.0\" encoding=\"UTF-8\" standalone=\"no\"?>\n<!DOCTYPE svg PUBLIC \"-//W3C//DTD SVG 1.1//EN\"\n \"http://www.w3.org/Graphics/SVG/1.1/DTD/svg11.dtd\">\n<!-- Generated by graphviz version 2.40.1 (20161225.0304)\n -->\n<!-- Title: Tree Pages: 1 -->\n<svg width=\"783pt\" height=\"558pt\"\n viewBox=\"0.00 0.00 783.00 558.00\" xmlns=\"http://www.w3.org/2000/svg\" xmlns:xlink=\"http://www.w3.org/1999/xlink\">\n<g id=\"graph0\" class=\"graph\" transform=\"scale(1 1) rotate(0) translate(4 554)\">\n<title>Tree</title>\n<polygon fill=\"#ffffff\" stroke=\"transparent\" points=\"-4,4 -4,-554 779,-554 779,4 -4,4\"/>\n<!-- 0 -->\n<g id=\"node1\" class=\"node\">\n<title>0</title>\n<polygon fill=\"none\" stroke=\"#000000\" points=\"128,-336.5 0,-336.5 0,-268.5 128,-268.5 128,-336.5\"/>\n<text text-anchor=\"middle\" x=\"64\" y=\"-321.3\" font-family=\"Times,serif\" font-size=\"14.00\" fill=\"#000000\">DD_known &lt;= 0.5</text>\n<text text-anchor=\"middle\" x=\"64\" y=\"-306.3\" font-family=\"Times,serif\" font-size=\"14.00\" fill=\"#000000\">entropy = 1.0</text>\n<text text-anchor=\"middle\" x=\"64\" y=\"-291.3\" font-family=\"Times,serif\" font-size=\"14.00\" fill=\"#000000\">samples = 100.0%</text>\n<text text-anchor=\"middle\" x=\"64\" y=\"-276.3\" font-family=\"Times,serif\" font-size=\"14.00\" fill=\"#000000\">value = [0.5, 0.5]</text>\n</g>\n<!-- 1 -->\n<g id=\"node2\" class=\"node\">\n<title>1</title>\n<polygon fill=\"none\" stroke=\"#000000\" points=\"345.5,-372.5 165.5,-372.5 165.5,-304.5 345.5,-304.5 345.5,-372.5\"/>\n<text text-anchor=\"middle\" x=\"255.5\" y=\"-357.3\" font-family=\"Times,serif\" font-size=\"14.00\" fill=\"#000000\">log_first_range_True &lt;= 0.5</text>\n<text text-anchor=\"middle\" x=\"255.5\" y=\"-342.3\" font-family=\"Times,serif\" font-size=\"14.00\" fill=\"#000000\">entropy = 0.988</text>\n<text text-anchor=\"middle\" x=\"255.5\" y=\"-327.3\" font-family=\"Times,serif\" font-size=\"14.00\" fill=\"#000000\">samples = 67.7%</text>\n<text text-anchor=\"middle\" x=\"255.5\" y=\"-312.3\" font-family=\"Times,serif\" font-size=\"14.00\" fill=\"#000000\">value = [0.565, 0.435]</text>\n</g>\n<!-- 0&#45;&gt;1 -->\n<g id=\"edge1\" class=\"edge\">\n<title>0&#45;&gt;1</title>\n<path fill=\"none\" stroke=\"#000000\" d=\"M128.033,-314.5375C136.8164,-316.1887 146.0013,-317.9154 155.2423,-319.6526\"/>\n<polygon fill=\"#000000\" stroke=\"#000000\" points=\"154.8009,-323.1309 165.2754,-321.5387 156.0943,-316.2514 154.8009,-323.1309\"/>\n<text text-anchor=\"middle\" x=\"144.6361\" y=\"-331.9461\" font-family=\"Times,serif\" font-size=\"14.00\" fill=\"#000000\">True</text>\n</g>\n<!-- 8 -->\n<g id=\"node9\" class=\"node\">\n<title>8</title>\n<polygon fill=\"none\" stroke=\"#000000\" points=\"347,-245.5 164,-245.5 164,-177.5 347,-177.5 347,-245.5\"/>\n<text text-anchor=\"middle\" x=\"255.5\" y=\"-230.3\" font-family=\"Times,serif\" font-size=\"14.00\" fill=\"#000000\">log_first_range_False &lt;= 0.5</text>\n<text text-anchor=\"middle\" x=\"255.5\" y=\"-215.3\" font-family=\"Times,serif\" font-size=\"14.00\" fill=\"#000000\">entropy = 0.962</text>\n<text text-anchor=\"middle\" x=\"255.5\" y=\"-200.3\" font-family=\"Times,serif\" font-size=\"14.00\" fill=\"#000000\">samples = 32.3%</text>\n<text text-anchor=\"middle\" x=\"255.5\" y=\"-185.3\" font-family=\"Times,serif\" font-size=\"14.00\" fill=\"#000000\">value = [0.386, 0.614]</text>\n</g>\n<!-- 0&#45;&gt;8 -->\n<g id=\"edge8\" class=\"edge\">\n<title>0&#45;&gt;8</title>\n<path fill=\"none\" stroke=\"#000000\" d=\"M128.033,-272.0718C143.0302,-264.9452 159.1978,-257.2624 174.8168,-249.8403\"/>\n<polygon fill=\"#000000\" stroke=\"#000000\" points=\"176.4068,-252.9599 183.9366,-245.5066 173.4023,-246.6374 176.4068,-252.9599\"/>\n<text text-anchor=\"middle\" x=\"160.3827\" y=\"-233.4273\" font-family=\"Times,serif\" font-size=\"14.00\" fill=\"#000000\">False</text>\n</g>\n<!-- 2 -->\n<g id=\"node3\" class=\"node\">\n<title>2</title>\n<polygon fill=\"none\" stroke=\"#000000\" points=\"592,-486.5 383,-486.5 383,-418.5 592,-418.5 592,-486.5\"/>\n<text text-anchor=\"middle\" x=\"487.5\" y=\"-471.3\" font-family=\"Times,serif\" font-size=\"14.00\" fill=\"#000000\">country_code_encoded &lt;= 0.254</text>\n<text text-anchor=\"middle\" x=\"487.5\" y=\"-456.3\" font-family=\"Times,serif\" font-size=\"14.00\" fill=\"#000000\">entropy = 0.995</text>\n<text text-anchor=\"middle\" x=\"487.5\" y=\"-441.3\" font-family=\"Times,serif\" font-size=\"14.00\" fill=\"#000000\">samples = 60.2%</text>\n<text text-anchor=\"middle\" x=\"487.5\" y=\"-426.3\" font-family=\"Times,serif\" font-size=\"14.00\" fill=\"#000000\">value = [0.541, 0.459]</text>\n</g>\n<!-- 1&#45;&gt;2 -->\n<g id=\"edge2\" class=\"edge\">\n<title>1&#45;&gt;2</title>\n<path fill=\"none\" stroke=\"#000000\" d=\"M324.7934,-372.5493C351.3045,-385.5764 381.7231,-400.5234 409.0313,-413.9421\"/>\n<polygon fill=\"#000000\" stroke=\"#000000\" points=\"407.6445,-417.1603 418.163,-418.4293 410.7316,-410.8778 407.6445,-417.1603\"/>\n</g>\n<!-- 5 -->\n<g id=\"node6\" class=\"node\">\n<title>5</title>\n<polygon fill=\"none\" stroke=\"#000000\" points=\"568.5,-372.5 406.5,-372.5 406.5,-304.5 568.5,-304.5 568.5,-372.5\"/>\n<text text-anchor=\"middle\" x=\"487.5\" y=\"-357.3\" font-family=\"Times,serif\" font-size=\"14.00\" fill=\"#000000\">requires_shipping &lt;= 0.5</text>\n<text text-anchor=\"middle\" x=\"487.5\" y=\"-342.3\" font-family=\"Times,serif\" font-size=\"14.00\" fill=\"#000000\">entropy = 0.713</text>\n<text text-anchor=\"middle\" x=\"487.5\" y=\"-327.3\" font-family=\"Times,serif\" font-size=\"14.00\" fill=\"#000000\">samples = 7.5%</text>\n<text text-anchor=\"middle\" x=\"487.5\" y=\"-312.3\" font-family=\"Times,serif\" font-size=\"14.00\" fill=\"#000000\">value = [0.804, 0.196]</text>\n</g>\n<!-- 1&#45;&gt;5 -->\n<g id=\"edge5\" class=\"edge\">\n<title>1&#45;&gt;5</title>\n<path fill=\"none\" stroke=\"#000000\" d=\"M345.5293,-338.5C362.0894,-338.5 379.3939,-338.5 395.9969,-338.5\"/>\n<polygon fill=\"#000000\" stroke=\"#000000\" points=\"396.231,-342.0001 406.231,-338.5 396.231,-335.0001 396.231,-342.0001\"/>\n</g>\n<!-- 3 -->\n<g id=\"node4\" class=\"node\">\n<title>3</title>\n<polygon fill=\"none\" stroke=\"#000000\" points=\"775,-550 628,-550 628,-497 775,-497 775,-550\"/>\n<text text-anchor=\"middle\" x=\"701.5\" y=\"-534.8\" font-family=\"Times,serif\" font-size=\"14.00\" fill=\"#000000\">entropy = 0.923</text>\n<text text-anchor=\"middle\" x=\"701.5\" y=\"-519.8\" font-family=\"Times,serif\" font-size=\"14.00\" fill=\"#000000\">samples = 13.6%</text>\n<text text-anchor=\"middle\" x=\"701.5\" y=\"-504.8\" font-family=\"Times,serif\" font-size=\"14.00\" fill=\"#000000\">value = [0.662, 0.338]</text>\n</g>\n<!-- 2&#45;&gt;3 -->\n<g id=\"edge3\" class=\"edge\">\n<title>2&#45;&gt;3</title>\n<path fill=\"none\" stroke=\"#000000\" d=\"M590.1124,-486.5443C599.5865,-489.6876 609.1065,-492.8461 618.3746,-495.921\"/>\n<polygon fill=\"#000000\" stroke=\"#000000\" points=\"617.336,-499.264 627.9294,-499.0911 619.5403,-492.6201 617.336,-499.264\"/>\n</g>\n<!-- 4 -->\n<g id=\"node5\" class=\"node\">\n<title>4</title>\n<polygon fill=\"none\" stroke=\"#000000\" points=\"767.5,-479 635.5,-479 635.5,-426 767.5,-426 767.5,-479\"/>\n<text text-anchor=\"middle\" x=\"701.5\" y=\"-463.8\" font-family=\"Times,serif\" font-size=\"14.00\" fill=\"#000000\">entropy = 1.0</text>\n<text text-anchor=\"middle\" x=\"701.5\" y=\"-448.8\" font-family=\"Times,serif\" font-size=\"14.00\" fill=\"#000000\">samples = 46.6%</text>\n<text text-anchor=\"middle\" x=\"701.5\" y=\"-433.8\" font-family=\"Times,serif\" font-size=\"14.00\" fill=\"#000000\">value = [0.51, 0.49]</text>\n</g>\n<!-- 2&#45;&gt;4 -->\n<g id=\"edge4\" class=\"edge\">\n<title>2&#45;&gt;4</title>\n<path fill=\"none\" stroke=\"#000000\" d=\"M592.3058,-452.5C603.3807,-452.5 614.487,-452.5 625.1498,-452.5\"/>\n<polygon fill=\"#000000\" stroke=\"#000000\" points=\"625.2215,-456.0001 635.2215,-452.5 625.2215,-449.0001 625.2215,-456.0001\"/>\n</g>\n<!-- 6 -->\n<g id=\"node7\" class=\"node\">\n<title>6</title>\n<polygon fill=\"none\" stroke=\"#000000\" points=\"775,-408 628,-408 628,-355 775,-355 775,-408\"/>\n<text text-anchor=\"middle\" x=\"701.5\" y=\"-392.8\" font-family=\"Times,serif\" font-size=\"14.00\" fill=\"#000000\">entropy = 0.319</text>\n<text text-anchor=\"middle\" x=\"701.5\" y=\"-377.8\" font-family=\"Times,serif\" font-size=\"14.00\" fill=\"#000000\">samples = 2.0%</text>\n<text text-anchor=\"middle\" x=\"701.5\" y=\"-362.8\" font-family=\"Times,serif\" font-size=\"14.00\" fill=\"#000000\">value = [0.942, 0.058]</text>\n</g>\n<!-- 5&#45;&gt;6 -->\n<g id=\"edge6\" class=\"edge\">\n<title>5&#45;&gt;6</title>\n<path fill=\"none\" stroke=\"#000000\" d=\"M568.7094,-354.8178C584.7679,-358.0445 601.6505,-361.4368 617.7901,-364.6798\"/>\n<polygon fill=\"#000000\" stroke=\"#000000\" points=\"617.2357,-368.1383 627.7293,-366.6769 618.6148,-361.2754 617.2357,-368.1383\"/>\n</g>\n<!-- 7 -->\n<g id=\"node8\" class=\"node\">\n<title>7</title>\n<polygon fill=\"none\" stroke=\"#000000\" points=\"775,-337 628,-337 628,-284 775,-284 775,-337\"/>\n<text text-anchor=\"middle\" x=\"701.5\" y=\"-321.8\" font-family=\"Times,serif\" font-size=\"14.00\" fill=\"#000000\">entropy = 0.793</text>\n<text text-anchor=\"middle\" x=\"701.5\" y=\"-306.8\" font-family=\"Times,serif\" font-size=\"14.00\" fill=\"#000000\">samples = 5.5%</text>\n<text text-anchor=\"middle\" x=\"701.5\" y=\"-291.8\" font-family=\"Times,serif\" font-size=\"14.00\" fill=\"#000000\">value = [0.761, 0.239]</text>\n</g>\n<!-- 5&#45;&gt;7 -->\n<g id=\"edge7\" class=\"edge\">\n<title>5&#45;&gt;7</title>\n<path fill=\"none\" stroke=\"#000000\" d=\"M568.7094,-327.8745C584.7679,-325.7734 601.6505,-323.5644 617.7901,-321.4527\"/>\n<polygon fill=\"#000000\" stroke=\"#000000\" points=\"618.2679,-324.9201 627.7293,-320.1522 617.3597,-317.9793 618.2679,-324.9201\"/>\n</g>\n<!-- 9 -->\n<g id=\"node10\" class=\"node\">\n<title>9</title>\n<polygon fill=\"none\" stroke=\"#000000\" points=\"577,-245.5 398,-245.5 398,-177.5 577,-177.5 577,-245.5\"/>\n<text text-anchor=\"middle\" x=\"487.5\" y=\"-230.3\" font-family=\"Times,serif\" font-size=\"14.00\" fill=\"#000000\">first_order_revenue &lt;= 24.5</text>\n<text text-anchor=\"middle\" x=\"487.5\" y=\"-215.3\" font-family=\"Times,serif\" font-size=\"14.00\" fill=\"#000000\">entropy = 0.931</text>\n<text text-anchor=\"middle\" x=\"487.5\" y=\"-200.3\" font-family=\"Times,serif\" font-size=\"14.00\" fill=\"#000000\">samples = 3.2%</text>\n<text text-anchor=\"middle\" x=\"487.5\" y=\"-185.3\" font-family=\"Times,serif\" font-size=\"14.00\" fill=\"#000000\">value = [0.653, 0.347]</text>\n</g>\n<!-- 8&#45;&gt;9 -->\n<g id=\"edge9\" class=\"edge\">\n<title>8&#45;&gt;9</title>\n<path fill=\"none\" stroke=\"#000000\" d=\"M347.1925,-211.5C360.5152,-211.5 374.2857,-211.5 387.7578,-211.5\"/>\n<polygon fill=\"#000000\" stroke=\"#000000\" points=\"387.9895,-215.0001 397.9894,-211.5 387.9894,-208.0001 387.9895,-215.0001\"/>\n</g>\n<!-- 12 -->\n<g id=\"node13\" class=\"node\">\n<title>12</title>\n<polygon fill=\"none\" stroke=\"#000000\" points=\"590.5,-131.5 384.5,-131.5 384.5,-63.5 590.5,-63.5 590.5,-131.5\"/>\n<text text-anchor=\"middle\" x=\"487.5\" y=\"-116.3\" font-family=\"Times,serif\" font-size=\"14.00\" fill=\"#000000\">buyer_accepts_marketing &lt;= 0.5</text>\n<text text-anchor=\"middle\" x=\"487.5\" y=\"-101.3\" font-family=\"Times,serif\" font-size=\"14.00\" fill=\"#000000\">entropy = 0.946</text>\n<text text-anchor=\"middle\" x=\"487.5\" y=\"-86.3\" font-family=\"Times,serif\" font-size=\"14.00\" fill=\"#000000\">samples = 29.2%</text>\n<text text-anchor=\"middle\" x=\"487.5\" y=\"-71.3\" font-family=\"Times,serif\" font-size=\"14.00\" fill=\"#000000\">value = [0.364, 0.636]</text>\n</g>\n<!-- 8&#45;&gt;12 -->\n<g id=\"edge12\" class=\"edge\">\n<title>8&#45;&gt;12</title>\n<path fill=\"none\" stroke=\"#000000\" d=\"M324.7934,-177.4507C351.3045,-164.4236 381.7231,-149.4766 409.0313,-136.0579\"/>\n<polygon fill=\"#000000\" stroke=\"#000000\" points=\"410.7316,-139.1222 418.163,-131.5707 407.6445,-132.8397 410.7316,-139.1222\"/>\n</g>\n<!-- 10 -->\n<g id=\"node11\" class=\"node\">\n<title>10</title>\n<polygon fill=\"none\" stroke=\"#000000\" points=\"775,-266 628,-266 628,-213 775,-213 775,-266\"/>\n<text text-anchor=\"middle\" x=\"701.5\" y=\"-250.8\" font-family=\"Times,serif\" font-size=\"14.00\" fill=\"#000000\">entropy = 0.853</text>\n<text text-anchor=\"middle\" x=\"701.5\" y=\"-235.8\" font-family=\"Times,serif\" font-size=\"14.00\" fill=\"#000000\">samples = 2.4%</text>\n<text text-anchor=\"middle\" x=\"701.5\" y=\"-220.8\" font-family=\"Times,serif\" font-size=\"14.00\" fill=\"#000000\">value = [0.722, 0.278]</text>\n</g>\n<!-- 9&#45;&gt;10 -->\n<g id=\"edge10\" class=\"edge\">\n<title>9&#45;&gt;10</title>\n<path fill=\"none\" stroke=\"#000000\" d=\"M577.0153,-223.2123C590.5232,-224.9797 604.4132,-226.7971 617.7926,-228.5476\"/>\n<polygon fill=\"#000000\" stroke=\"#000000\" points=\"617.5399,-232.0443 627.9095,-229.8713 618.4481,-225.1035 617.5399,-232.0443\"/>\n</g>\n<!-- 11 -->\n<g id=\"node12\" class=\"node\">\n<title>11</title>\n<polygon fill=\"none\" stroke=\"#000000\" points=\"775,-195 628,-195 628,-142 775,-142 775,-195\"/>\n<text text-anchor=\"middle\" x=\"701.5\" y=\"-179.8\" font-family=\"Times,serif\" font-size=\"14.00\" fill=\"#000000\">entropy = 0.998</text>\n<text text-anchor=\"middle\" x=\"701.5\" y=\"-164.8\" font-family=\"Times,serif\" font-size=\"14.00\" fill=\"#000000\">samples = 0.7%</text>\n<text text-anchor=\"middle\" x=\"701.5\" y=\"-149.8\" font-family=\"Times,serif\" font-size=\"14.00\" fill=\"#000000\">value = [0.471, 0.529]</text>\n</g>\n<!-- 9&#45;&gt;11 -->\n<g id=\"edge11\" class=\"edge\">\n<title>9&#45;&gt;11</title>\n<path fill=\"none\" stroke=\"#000000\" d=\"M577.0153,-193.5133C590.5232,-190.7991 604.4132,-188.0081 617.7926,-185.3197\"/>\n<polygon fill=\"#000000\" stroke=\"#000000\" points=\"618.795,-188.6883 627.9095,-183.2869 617.4159,-181.8255 618.795,-188.6883\"/>\n</g>\n<!-- 13 -->\n<g id=\"node14\" class=\"node\">\n<title>13</title>\n<polygon fill=\"none\" stroke=\"#000000\" points=\"775,-124 628,-124 628,-71 775,-71 775,-124\"/>\n<text text-anchor=\"middle\" x=\"701.5\" y=\"-108.8\" font-family=\"Times,serif\" font-size=\"14.00\" fill=\"#000000\">entropy = 0.87</text>\n<text text-anchor=\"middle\" x=\"701.5\" y=\"-93.8\" font-family=\"Times,serif\" font-size=\"14.00\" fill=\"#000000\">samples = 9.4%</text>\n<text text-anchor=\"middle\" x=\"701.5\" y=\"-78.8\" font-family=\"Times,serif\" font-size=\"14.00\" fill=\"#000000\">value = [0.291, 0.709]</text>\n</g>\n<!-- 12&#45;&gt;13 -->\n<g id=\"edge13\" class=\"edge\">\n<title>12&#45;&gt;13</title>\n<path fill=\"none\" stroke=\"#000000\" d=\"M590.739,-97.5C599.7271,-97.5 608.7507,-97.5 617.5556,-97.5\"/>\n<polygon fill=\"#000000\" stroke=\"#000000\" points=\"617.7761,-101.0001 627.7761,-97.5 617.7761,-94.0001 617.7761,-101.0001\"/>\n</g>\n<!-- 14 -->\n<g id=\"node15\" class=\"node\">\n<title>14</title>\n<polygon fill=\"none\" stroke=\"#000000\" points=\"775,-53 628,-53 628,0 775,0 775,-53\"/>\n<text text-anchor=\"middle\" x=\"701.5\" y=\"-37.8\" font-family=\"Times,serif\" font-size=\"14.00\" fill=\"#000000\">entropy = 0.972</text>\n<text text-anchor=\"middle\" x=\"701.5\" y=\"-22.8\" font-family=\"Times,serif\" font-size=\"14.00\" fill=\"#000000\">samples = 19.8%</text>\n<text text-anchor=\"middle\" x=\"701.5\" y=\"-7.8\" font-family=\"Times,serif\" font-size=\"14.00\" fill=\"#000000\">value = [0.402, 0.598]</text>\n</g>\n<!-- 12&#45;&gt;14 -->\n<g id=\"edge14\" class=\"edge\">\n<title>12&#45;&gt;14</title>\n<path fill=\"none\" stroke=\"#000000\" d=\"M590.1124,-63.4557C599.5865,-60.3124 609.1065,-57.1539 618.3746,-54.079\"/>\n<polygon fill=\"#000000\" stroke=\"#000000\" points=\"619.5403,-57.3799 627.9294,-50.9089 617.336,-50.736 619.5403,-57.3799\"/>\n</g>\n</g>\n</svg>\n"
          },
          "metadata": {
            "tags": []
          },
          "execution_count": 104
        }
      ]
    },
    {
      "cell_type": "markdown",
      "metadata": {
        "id": "o61Nl5IdFDBg",
        "colab_type": "text"
      },
      "source": [
        "### RandomForest\n",
        "\n",
        "\n",
        "try for loop on RandomForest \n",
        "print test_score, train_score"
      ]
    },
    {
      "cell_type": "code",
      "metadata": {
        "id": "cB-XtBpLgEEt",
        "colab_type": "code",
        "colab": {}
      },
      "source": [
        "from sklearn.ensemble import RandomForestClassifier"
      ],
      "execution_count": 105,
      "outputs": []
    },
    {
      "cell_type": "code",
      "metadata": {
        "id": "r_7U-D349Qsn",
        "colab_type": "code",
        "colab": {
          "base_uri": "https://localhost:8080/",
          "height": 833
        },
        "outputId": "8d51446c-bff7-44d5-8ca1-b7a30f8a1dce"
      },
      "source": [
        "model = RandomForestClassifier(random_state=42,class_weight=\"balanced\")\n",
        "param_grid = {'n_estimators': [200,300,500,800],   # sets the number of decision trees to be used in the forest.\n",
        "              'max_depth': [3,5],                  #Set the max depth of the tree\n",
        "              'min_samples_leaf': [10,30],       #The minimum number of samples needed to create a leaf (decision) node\n",
        "             'min_samples_split': [25,50,80]      #The minimum number of samples needed before a split (differentiation) is made in an internal node\n",
        "             }\n",
        "\n",
        "feat1= []\n",
        "feat2 = []\n",
        "feat3 =[]\n",
        "feat4 =[]\n",
        "f1 = []\n",
        "test_f1=[]\n",
        "train_f1=[]\n",
        "\n",
        "\n",
        "for params in ParameterGrid(param_grid):\n",
        "    model.set_params(**params)\n",
        "    model.fit(X_train, y_train)\n",
        "    y_test_pred=model.predict(X_test)\n",
        "    test_f1_score=metrics.f1_score(y_test, y_test_pred)\n",
        "    y_train_pred= model.predict(X_train)\n",
        "    train_f1_score=metrics.f1_score(y_train, y_train_pred)\n",
        "    feat1.append(params['n_estimators'])\n",
        "    feat2.append(params['max_depth'])\n",
        "    feat3.append(params['min_samples_split'])\n",
        "    feat4.append(params['min_samples_leaf'])\n",
        "    test_f1.append(test_f1_score)\n",
        "    train_f1.append(train_f1_score)\n",
        "    f1.append(test_f1)\n",
        "    print(params, test_f1_score,train_f1_score) "
      ],
      "execution_count": 106,
      "outputs": [
        {
          "output_type": "stream",
          "text": [
            "{'max_depth': 3, 'min_samples_leaf': 10, 'min_samples_split': 25, 'n_estimators': 200} 0.3314524936294139 0.46724432871708776\n",
            "{'max_depth': 3, 'min_samples_leaf': 10, 'min_samples_split': 25, 'n_estimators': 300} 0.3323646930621141 0.4672656538722894\n",
            "{'max_depth': 3, 'min_samples_leaf': 10, 'min_samples_split': 25, 'n_estimators': 500} 0.3331825992583884 0.468892955169259\n",
            "{'max_depth': 3, 'min_samples_leaf': 10, 'min_samples_split': 25, 'n_estimators': 800} 0.3314586357039187 0.4667388341239386\n",
            "{'max_depth': 3, 'min_samples_leaf': 10, 'min_samples_split': 50, 'n_estimators': 200} 0.3314524936294139 0.46724432871708776\n",
            "{'max_depth': 3, 'min_samples_leaf': 10, 'min_samples_split': 50, 'n_estimators': 300} 0.3323646930621141 0.46726379704984744\n",
            "{'max_depth': 3, 'min_samples_leaf': 10, 'min_samples_split': 50, 'n_estimators': 500} 0.3331825992583884 0.468892955169259\n",
            "{'max_depth': 3, 'min_samples_leaf': 10, 'min_samples_split': 50, 'n_estimators': 800} 0.3314586357039187 0.4667388341239386\n",
            "{'max_depth': 3, 'min_samples_leaf': 10, 'min_samples_split': 80, 'n_estimators': 200} 0.3314524936294139 0.46738540602655776\n",
            "{'max_depth': 3, 'min_samples_leaf': 10, 'min_samples_split': 80, 'n_estimators': 300} 0.33248730964467005 0.46970992542034934\n",
            "{'max_depth': 3, 'min_samples_leaf': 10, 'min_samples_split': 80, 'n_estimators': 500} 0.3332429746091985 0.4677248147764272\n",
            "{'max_depth': 3, 'min_samples_leaf': 10, 'min_samples_split': 80, 'n_estimators': 800} 0.3325797992585225 0.466934550160049\n",
            "{'max_depth': 3, 'min_samples_leaf': 30, 'min_samples_split': 25, 'n_estimators': 200} 0.3314524936294139 0.46724432871708776\n",
            "{'max_depth': 3, 'min_samples_leaf': 30, 'min_samples_split': 25, 'n_estimators': 300} 0.33291001451378804 0.46909202657021964\n",
            "{'max_depth': 3, 'min_samples_leaf': 30, 'min_samples_split': 25, 'n_estimators': 500} 0.3331825992583884 0.4688870494612413\n",
            "{'max_depth': 3, 'min_samples_leaf': 30, 'min_samples_split': 25, 'n_estimators': 800} 0.3325797992585225 0.46690072908410823\n",
            "{'max_depth': 3, 'min_samples_leaf': 30, 'min_samples_split': 50, 'n_estimators': 200} 0.3314524936294139 0.46724432871708776\n",
            "{'max_depth': 3, 'min_samples_leaf': 30, 'min_samples_split': 50, 'n_estimators': 300} 0.33291001451378804 0.46909202657021964\n",
            "{'max_depth': 3, 'min_samples_leaf': 30, 'min_samples_split': 50, 'n_estimators': 500} 0.3331825992583884 0.4688870494612413\n",
            "{'max_depth': 3, 'min_samples_leaf': 30, 'min_samples_split': 50, 'n_estimators': 800} 0.3325797992585225 0.46690072908410823\n",
            "{'max_depth': 3, 'min_samples_leaf': 30, 'min_samples_split': 80, 'n_estimators': 200} 0.3314524936294139 0.4674021906110967\n",
            "{'max_depth': 3, 'min_samples_leaf': 30, 'min_samples_split': 80, 'n_estimators': 300} 0.3325475974614687 0.4697049869249469\n",
            "{'max_depth': 3, 'min_samples_leaf': 30, 'min_samples_split': 80, 'n_estimators': 500} 0.33327308874028555 0.4677015881184156\n",
            "{'max_depth': 3, 'min_samples_leaf': 30, 'min_samples_split': 80, 'n_estimators': 800} 0.3327004791610162 0.46686921814651067\n",
            "{'max_depth': 5, 'min_samples_leaf': 10, 'min_samples_split': 25, 'n_estimators': 200} 0.322896097790315 0.47617803505019124\n",
            "{'max_depth': 5, 'min_samples_leaf': 10, 'min_samples_split': 25, 'n_estimators': 300} 0.32227755332143193 0.47594307010689696\n",
            "{'max_depth': 5, 'min_samples_leaf': 10, 'min_samples_split': 25, 'n_estimators': 500} 0.3206121292272813 0.47397196917765794\n",
            "{'max_depth': 5, 'min_samples_leaf': 10, 'min_samples_split': 25, 'n_estimators': 800} 0.32088285229202035 0.4741439986751128\n",
            "{'max_depth': 5, 'min_samples_leaf': 10, 'min_samples_split': 50, 'n_estimators': 200} 0.32184124001878817 0.47645481681605234\n",
            "{'max_depth': 5, 'min_samples_leaf': 10, 'min_samples_split': 50, 'n_estimators': 300} 0.3230957077110923 0.47636612913755955\n",
            "{'max_depth': 5, 'min_samples_leaf': 10, 'min_samples_split': 50, 'n_estimators': 500} 0.3210436755530346 0.4741026458135887\n",
            "{'max_depth': 5, 'min_samples_leaf': 10, 'min_samples_split': 50, 'n_estimators': 800} 0.3208990461799981 0.47430433484793205\n",
            "{'max_depth': 5, 'min_samples_leaf': 10, 'min_samples_split': 80, 'n_estimators': 200} 0.32087580218950545 0.47632512912254377\n",
            "{'max_depth': 5, 'min_samples_leaf': 10, 'min_samples_split': 80, 'n_estimators': 300} 0.32131395129318485 0.4762235023417484\n",
            "{'max_depth': 5, 'min_samples_leaf': 10, 'min_samples_split': 80, 'n_estimators': 500} 0.3207565011820331 0.47446912516466855\n",
            "{'max_depth': 5, 'min_samples_leaf': 10, 'min_samples_split': 80, 'n_estimators': 800} 0.32077075658826865 0.4743907390681063\n",
            "{'max_depth': 5, 'min_samples_leaf': 30, 'min_samples_split': 25, 'n_estimators': 200} 0.3226109857035365 0.4763324422324336\n",
            "{'max_depth': 5, 'min_samples_leaf': 30, 'min_samples_split': 25, 'n_estimators': 300} 0.3224228743416102 0.47562048214950486\n",
            "{'max_depth': 5, 'min_samples_leaf': 30, 'min_samples_split': 25, 'n_estimators': 500} 0.320966676106863 0.47388238402721583\n",
            "{'max_depth': 5, 'min_samples_leaf': 30, 'min_samples_split': 25, 'n_estimators': 800} 0.3207030142681659 0.47381655458778954\n",
            "{'max_depth': 5, 'min_samples_leaf': 30, 'min_samples_split': 50, 'n_estimators': 200} 0.3226109857035365 0.4763324422324336\n",
            "{'max_depth': 5, 'min_samples_leaf': 30, 'min_samples_split': 50, 'n_estimators': 300} 0.3224228743416102 0.47562048214950486\n",
            "{'max_depth': 5, 'min_samples_leaf': 30, 'min_samples_split': 50, 'n_estimators': 500} 0.320966676106863 0.47388238402721583\n",
            "{'max_depth': 5, 'min_samples_leaf': 30, 'min_samples_split': 50, 'n_estimators': 800} 0.3207030142681659 0.47381655458778954\n",
            "{'max_depth': 5, 'min_samples_leaf': 30, 'min_samples_split': 80, 'n_estimators': 200} 0.3211554800339847 0.47633149517638473\n",
            "{'max_depth': 5, 'min_samples_leaf': 30, 'min_samples_split': 80, 'n_estimators': 300} 0.320966676106863 0.47560850406764493\n",
            "{'max_depth': 5, 'min_samples_leaf': 30, 'min_samples_split': 80, 'n_estimators': 500} 0.3205443205443206 0.47412888892559535\n",
            "{'max_depth': 5, 'min_samples_leaf': 30, 'min_samples_split': 80, 'n_estimators': 800} 0.3207030142681659 0.4741565309579125\n"
          ],
          "name": "stdout"
        }
      ]
    },
    {
      "cell_type": "code",
      "metadata": {
        "id": "RSkohVt8_0d1",
        "colab_type": "code",
        "colab": {}
      },
      "source": [
        "rf = pd.DataFrame({'n_estimators': feat1, 'max_depth': feat2,'min_samples_split':feat3,\n",
        "                   'min_samples_leaf':feat4, 'test_f1_score':test_f1, 'train_f1_score':train_f1})"
      ],
      "execution_count": 107,
      "outputs": []
    },
    {
      "cell_type": "code",
      "metadata": {
        "id": "kZXy2A2TPVFI",
        "colab_type": "code",
        "colab": {
          "base_uri": "https://localhost:8080/",
          "height": 34
        },
        "outputId": "c8af4333-7d02-40ca-9ce1-b1971e4ee023"
      },
      "source": [
        "np.max(test_f1)"
      ],
      "execution_count": 108,
      "outputs": [
        {
          "output_type": "execute_result",
          "data": {
            "text/plain": [
              "0.33327308874028555"
            ]
          },
          "metadata": {
            "tags": []
          },
          "execution_count": 108
        }
      ]
    },
    {
      "cell_type": "code",
      "metadata": {
        "id": "4aXTg8YDPlgA",
        "colab_type": "code",
        "colab": {
          "base_uri": "https://localhost:8080/",
          "height": 80
        },
        "outputId": "a705cd61-1815-45d3-a0df-56c25a0a05e4"
      },
      "source": [
        "rf.loc[rf.test_f1_score==np.max(test_f1)]"
      ],
      "execution_count": 109,
      "outputs": [
        {
          "output_type": "execute_result",
          "data": {
            "text/html": [
              "<div>\n",
              "<style scoped>\n",
              "    .dataframe tbody tr th:only-of-type {\n",
              "        vertical-align: middle;\n",
              "    }\n",
              "\n",
              "    .dataframe tbody tr th {\n",
              "        vertical-align: top;\n",
              "    }\n",
              "\n",
              "    .dataframe thead th {\n",
              "        text-align: right;\n",
              "    }\n",
              "</style>\n",
              "<table border=\"1\" class=\"dataframe\">\n",
              "  <thead>\n",
              "    <tr style=\"text-align: right;\">\n",
              "      <th></th>\n",
              "      <th>n_estimators</th>\n",
              "      <th>max_depth</th>\n",
              "      <th>min_samples_split</th>\n",
              "      <th>min_samples_leaf</th>\n",
              "      <th>test_f1_score</th>\n",
              "      <th>train_f1_score</th>\n",
              "    </tr>\n",
              "  </thead>\n",
              "  <tbody>\n",
              "    <tr>\n",
              "      <th>22</th>\n",
              "      <td>500</td>\n",
              "      <td>3</td>\n",
              "      <td>80</td>\n",
              "      <td>30</td>\n",
              "      <td>0.333273</td>\n",
              "      <td>0.467702</td>\n",
              "    </tr>\n",
              "  </tbody>\n",
              "</table>\n",
              "</div>"
            ],
            "text/plain": [
              "    n_estimators  max_depth  min_samples_split  min_samples_leaf  \\\n",
              "22           500          3                 80                30   \n",
              "\n",
              "    test_f1_score  train_f1_score  \n",
              "22       0.333273        0.467702  "
            ]
          },
          "metadata": {
            "tags": []
          },
          "execution_count": 109
        }
      ]
    },
    {
      "cell_type": "markdown",
      "metadata": {
        "id": "2DDh8DunOL8g",
        "colab_type": "text"
      },
      "source": [
        "## 7.Evaluation and model selection "
      ]
    },
    {
      "cell_type": "code",
      "metadata": {
        "id": "1V3jvQp4OZUh",
        "colab_type": "code",
        "colab": {
          "base_uri": "https://localhost:8080/",
          "height": 142
        },
        "outputId": "784c0bc8-f299-4d37-b3c6-92c74441be63"
      },
      "source": [
        "classifiers = [\n",
        "LogisticRegression(random_state=42,class_weight='balanced',penalty = 'l1',C= 0.0005, solver='liblinear'),\n",
        "DecisionTreeClassifier(random_state=42,class_weight=\"balanced\", max_depth=3, criterion='gini',min_samples_leaf=2, min_samples_split= 5, splitter='best'),\n",
        "RandomForestClassifier(random_state=42,class_weight=\"balanced\",max_depth=3, n_estimators=500,min_samples_leaf=30, min_samples_split=80)\n",
        "]\n",
        "\n",
        "# Define a result table as a DataFrame\n",
        "result_table = pd.DataFrame(columns=['classifiers'])\n",
        "\n",
        "# Train the models and record the results\n",
        "for cls in classifiers:\n",
        "    model = cls.fit(X_train, y_train)\n",
        "    y_test_pred = model.predict(X_test)\n",
        "    test_f1=metrics.f1_score(y_test, y_test_pred)\n",
        "    train_f1=metrics.f1_score(y_train, model.predict(X_train))\n",
        "    precision = precision_score(y_test, y_test_pred)\n",
        "    recall = recall_score(y_test, y_test_pred)\n",
        "    accuracy= accuracy_score(y_test, y_test_pred)\n",
        "    roc_auc_score = metrics.roc_auc_score(y_test, y_test_pred)\n",
        "\n",
        "    \n",
        "    result_table = result_table.append({'classifiers':cls.__class__.__name__,\n",
        "                                        'test_f1_score':test_f1,\n",
        "                                        'train_f1_score': train_f1,\n",
        "                                        'precision':precision,\n",
        "                                        'recall':recall,\n",
        "                                        'accuracy':accuracy ,\n",
        "                                        'roc_auc_score': roc_auc_score\n",
        "                                        },ignore_index=True) #ignore_index=True\n",
        "result_table "
      ],
      "execution_count": 110,
      "outputs": [
        {
          "output_type": "execute_result",
          "data": {
            "text/html": [
              "<div>\n",
              "<style scoped>\n",
              "    .dataframe tbody tr th:only-of-type {\n",
              "        vertical-align: middle;\n",
              "    }\n",
              "\n",
              "    .dataframe tbody tr th {\n",
              "        vertical-align: top;\n",
              "    }\n",
              "\n",
              "    .dataframe thead th {\n",
              "        text-align: right;\n",
              "    }\n",
              "</style>\n",
              "<table border=\"1\" class=\"dataframe\">\n",
              "  <thead>\n",
              "    <tr style=\"text-align: right;\">\n",
              "      <th></th>\n",
              "      <th>classifiers</th>\n",
              "      <th>accuracy</th>\n",
              "      <th>precision</th>\n",
              "      <th>recall</th>\n",
              "      <th>roc_auc_score</th>\n",
              "      <th>test_f1_score</th>\n",
              "      <th>train_f1_score</th>\n",
              "    </tr>\n",
              "  </thead>\n",
              "  <tbody>\n",
              "    <tr>\n",
              "      <th>0</th>\n",
              "      <td>LogisticRegression</td>\n",
              "      <td>0.572383</td>\n",
              "      <td>0.248418</td>\n",
              "      <td>0.668489</td>\n",
              "      <td>0.609769</td>\n",
              "      <td>0.362228</td>\n",
              "      <td>0.450882</td>\n",
              "    </tr>\n",
              "    <tr>\n",
              "      <th>1</th>\n",
              "      <td>DecisionTreeClassifier</td>\n",
              "      <td>0.679268</td>\n",
              "      <td>0.267255</td>\n",
              "      <td>0.439563</td>\n",
              "      <td>0.586020</td>\n",
              "      <td>0.332406</td>\n",
              "      <td>0.407691</td>\n",
              "    </tr>\n",
              "    <tr>\n",
              "      <th>2</th>\n",
              "      <td>RandomForestClassifier</td>\n",
              "      <td>0.718257</td>\n",
              "      <td>0.292281</td>\n",
              "      <td>0.387639</td>\n",
              "      <td>0.589643</td>\n",
              "      <td>0.333273</td>\n",
              "      <td>0.467702</td>\n",
              "    </tr>\n",
              "  </tbody>\n",
              "</table>\n",
              "</div>"
            ],
            "text/plain": [
              "              classifiers  accuracy  precision    recall  roc_auc_score  \\\n",
              "0      LogisticRegression  0.572383   0.248418  0.668489       0.609769   \n",
              "1  DecisionTreeClassifier  0.679268   0.267255  0.439563       0.586020   \n",
              "2  RandomForestClassifier  0.718257   0.292281  0.387639       0.589643   \n",
              "\n",
              "   test_f1_score  train_f1_score  \n",
              "0       0.362228        0.450882  \n",
              "1       0.332406        0.407691  \n",
              "2       0.333273        0.467702  "
            ]
          },
          "metadata": {
            "tags": []
          },
          "execution_count": 110
        }
      ]
    },
    {
      "cell_type": "code",
      "metadata": {
        "id": "IFJ-zVzcSxR7",
        "colab_type": "code",
        "colab": {
          "base_uri": "https://localhost:8080/",
          "height": 136
        },
        "outputId": "167ef591-b7c2-4f23-b3be-503265e7e5f3"
      },
      "source": [
        "lg=LogisticRegression(random_state=42,class_weight='balanced',penalty = 'l1',C= 0.0005, solver='liblinear')\n",
        "model= lg.fit(X_train, y_train)\n",
        "print(model.coef_, model.intercept_)"
      ],
      "execution_count": 111,
      "outputs": [
        {
          "output_type": "stream",
          "text": [
            "[[-2.39645914e-01  5.78294125e-04  0.00000000e+00  0.00000000e+00\n",
            "  -1.33016458e-02  0.00000000e+00  0.00000000e+00  0.00000000e+00\n",
            "   0.00000000e+00  0.00000000e+00  0.00000000e+00  0.00000000e+00\n",
            "   0.00000000e+00  0.00000000e+00  5.83755320e-01  0.00000000e+00\n",
            "   0.00000000e+00  0.00000000e+00  0.00000000e+00  2.35688958e-01\n",
            "  -1.34759791e-01  0.00000000e+00  0.00000000e+00  0.00000000e+00\n",
            "   0.00000000e+00 -7.75286508e-01]] [0.]\n"
          ],
          "name": "stdout"
        }
      ]
    },
    {
      "cell_type": "code",
      "metadata": {
        "id": "Ncr7yFlU3KCC",
        "colab_type": "code",
        "colab": {
          "base_uri": "https://localhost:8080/",
          "height": 34
        },
        "outputId": "c841d81d-57fc-4583-9440-809f47d47966"
      },
      "source": [
        "print('intercept:',model.intercept_ )"
      ],
      "execution_count": 112,
      "outputs": [
        {
          "output_type": "stream",
          "text": [
            "intercept: [0.]\n"
          ],
          "name": "stdout"
        }
      ]
    },
    {
      "cell_type": "code",
      "metadata": {
        "id": "aFCSFKm2SxVU",
        "colab_type": "code",
        "colab": {
          "base_uri": "https://localhost:8080/",
          "height": 459
        },
        "outputId": "7a77853c-a3df-4609-8a95-6bc4717a4a4d"
      },
      "source": [
        "model.coef_.tolist()"
      ],
      "execution_count": 113,
      "outputs": [
        {
          "output_type": "execute_result",
          "data": {
            "text/plain": [
              "[[-0.23964591434517124,\n",
              "  0.000578294125414281,\n",
              "  0.0,\n",
              "  0.0,\n",
              "  -0.013301645775721588,\n",
              "  0.0,\n",
              "  0.0,\n",
              "  0.0,\n",
              "  0.0,\n",
              "  0.0,\n",
              "  0.0,\n",
              "  0.0,\n",
              "  0.0,\n",
              "  0.0,\n",
              "  0.5837553203763831,\n",
              "  0.0,\n",
              "  0.0,\n",
              "  0.0,\n",
              "  0.0,\n",
              "  0.23568895791245878,\n",
              "  -0.13475979096500143,\n",
              "  0.0,\n",
              "  0.0,\n",
              "  0.0,\n",
              "  0.0,\n",
              "  -0.7752865078114287]]"
            ]
          },
          "metadata": {
            "tags": []
          },
          "execution_count": 113
        }
      ]
    },
    {
      "cell_type": "code",
      "metadata": {
        "id": "Tym1wI04SxbN",
        "colab_type": "code",
        "colab": {
          "base_uri": "https://localhost:8080/",
          "height": 855
        },
        "outputId": "d6ea176f-8f96-4fc6-a019-9dc88bbd8a49"
      },
      "source": [
        "cof=pd.DataFrame(columns=['features','coefficients'])\n",
        "cof['features']= X_train.columns.to_list()\n",
        "cof['coefficients'] = model.coef_.T.tolist()\n",
        "cof\n"
      ],
      "execution_count": 114,
      "outputs": [
        {
          "output_type": "execute_result",
          "data": {
            "text/html": [
              "<div>\n",
              "<style scoped>\n",
              "    .dataframe tbody tr th:only-of-type {\n",
              "        vertical-align: middle;\n",
              "    }\n",
              "\n",
              "    .dataframe tbody tr th {\n",
              "        vertical-align: top;\n",
              "    }\n",
              "\n",
              "    .dataframe thead th {\n",
              "        text-align: right;\n",
              "    }\n",
              "</style>\n",
              "<table border=\"1\" class=\"dataframe\">\n",
              "  <thead>\n",
              "    <tr style=\"text-align: right;\">\n",
              "      <th></th>\n",
              "      <th>features</th>\n",
              "      <th>coefficients</th>\n",
              "    </tr>\n",
              "  </thead>\n",
              "  <tbody>\n",
              "    <tr>\n",
              "      <th>0</th>\n",
              "      <td>buyer_accepts_marketing</td>\n",
              "      <td>[-0.23964591434517124]</td>\n",
              "    </tr>\n",
              "    <tr>\n",
              "      <th>1</th>\n",
              "      <td>first_order_revenue</td>\n",
              "      <td>[0.000578294125414281]</td>\n",
              "    </tr>\n",
              "    <tr>\n",
              "      <th>2</th>\n",
              "      <td>first_order_discount</td>\n",
              "      <td>[0.0]</td>\n",
              "    </tr>\n",
              "    <tr>\n",
              "      <th>3</th>\n",
              "      <td>requires_shipping</td>\n",
              "      <td>[0.0]</td>\n",
              "    </tr>\n",
              "    <tr>\n",
              "      <th>4</th>\n",
              "      <td>item_qty</td>\n",
              "      <td>[-0.013301645775721588]</td>\n",
              "    </tr>\n",
              "    <tr>\n",
              "      <th>5</th>\n",
              "      <td>unique_item</td>\n",
              "      <td>[0.0]</td>\n",
              "    </tr>\n",
              "    <tr>\n",
              "      <th>6</th>\n",
              "      <td>utm_content_known</td>\n",
              "      <td>[0.0]</td>\n",
              "    </tr>\n",
              "    <tr>\n",
              "      <th>7</th>\n",
              "      <td>landing_site_known</td>\n",
              "      <td>[0.0]</td>\n",
              "    </tr>\n",
              "    <tr>\n",
              "      <th>8</th>\n",
              "      <td>utm_term_known</td>\n",
              "      <td>[0.0]</td>\n",
              "    </tr>\n",
              "    <tr>\n",
              "      <th>9</th>\n",
              "      <td>utm_campaign_known</td>\n",
              "      <td>[0.0]</td>\n",
              "    </tr>\n",
              "    <tr>\n",
              "      <th>10</th>\n",
              "      <td>utm_medium_known</td>\n",
              "      <td>[0.0]</td>\n",
              "    </tr>\n",
              "    <tr>\n",
              "      <th>11</th>\n",
              "      <td>utm_source_known</td>\n",
              "      <td>[0.0]</td>\n",
              "    </tr>\n",
              "    <tr>\n",
              "      <th>12</th>\n",
              "      <td>referring_site_known</td>\n",
              "      <td>[0.0]</td>\n",
              "    </tr>\n",
              "    <tr>\n",
              "      <th>13</th>\n",
              "      <td>AE_known</td>\n",
              "      <td>[0.0]</td>\n",
              "    </tr>\n",
              "    <tr>\n",
              "      <th>14</th>\n",
              "      <td>DD_known</td>\n",
              "      <td>[0.5837553203763831]</td>\n",
              "    </tr>\n",
              "    <tr>\n",
              "      <th>15</th>\n",
              "      <td>SP_known</td>\n",
              "      <td>[0.0]</td>\n",
              "    </tr>\n",
              "    <tr>\n",
              "      <th>16</th>\n",
              "      <td>country_code_encoded</td>\n",
              "      <td>[0.0]</td>\n",
              "    </tr>\n",
              "    <tr>\n",
              "      <th>17</th>\n",
              "      <td>day_of_week_0</td>\n",
              "      <td>[0.0]</td>\n",
              "    </tr>\n",
              "    <tr>\n",
              "      <th>18</th>\n",
              "      <td>day_of_week_1</td>\n",
              "      <td>[0.0]</td>\n",
              "    </tr>\n",
              "    <tr>\n",
              "      <th>19</th>\n",
              "      <td>day_of_week_2</td>\n",
              "      <td>[0.23568895791245878]</td>\n",
              "    </tr>\n",
              "    <tr>\n",
              "      <th>20</th>\n",
              "      <td>day_of_week_3</td>\n",
              "      <td>[-0.13475979096500143]</td>\n",
              "    </tr>\n",
              "    <tr>\n",
              "      <th>21</th>\n",
              "      <td>day_of_week_4</td>\n",
              "      <td>[0.0]</td>\n",
              "    </tr>\n",
              "    <tr>\n",
              "      <th>22</th>\n",
              "      <td>day_of_week_5</td>\n",
              "      <td>[0.0]</td>\n",
              "    </tr>\n",
              "    <tr>\n",
              "      <th>23</th>\n",
              "      <td>day_of_week_6</td>\n",
              "      <td>[0.0]</td>\n",
              "    </tr>\n",
              "    <tr>\n",
              "      <th>24</th>\n",
              "      <td>log_first_range_False</td>\n",
              "      <td>[0.0]</td>\n",
              "    </tr>\n",
              "    <tr>\n",
              "      <th>25</th>\n",
              "      <td>log_first_range_True</td>\n",
              "      <td>[-0.7752865078114287]</td>\n",
              "    </tr>\n",
              "  </tbody>\n",
              "</table>\n",
              "</div>"
            ],
            "text/plain": [
              "                   features             coefficients\n",
              "0   buyer_accepts_marketing   [-0.23964591434517124]\n",
              "1       first_order_revenue   [0.000578294125414281]\n",
              "2      first_order_discount                    [0.0]\n",
              "3         requires_shipping                    [0.0]\n",
              "4                  item_qty  [-0.013301645775721588]\n",
              "5               unique_item                    [0.0]\n",
              "6         utm_content_known                    [0.0]\n",
              "7        landing_site_known                    [0.0]\n",
              "8            utm_term_known                    [0.0]\n",
              "9        utm_campaign_known                    [0.0]\n",
              "10         utm_medium_known                    [0.0]\n",
              "11         utm_source_known                    [0.0]\n",
              "12     referring_site_known                    [0.0]\n",
              "13                 AE_known                    [0.0]\n",
              "14                 DD_known     [0.5837553203763831]\n",
              "15                 SP_known                    [0.0]\n",
              "16     country_code_encoded                    [0.0]\n",
              "17            day_of_week_0                    [0.0]\n",
              "18            day_of_week_1                    [0.0]\n",
              "19            day_of_week_2    [0.23568895791245878]\n",
              "20            day_of_week_3   [-0.13475979096500143]\n",
              "21            day_of_week_4                    [0.0]\n",
              "22            day_of_week_5                    [0.0]\n",
              "23            day_of_week_6                    [0.0]\n",
              "24    log_first_range_False                    [0.0]\n",
              "25     log_first_range_True    [-0.7752865078114287]"
            ]
          },
          "metadata": {
            "tags": []
          },
          "execution_count": 114
        }
      ]
    }
  ]
}