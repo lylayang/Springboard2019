{
  "nbformat": 4,
  "nbformat_minor": 0,
  "metadata": {
    "kernelspec": {
      "display_name": "Python 3",
      "language": "python",
      "name": "python3"
    },
    "language_info": {
      "codemirror_mode": {
        "name": "ipython",
        "version": 3
      },
      "file_extension": ".py",
      "mimetype": "text/x-python",
      "name": "python",
      "nbconvert_exporter": "python",
      "pygments_lexer": "ipython3",
      "version": "3.6.3"
    },
    "colab": {
      "name": "Mini_Project_Naive_Bayes.ipynb",
      "provenance": [],
      "collapsed_sections": []
    }
  },
  "cells": [
    {
      "cell_type": "markdown",
      "metadata": {
        "id": "xs0BXcUUjjfp",
        "colab_type": "text"
      },
      "source": [
        "# Basic Text Classification with Naive Bayes\n",
        "***\n",
        "In the mini-project, you'll learn the basics of text analysis using a subset of movie reviews from the rotten tomatoes database. You'll also use a fundamental technique in Bayesian inference, called Naive Bayes. This mini-project is based on [Lab 10 of Harvard's CS109](https://github.com/cs109/2015lab10) class.  Please free to go to the original lab for additional exercises and solutions."
      ]
    },
    {
      "cell_type": "code",
      "metadata": {
        "id": "GxsLkk-Qjjfq",
        "colab_type": "code",
        "colab": {}
      },
      "source": [
        "%matplotlib inline\n",
        "import numpy as np\n",
        "import scipy as sp\n",
        "import matplotlib as mpl\n",
        "import matplotlib.cm as cm\n",
        "import matplotlib.pyplot as plt\n",
        "import pandas as pd\n",
        "import seaborn as sns\n",
        "from six.moves import range\n",
        "\n",
        "# Setup Pandas\n",
        "pd.set_option('display.width', 500)\n",
        "pd.set_option('display.max_columns', 100)\n",
        "pd.set_option('display.notebook_repr_html', True)\n",
        "\n",
        "# Setup Seaborn\n",
        "sns.set_style(\"whitegrid\")\n",
        "sns.set_context(\"poster\")"
      ],
      "execution_count": 16,
      "outputs": []
    },
    {
      "cell_type": "markdown",
      "metadata": {
        "id": "4PgG7gWWjjfu",
        "colab_type": "text"
      },
      "source": [
        "# Table of Contents\n",
        "\n",
        "* [Rotten Tomatoes Dataset](#Rotten-Tomatoes-Dataset)\n",
        "    * [Explore](#Explore)\n",
        "* [The Vector Space Model and a Search Engine](#The-Vector-Space-Model-and-a-Search-Engine)\n",
        "    * [In Code](#In-Code)\n",
        "* [Naive Bayes](#Naive-Bayes)\n",
        "    * [Multinomial Naive Bayes and Other Likelihood Functions](#Multinomial-Naive-Bayes-and-Other-Likelihood-Functions)\n",
        "    * [Picking Hyperparameters for Naive Bayes and Text Maintenance](#Picking-Hyperparameters-for-Naive-Bayes-and-Text-Maintenance)\n",
        "* [Interpretation](#Interpretation)\n"
      ]
    },
    {
      "cell_type": "markdown",
      "metadata": {
        "id": "KM2dFZzvjjfu",
        "colab_type": "text"
      },
      "source": [
        "## Rotten Tomatoes Dataset"
      ]
    },
    {
      "cell_type": "code",
      "metadata": {
        "scrolled": true,
        "id": "g2PMMmOyjjfv",
        "colab_type": "code",
        "colab": {
          "base_uri": "https://localhost:8080/",
          "height": 204
        },
        "outputId": "e04d236f-94b2-499e-8f1e-7d503a2a5ec3"
      },
      "source": [
        "critics = pd.read_csv('https://raw.githubusercontent.com/lylayang/Springboard2019/master/Unit_project/naive_bayes/critics.csv')\n",
        "#let's drop rows with missing quotes\n",
        "critics = critics[~critics.quote.isnull()]\n",
        "critics.head()"
      ],
      "execution_count": 17,
      "outputs": [
        {
          "output_type": "execute_result",
          "data": {
            "text/html": [
              "<div>\n",
              "<style scoped>\n",
              "    .dataframe tbody tr th:only-of-type {\n",
              "        vertical-align: middle;\n",
              "    }\n",
              "\n",
              "    .dataframe tbody tr th {\n",
              "        vertical-align: top;\n",
              "    }\n",
              "\n",
              "    .dataframe thead th {\n",
              "        text-align: right;\n",
              "    }\n",
              "</style>\n",
              "<table border=\"1\" class=\"dataframe\">\n",
              "  <thead>\n",
              "    <tr style=\"text-align: right;\">\n",
              "      <th></th>\n",
              "      <th>critic</th>\n",
              "      <th>fresh</th>\n",
              "      <th>imdb</th>\n",
              "      <th>publication</th>\n",
              "      <th>quote</th>\n",
              "      <th>review_date</th>\n",
              "      <th>rtid</th>\n",
              "      <th>title</th>\n",
              "    </tr>\n",
              "  </thead>\n",
              "  <tbody>\n",
              "    <tr>\n",
              "      <th>1</th>\n",
              "      <td>Derek Adams</td>\n",
              "      <td>fresh</td>\n",
              "      <td>114709</td>\n",
              "      <td>Time Out</td>\n",
              "      <td>So ingenious in concept, design and execution ...</td>\n",
              "      <td>2009-10-04</td>\n",
              "      <td>9559</td>\n",
              "      <td>Toy story</td>\n",
              "    </tr>\n",
              "    <tr>\n",
              "      <th>2</th>\n",
              "      <td>Richard Corliss</td>\n",
              "      <td>fresh</td>\n",
              "      <td>114709</td>\n",
              "      <td>TIME Magazine</td>\n",
              "      <td>The year's most inventive comedy.</td>\n",
              "      <td>2008-08-31</td>\n",
              "      <td>9559</td>\n",
              "      <td>Toy story</td>\n",
              "    </tr>\n",
              "    <tr>\n",
              "      <th>3</th>\n",
              "      <td>David Ansen</td>\n",
              "      <td>fresh</td>\n",
              "      <td>114709</td>\n",
              "      <td>Newsweek</td>\n",
              "      <td>A winning animated feature that has something ...</td>\n",
              "      <td>2008-08-18</td>\n",
              "      <td>9559</td>\n",
              "      <td>Toy story</td>\n",
              "    </tr>\n",
              "    <tr>\n",
              "      <th>4</th>\n",
              "      <td>Leonard Klady</td>\n",
              "      <td>fresh</td>\n",
              "      <td>114709</td>\n",
              "      <td>Variety</td>\n",
              "      <td>The film sports a provocative and appealing st...</td>\n",
              "      <td>2008-06-09</td>\n",
              "      <td>9559</td>\n",
              "      <td>Toy story</td>\n",
              "    </tr>\n",
              "    <tr>\n",
              "      <th>5</th>\n",
              "      <td>Jonathan Rosenbaum</td>\n",
              "      <td>fresh</td>\n",
              "      <td>114709</td>\n",
              "      <td>Chicago Reader</td>\n",
              "      <td>An entertaining computer-generated, hyperreali...</td>\n",
              "      <td>2008-03-10</td>\n",
              "      <td>9559</td>\n",
              "      <td>Toy story</td>\n",
              "    </tr>\n",
              "  </tbody>\n",
              "</table>\n",
              "</div>"
            ],
            "text/plain": [
              "               critic  fresh    imdb     publication                                              quote review_date  rtid      title\n",
              "1         Derek Adams  fresh  114709        Time Out  So ingenious in concept, design and execution ...  2009-10-04  9559  Toy story\n",
              "2     Richard Corliss  fresh  114709   TIME Magazine                  The year's most inventive comedy.  2008-08-31  9559  Toy story\n",
              "3         David Ansen  fresh  114709        Newsweek  A winning animated feature that has something ...  2008-08-18  9559  Toy story\n",
              "4       Leonard Klady  fresh  114709         Variety  The film sports a provocative and appealing st...  2008-06-09  9559  Toy story\n",
              "5  Jonathan Rosenbaum  fresh  114709  Chicago Reader  An entertaining computer-generated, hyperreali...  2008-03-10  9559  Toy story"
            ]
          },
          "metadata": {
            "tags": []
          },
          "execution_count": 17
        }
      ]
    },
    {
      "cell_type": "markdown",
      "metadata": {
        "id": "Af-moJrfjjfz",
        "colab_type": "text"
      },
      "source": [
        "### Explore"
      ]
    },
    {
      "cell_type": "code",
      "metadata": {
        "id": "me8EH3jkjjfz",
        "colab_type": "code",
        "colab": {
          "base_uri": "https://localhost:8080/",
          "height": 68
        },
        "outputId": "ad9d38fd-e3d8-4271-f023-a4c9385cf899"
      },
      "source": [
        "n_reviews = len(critics)\n",
        "n_movies = critics.rtid.unique().size\n",
        "n_critics = critics.critic.unique().size\n",
        "\n",
        "\n",
        "print(\"Number of reviews: {:d}\".format(n_reviews))\n",
        "print(\"Number of critics: {:d}\".format(n_critics))\n",
        "print(\"Number of movies:  {:d}\".format(n_movies))"
      ],
      "execution_count": 18,
      "outputs": [
        {
          "output_type": "stream",
          "text": [
            "Number of reviews: 15561\n",
            "Number of critics: 623\n",
            "Number of movies:  1921\n"
          ],
          "name": "stdout"
        }
      ]
    },
    {
      "cell_type": "code",
      "metadata": {
        "id": "raJ_Fb2tjjf2",
        "colab_type": "code",
        "colab": {
          "base_uri": "https://localhost:8080/",
          "height": 312
        },
        "outputId": "136f096d-ede6-46f0-d54b-0350ea3e7f61"
      },
      "source": [
        "df = critics.copy()\n",
        "df['fresh'] = df.fresh == 'fresh'\n",
        "grp = df.groupby('critic')\n",
        "counts = grp.critic.count()  # number of reviews by each critic\n",
        "means = grp.fresh.mean()     # average freshness for each critic\n",
        "\n",
        "means[counts > 100].hist(bins=10, edgecolor='w', lw=1)\n",
        "plt.xlabel(\"Average Rating per critic\")\n",
        "plt.ylabel(\"Number of Critics\")\n",
        "plt.yticks([0, 2, 4, 6, 8, 10]);"
      ],
      "execution_count": 19,
      "outputs": [
        {
          "output_type": "display_data",
          "data": {
            "image/png": "[encoded data removed]",
            "text/plain": [
              "<Figure size 432x288 with 1 Axes>"
            ]
          },
          "metadata": {
            "tags": []
          }
        }
      ]
    },
    {
      "cell_type": "markdown",
      "metadata": {
        "id": "07MYlaIOjjf4",
        "colab_type": "text"
      },
      "source": [
        "<div class=\"span5 alert alert-info\">\n",
        "<h3>Exercise Set I</h3>\n",
        "<br/>\n",
        "<b>Exercise:</b> Look at the histogram above. Tell a story about the average ratings per critic. What shape does the distribution look like? What is interesting about the distribution? What might explain these interesting things?\n",
        "</div>"
      ]
    },
    {
      "cell_type": "markdown",
      "metadata": {
        "id": "nIGOep8Xjjf5",
        "colab_type": "text"
      },
      "source": [
        "<div class=\"span5 alert alert-success\">\n",
        "<b>Answer:</b>\n",
        "    The histogram looks relatively like a normal distribution with high ratings in the middle with each end tapering off with lower numbers. This is good because it indicates that the critics put thought into their ratings instead of giving extreme ratings of very low or very high with little thought or on emotional basis. The distribution looks relatively normal, but it slightly favors the right indicating higher average ratings overall. This could be due to binning bias or just that the critics are more favorable in their ratings positively compared to being negative. Also there's the noticeable low point around 0.55 average rating, which is probably due to binning bias.\n",
        "</div>"
      ]
    },
    {
      "cell_type": "markdown",
      "metadata": {
        "id": "8xSTw7vsjjf5",
        "colab_type": "text"
      },
      "source": [
        "## The Vector Space Model and a Search Engine"
      ]
    },
    {
      "cell_type": "markdown",
      "metadata": {
        "id": "obAJPkX3jjf5",
        "colab_type": "text"
      },
      "source": [
        "All the diagrams here are snipped from [*Introduction to Information Retrieval* by Manning et. al.]( http://nlp.stanford.edu/IR-book/) which is a great resource on text processing. For additional information on text mining and natural language processing, see [*Foundations of Statistical Natural Language Processing* by Manning and Schutze](http://nlp.stanford.edu/fsnlp/).\n",
        "\n",
        "Also check out Python packages [`nltk`](http://www.nltk.org/), [`spaCy`](https://spacy.io/), [`pattern`](http://www.clips.ua.ac.be/pattern), and their associated resources. Also see [`word2vec`](https://en.wikipedia.org/wiki/Word2vec).\n",
        "\n",
        "Let us define the vector derived from document $d$ by $\\bar V(d)$. What does this mean? Each document is treated as a vector containing information about the words contained in it. Each vector has the same length and each entry \"slot\" in the vector contains some kind of data about the words that appear in the document such as presence/absence (1/0), count (an integer) or some other statistic. Each vector has the same length because each document shared the same vocabulary across the full collection of documents -- this collection is called a *corpus*.\n",
        "\n",
        "To define the vocabulary, we take a union of all words we have seen in all documents. We then just associate an array index with them. So \"hello\" may be at index 5 and \"world\" at index 99.\n",
        "\n",
        "Suppose we have the following corpus:\n",
        "\n",
        "`A Fox one day spied a beautiful bunch of ripe grapes hanging from a vine trained along the branches of a tree. The grapes seemed ready to burst with juice, and the Fox's mouth watered as he gazed longingly at them.`\n",
        "\n",
        "Suppose we treat each sentence as a document $d$. The vocabulary (often called the *lexicon*) is the following:\n",
        "\n",
        "$V = \\left\\{\\right.$ `a, along, and, as, at, beautiful, branches, bunch, burst, day, fox, fox's, from, gazed, grapes, hanging, he, juice, longingly, mouth, of, one, ready, ripe, seemed, spied, the, them, to, trained, tree, vine, watered, with`$\\left.\\right\\}$\n",
        "\n",
        "Then the document\n",
        "\n",
        "`A Fox one day spied a beautiful bunch of ripe grapes hanging from a vine trained along the branches of a tree`\n",
        "\n",
        "may be represented as the following sparse vector of word counts:\n",
        "\n",
        "$$\\bar V(d) = \\left( 4,1,0,0,0,1,1,1,0,1,1,0,1,0,1,1,0,0,0,0,2,1,0,1,0,0,1,0,0,1,1,1,0,0 \\right)$$\n",
        "\n",
        "or more succinctly as\n",
        "\n",
        "`[(0, 4), (1, 1), (5, 1), (6, 1), (7, 1), (9, 1), (10, 1), (12, 1), (14, 1), (15, 1), (20, 2), (21, 1), (23, 1),`\n",
        "`(26, 1), (29,1), (30, 1), (31, 1)]`\n",
        "\n",
        "along with a dictionary\n",
        "\n",
        "``\n",
        "{\n",
        "    0: a, 1: along, 5: beautiful, 6: branches, 7: bunch, 9: day, 10: fox, 12: from, 14: grapes, 15: hanging, 19: mouth, 20: of, 21: one, 23: ripe, 24: seemed, 25: spied, 26: the, 29:trained, 30: tree, 31: vine, \n",
        "}\n",
        "``\n",
        "\n",
        "Then, a set of documents becomes, in the usual `sklearn` style, a sparse matrix with rows being sparse arrays representing documents and columns representing the features/words in the vocabulary.\n",
        "\n",
        "Notice that this representation loses the relative ordering of the terms in the document. That is \"cat ate rat\" and \"rat ate cat\" are the same. Thus, this representation is also known as the Bag-Of-Words representation.\n",
        "\n",
        "Here is another example, from the book quoted above, although the matrix is transposed here so that documents are columns:\n",
        "\n",
        "![novel terms](terms.png)\n",
        "\n",
        "Such a matrix is also catted a Term-Document Matrix. Here, the terms being indexed could be stemmed before indexing; for instance, `jealous` and `jealousy` after stemming are the same feature. One could also make use of other \"Natural Language Processing\" transformations in constructing the vocabulary. We could use Lemmatization, which reduces words to lemmas: work, working, worked would all reduce to work. We could remove \"stopwords\" from our vocabulary, such as common words like \"the\". We could look for particular parts of speech, such as adjectives. This is often done in Sentiment Analysis. And so on. It all depends on our application.\n",
        "\n",
        "From the book:\n",
        ">The standard way of quantifying the similarity between two documents $d_1$ and $d_2$  is to compute the cosine similarity of their vector representations $\\bar V(d_1)$ and $\\bar V(d_2)$:\n",
        "\n",
        "$$S_{12} = \\frac{\\bar V(d_1) \\cdot \\bar V(d_2)}{|\\bar V(d_1)| \\times |\\bar V(d_2)|}$$\n",
        "\n",
        "![Vector Space Model](vsm.png)\n",
        "\n",
        "\n",
        ">There is a far more compelling reason to represent documents as vectors: we can also view a query as a vector. Consider the query q = jealous gossip. This query turns into the unit vector $\\bar V(q)$ = (0, 0.707, 0.707) on the three coordinates below. \n",
        "\n",
        "![novel terms](terms2.png)\n",
        "\n",
        ">The key idea now: to assign to each document d a score equal to the dot product:\n",
        "\n",
        "$$\\bar V(q) \\cdot \\bar V(d)$$\n",
        "\n",
        "Then we can use this simple Vector Model as a Search engine."
      ]
    },
    {
      "cell_type": "markdown",
      "metadata": {
        "id": "qQyuLQwhjjf6",
        "colab_type": "text"
      },
      "source": [
        "### In Code"
      ]
    },
    {
      "cell_type": "code",
      "metadata": {
        "id": "HFkbPW0Jjjf6",
        "colab_type": "code",
        "colab": {
          "base_uri": "https://localhost:8080/",
          "height": 221
        },
        "outputId": "8b42e818-2ed3-4038-e193-e8ab32c1c619"
      },
      "source": [
        "from sklearn.feature_extraction.text import CountVectorizer\n",
        "\n",
        "text = ['Hop on pop', 'Hop off pop', 'Hop Hop hop']\n",
        "print(\"Original text is\\n{}\".format('\\n'.join(text)))\n",
        "\n",
        "vectorizer = CountVectorizer(min_df=0)\n",
        "\n",
        "# call `fit` to build the vocabulary\n",
        "vectorizer.fit(text)\n",
        "\n",
        "# call `transform` to convert text to a bag of words\n",
        "x = vectorizer.transform(text)\n",
        "\n",
        "# CountVectorizer uses a sparse array to save memory, but it's easier in this assignment to \n",
        "# convert back to a \"normal\" numpy array\n",
        "x = x.toarray()\n",
        "\n",
        "print(\"\")\n",
        "print(\"Transformed text vector is \\n{}\".format(x))\n",
        "\n",
        "# `get_feature_names` tracks which word is associated with each column of the transformed x\n",
        "print(\"\")\n",
        "print(\"Words for each feature:\")\n",
        "print(vectorizer.get_feature_names())\n",
        "\n",
        "# Notice that the bag of words treatment doesn't preserve information about the *order* of words, \n",
        "# just their frequency"
      ],
      "execution_count": 20,
      "outputs": [
        {
          "output_type": "stream",
          "text": [
            "Original text is\n",
            "Hop on pop\n",
            "Hop off pop\n",
            "Hop Hop hop\n",
            "\n",
            "Transformed text vector is \n",
            "[[1 0 1 1]\n",
            " [1 1 0 1]\n",
            " [3 0 0 0]]\n",
            "\n",
            "Words for each feature:\n",
            "['hop', 'off', 'on', 'pop']\n"
          ],
          "name": "stdout"
        }
      ]
    },
    {
      "cell_type": "code",
      "metadata": {
        "id": "pgSYaHagjjf9",
        "colab_type": "code",
        "colab": {}
      },
      "source": [
        "def make_xy(critics, vectorizer=None):\n",
        "    #Your code here    \n",
        "    if vectorizer is None:\n",
        "        vectorizer = CountVectorizer()\n",
        "    X = vectorizer.fit_transform(critics.quote)\n",
        "    X = X.tocsc()  # some versions of sklearn return COO format\n",
        "    y = (critics.fresh == 'fresh').values.astype(np.int)\n",
        "    return X, y\n",
        "X, y = make_xy(critics)"
      ],
      "execution_count": 21,
      "outputs": []
    },
    {
      "cell_type": "markdown",
      "metadata": {
        "id": "cfXTjBdwjjf_",
        "colab_type": "text"
      },
      "source": [
        "## Naive Bayes"
      ]
    },
    {
      "cell_type": "markdown",
      "metadata": {
        "id": "sJXE_hLijjf_",
        "colab_type": "text"
      },
      "source": [
        "From Bayes' Theorem, we have that\n",
        "\n",
        "$$P(c \\vert f) = \\frac{P(c \\cap f)}{P(f)}$$\n",
        "\n",
        "where $c$ represents a *class* or category, and $f$ represents a feature vector, such as $\\bar V(d)$ as above. **We are computing the probability that a document (or whatever we are classifying) belongs to category *c* given the features in the document.** $P(f)$ is really just a normalization constant, so the literature usually writes Bayes' Theorem in context of Naive Bayes as\n",
        "\n",
        "$$P(c \\vert f) \\propto P(f \\vert c) P(c) $$\n",
        "\n",
        "$P(c)$ is called the *prior* and is simply the probability of seeing class $c$. But what is $P(f \\vert c)$? This is the probability that we see feature set $f$ given that this document is actually in class $c$. This is called the *likelihood* and comes from the data. One of the major assumptions of the Naive Bayes model is that the features are *conditionally independent* given the class. While the presence of a particular discriminative word may uniquely identify the document as being part of class $c$ and thus violate general feature independence, conditional independence means that the presence of that term is independent of all the other words that appear *within that class*. This is a very important distinction. Recall that if two events are independent, then:\n",
        "\n",
        "$$P(A \\cap B) = P(A) \\cdot P(B)$$\n",
        "\n",
        "Thus, conditional independence implies\n",
        "\n",
        "$$P(f \\vert c)  = \\prod_i P(f_i | c) $$\n",
        "\n",
        "where $f_i$ is an individual feature (a word in this example).\n",
        "\n",
        "To make a classification, we then choose the class $c$ such that $P(c \\vert f)$ is maximal.\n",
        "\n",
        "There is a small caveat when computing these probabilities. For [floating point underflow](http://nlp.stanford.edu/IR-book/html/htmledition/naive-bayes-text-classification-1.html) we change the product into a sum by going into log space. This is called the LogSumExp trick. So:\n",
        "\n",
        "$$\\log P(f \\vert c)  = \\sum_i \\log P(f_i \\vert c) $$\n",
        "\n",
        "There is another caveat. What if we see a term that didn't exist in the training data? This means that $P(f_i \\vert c) = 0$ for that term, and thus $P(f \\vert c)  = \\prod_i P(f_i | c) = 0$, which doesn't help us at all. Instead of using zeros, we add a small negligible value called $\\alpha$ to each count. This is called Laplace Smoothing.\n",
        "\n",
        "$$P(f_i \\vert c) = \\frac{N_{ic}+\\alpha}{N_c + \\alpha N_i}$$\n",
        "\n",
        "where $N_{ic}$ is the number of times feature $i$ was seen in class $c$, $N_c$ is the number of times class $c$ was seen and $N_i$ is the number of times feature $i$ was seen globally. $\\alpha$ is sometimes called a regularization parameter."
      ]
    },
    {
      "cell_type": "markdown",
      "metadata": {
        "id": "y813d0FIjjgA",
        "colab_type": "text"
      },
      "source": [
        "### Multinomial Naive Bayes and Other Likelihood Functions\n",
        "\n",
        "Since we are modeling word counts, we are using variation of Naive Bayes called Multinomial Naive Bayes. This is because the likelihood function actually takes the form of the multinomial distribution.\n",
        "\n",
        "$$P(f \\vert c) = \\frac{\\left( \\sum_i f_i \\right)!}{\\prod_i f_i!} \\prod_{f_i} P(f_i \\vert c)^{f_i} \\propto \\prod_{i} P(f_i \\vert c)$$\n",
        "\n",
        "where the nasty term out front is absorbed as a normalization constant such that probabilities sum to 1.\n",
        "\n",
        "There are many other variations of Naive Bayes, all which depend on what type of value $f_i$ takes. If $f_i$ is continuous, we may be able to use *Gaussian Naive Bayes*. First compute the mean and variance for each class $c$. Then the likelihood, $P(f \\vert c)$ is given as follows\n",
        "\n",
        "$$P(f_i = v \\vert c) = \\frac{1}{\\sqrt{2\\pi \\sigma^2_c}} e^{- \\frac{\\left( v - \\mu_c \\right)^2}{2 \\sigma^2_c}}$$"
      ]
    },
    {
      "cell_type": "markdown",
      "metadata": {
        "id": "fYir0NSRjjgA",
        "colab_type": "text"
      },
      "source": [
        "<div class=\"span5 alert alert-info\">\n",
        "<h3>Exercise Set II</h3>\n",
        "\n",
        "<p><b>Exercise:</b> Implement a simple Naive Bayes classifier:</p>\n",
        "\n",
        "<ol>\n",
        "<li> split the data set into a training and test set\n",
        "<li> Use `scikit-learn`'s `MultinomialNB()` classifier with default parameters.\n",
        "<li> train the classifier over the training set and test on the test set\n",
        "<li> print the accuracy scores for both the training and the test sets\n",
        "</ol>\n",
        "\n",
        "What do you notice? Is this a good classifier? If not, why not?\n",
        "</div>"
      ]
    },
    {
      "cell_type": "code",
      "metadata": {
        "id": "RieCL6acjjgB",
        "colab_type": "code",
        "colab": {
          "base_uri": "https://localhost:8080/",
          "height": 51
        },
        "outputId": "81116008-af16-41b3-99ce-3773603ebf66"
      },
      "source": [
        "from sklearn.naive_bayes import MultinomialNB\n",
        "from sklearn.model_selection import train_test_split\n",
        "\n",
        "X_train, X_test, y_train, y_test = train_test_split(X, y, test_size = 0.3, random_state=42)\n",
        "m_nb = MultinomialNB()\n",
        "m_nb.fit(X_train, y_train)\n",
        "mnb_train_score = m_nb.score(X_train, y_train)\n",
        "mnb_test_score = m_nb.score(X_test, y_test)\n",
        "\n",
        "print('Accuracy score for training set: %.4f' % mnb_train_score)\n",
        "print('Accuracy score for test set: %.4f' % mnb_test_score)"
      ],
      "execution_count": 22,
      "outputs": [
        {
          "output_type": "stream",
          "text": [
            "Accuracy score for training set: 0.9233\n",
            "Accuracy score for test set: 0.7783\n"
          ],
          "name": "stdout"
        }
      ]
    },
    {
      "cell_type": "markdown",
      "metadata": {
        "id": "iMONrEpzjjgD",
        "colab_type": "text"
      },
      "source": [
        "> Obviously, the accuracy score for the train set is high due to overfitting since the model was fitted for it. However, the accuracy score for the test set reveals a score of 77.83% accuracy, which could be good or bad depending on how other classifiers perform."
      ]
    },
    {
      "cell_type": "markdown",
      "metadata": {
        "id": "EKqd1-RnjjgD",
        "colab_type": "text"
      },
      "source": [
        "### Picking Hyperparameters for Naive Bayes and Text Maintenance"
      ]
    },
    {
      "cell_type": "markdown",
      "metadata": {
        "id": "0Igi3SQ9jjgD",
        "colab_type": "text"
      },
      "source": [
        "We need to know what value to use for $\\alpha$, and we also need to know which words to include in the vocabulary. As mentioned earlier, some words are obvious stopwords. Other words appear so infrequently that they serve as noise, and other words in addition to stopwords appear so frequently that they may also serve as noise."
      ]
    },
    {
      "cell_type": "markdown",
      "metadata": {
        "id": "v4c4PEAejjgE",
        "colab_type": "text"
      },
      "source": [
        "First, let's find an appropriate value for `min_df` for the `CountVectorizer`. `min_df` can be either an integer or a float/decimal. If it is an integer, `min_df` represents the minimum number of documents a word must appear in for it to be included in the vocabulary. If it is a float, it represents the minimum *percentage* of documents a word must appear in to be included in the vocabulary. From the documentation:"
      ]
    },
    {
      "cell_type": "markdown",
      "metadata": {
        "id": "f2wUNhXujjgE",
        "colab_type": "text"
      },
      "source": [
        ">min_df: When building the vocabulary ignore terms that have a document frequency strictly lower than the given threshold. This value is also called cut-off in the literature. If float, the parameter represents a proportion of documents, integer absolute counts. This parameter is ignored if vocabulary is not None."
      ]
    },
    {
      "cell_type": "markdown",
      "metadata": {
        "id": "TJenWvA-jjgG",
        "colab_type": "text"
      },
      "source": [
        "<div class=\"span5 alert alert-info\">\n",
        "<h3>Exercise Set III</h3>\n",
        "\n",
        "<p><b>Exercise:</b> Construct the cumulative distribution of document frequencies (df). The $x$-axis is a document count $x_i$ and the $y$-axis is the percentage of words that appear less than $x_i$ times. For example, at $x=5$, plot a point representing the percentage or number of words that appear in 5 or fewer documents.</p>\n",
        "\n",
        "<p><b>Exercise:</b> Look for the point at which the curve begins climbing steeply. This may be a good value for `min_df`. If we were interested in also picking `max_df`, we would likely pick the value where the curve starts to plateau. What value did you choose?</p>\n",
        "</div>"
      ]
    },
    {
      "cell_type": "code",
      "metadata": {
        "scrolled": false,
        "id": "TD2YrL8DjjgG",
        "colab_type": "code",
        "colab": {}
      },
      "source": [
        "docf = sp.sparse.coo_matrix(X)\n",
        "X = X.nonzero()"
      ],
      "execution_count": 23,
      "outputs": []
    },
    {
      "cell_type": "code",
      "metadata": {
        "scrolled": true,
        "id": "KcqQgKQ7jjgJ",
        "colab_type": "code",
        "colab": {}
      },
      "source": [
        "unique, counts = np.unique(X[0], return_counts=True)\n",
        "docf_d = dict(zip(unique, counts))"
      ],
      "execution_count": 24,
      "outputs": []
    },
    {
      "cell_type": "code",
      "metadata": {
        "id": "RIv8OtSOjjgL",
        "colab_type": "code",
        "colab": {}
      },
      "source": [
        "def ecdf(data):\n",
        "    \"\"\"Compute ECDF for a one-dimensional array of measurements.\"\"\"\n",
        "    \n",
        "    # Number of data points: n\n",
        "    n = len(data)\n",
        "    \n",
        "    # x-data for the ECDF: x\n",
        "    x = np.sort(data)\n",
        "    \n",
        "    # y-data for the ECDF: y\n",
        "    y = np.arange(1, n+1) / n\n",
        "    \n",
        "    return x, y"
      ],
      "execution_count": 25,
      "outputs": []
    },
    {
      "cell_type": "code",
      "metadata": {
        "scrolled": true,
        "id": "a3ZgcP3OjjgN",
        "colab_type": "code",
        "colab": {
          "base_uri": "https://localhost:8080/",
          "height": 319
        },
        "outputId": "db27596c-7ef2-400d-d97f-6f6a95ceb40f"
      },
      "source": [
        "doc_list = list(docf_d.values())\n",
        "x_word, y_word = ecdf(doc_list)\n",
        "\n",
        "_ = plt.plot(x_word, y_word, marker='.', linestyle='none')\n",
        "#_ = plt.xlim(-5,50)\n",
        "_ = plt.xlabel('Document Count', fontsize=12)\n",
        "_ = plt.ylabel('% of Words < Document Count', fontsize=12)\n",
        "_ = plt.title('Document Frequency', fontsize=16)\n",
        "\n",
        "# Display the plot\n",
        "plt.show()"
      ],
      "execution_count": 26,
      "outputs": [
        {
          "output_type": "display_data",
          "data": {
            "image/png": "[encoded data removed]",
            "text/plain": [
              "<Figure size 432x288 with 1 Axes>"
            ]
          },
          "metadata": {
            "tags": []
          }
        }
      ]
    },
    {
      "cell_type": "code",
      "metadata": {
        "id": "J6WnwWQlmaAm",
        "colab_type": "code",
        "colab": {
          "base_uri": "https://localhost:8080/",
          "height": 312
        },
        "outputId": "e65d2db5-7166-43eb-e2f6-5270c4fab0e7"
      },
      "source": [
        "# Your turn.\n",
        "import numpy as np\n",
        "X, y = make_xy(critics)\n",
        "#calculating df\n",
        "df = np.sum(X>0,axis=0)\n",
        "\n",
        "#making the CDF plot\n",
        "sorted_df = np.sort(df).reshape(-1,1)\n",
        "\n",
        "yvals=np.arange(len(sorted_df))/float(len(sorted_df)-1)\n",
        "\n",
        "plt.plot(sorted_df,yvals)\n",
        "#limit the x range for the plot\n",
        "plt.xlim([0,50])\n",
        "plt.xlabel('document frequencies (times)')\n",
        "plt.ylabel('CDF')\n",
        "\n",
        "plt.show()"
      ],
      "execution_count": 43,
      "outputs": [
        {
          "output_type": "display_data",
          "data": {
            "image/png": "[encoded data removed]",
            "text/plain": [
              "<Figure size 432x288 with 1 Axes>"
            ]
          },
          "metadata": {
            "tags": []
          }
        }
      ]
    },
    {
      "cell_type": "markdown",
      "metadata": {
        "id": "-Kom6s74jjgP",
        "colab_type": "text"
      },
      "source": [
        "**My Answer:**\n",
        "\n",
        "Curve climbs steeply close to 0 document count and plateaus around 30. \n",
        "So the min_df and max_df would be chosen around those values respectively."
      ]
    },
    {
      "cell_type": "markdown",
      "metadata": {
        "id": "NFASyrRijjgQ",
        "colab_type": "text"
      },
      "source": [
        "The parameter $\\alpha$ is chosen to be a small value that simply avoids having zeros in the probability computations. This value can sometimes be chosen arbitrarily with domain expertise, but we will use K-fold cross validation. In K-fold cross-validation, we divide the data into $K$ non-overlapping parts. We train on $K-1$ of the folds and test on the remaining fold. We then iterate, so that each fold serves as the test fold exactly once. The function `cv_score` performs the K-fold cross-validation algorithm for us, but we need to pass a function that measures the performance of the algorithm on each fold. "
      ]
    },
    {
      "cell_type": "code",
      "metadata": {
        "id": "zuQTdpJ_jjgQ",
        "colab_type": "code",
        "colab": {}
      },
      "source": [
        "from sklearn.model_selection import KFold\n",
        "def cv_score(clf, X, y, scorefunc):\n",
        "    result = 0.\n",
        "    nfold = 5\n",
        "    for train, test in KFold(nfold).split(X): # split data into train/test groups, 5 times\n",
        "        clf.fit(X[train], y[train]) # fit the classifier, passed is as clf.\n",
        "        result += scorefunc(clf, X[test], y[test]) # evaluate score function on held-out data\n",
        "    return result / nfold # average"
      ],
      "execution_count": 44,
      "outputs": []
    },
    {
      "cell_type": "markdown",
      "metadata": {
        "id": "FYKUTjghjjgS",
        "colab_type": "text"
      },
      "source": [
        "We use the log-likelihood as the score here in `scorefunc`. The higher the log-likelihood, the better. Indeed, what we do in `cv_score` above is to implement the cross-validation part of `GridSearchCV`.\n",
        "\n",
        "The custom scoring function `scorefunc` allows us to use different metrics depending on the decision risk we care about (precision, accuracy, profit etc.) directly on the validation set. You will often find people using `roc_auc`, precision, recall, or `F1-score` as the scoring function."
      ]
    },
    {
      "cell_type": "code",
      "metadata": {
        "id": "CEYzfczDjjgT",
        "colab_type": "code",
        "colab": {}
      },
      "source": [
        "def log_likelihood(clf, x, y):\n",
        "    prob = clf.predict_log_proba(x)\n",
        "    rotten = y == 0\n",
        "    fresh = ~rotten\n",
        "    return prob[rotten, 0].sum() + prob[fresh, 1].sum()"
      ],
      "execution_count": 45,
      "outputs": []
    },
    {
      "cell_type": "markdown",
      "metadata": {
        "id": "WgzmA2E3jjgV",
        "colab_type": "text"
      },
      "source": [
        "We'll cross-validate over the regularization parameter $\\alpha$."
      ]
    },
    {
      "cell_type": "markdown",
      "metadata": {
        "id": "TVCdRKX-jjgV",
        "colab_type": "text"
      },
      "source": [
        "Let's set up the train and test masks first, and then we can run the cross-validation procedure."
      ]
    },
    {
      "cell_type": "code",
      "metadata": {
        "id": "ibbi-T6ajjgW",
        "colab_type": "code",
        "colab": {}
      },
      "source": [
        "from sklearn.model_selection import train_test_split\n",
        "_, itest = train_test_split(range(critics.shape[0]), train_size=0.7)\n",
        "mask = np.zeros(critics.shape[0], dtype=np.bool)\n",
        "mask[itest] = True"
      ],
      "execution_count": 46,
      "outputs": []
    },
    {
      "cell_type": "markdown",
      "metadata": {
        "id": "elI1yLWkjjgX",
        "colab_type": "text"
      },
      "source": [
        "<div class=\"alert alert-info\">\n",
        "<h3>Exercise Set IV</h3>\n",
        "\n",
        "<p><b>Exercise:</b> What does using the function `log_likelihood` as the score mean? What are we trying to optimize for?</p>\n",
        "\n",
        "<p><b>Exercise:</b> Without writing any code, what do you think would happen if you choose a value of $\\alpha$ that is too high?</p>\n",
        "\n",
        "<p><b>Exercise:</b> Using the skeleton code below, find the best values of the parameter `alpha`, and use the value of `min_df` you chose in the previous exercise set. Use the `cv_score` function above with the `log_likelihood` function for scoring.</p>\n",
        "</div>"
      ]
    },
    {
      "cell_type": "markdown",
      "metadata": {
        "id": "0-q0hmA3jjgY",
        "colab_type": "text"
      },
      "source": [
        "<div class=\"alert alert-success\">\n",
        "\n",
        "<p><b>Answer:</b> Using `log_likelihood` takes the log of probability estimate of the instance being in each of the classes. According to the equation, we are trying to optimize for higher predictiveness on freshness and rottenness.</p>\n",
        "\n",
        "<p><b>Answer:</b> If $\\alpha$ is too high, error will be higher and log score will be low.</p>\n",
        "\n",
        "</div>"
      ]
    },
    {
      "cell_type": "code",
      "metadata": {
        "id": "9QxmoEy4jjgY",
        "colab_type": "code",
        "colab": {}
      },
      "source": [
        "from sklearn.naive_bayes import MultinomialNB\n",
        "\n",
        "#the grid of parameters to search over\n",
        "alphas = [.1, 1, 5, 10, 50]\n",
        "min_dfs = [1e-5, 1e-4, 1e-3, 1e-2, 1e-1]\n",
        "\n",
        "#Find the best value for alpha and min_df, and the best classifier\n",
        "best_alpha = None\n",
        "best_min_df = None\n",
        "maxscore=-np.inf\n",
        "\n",
        "for alpha in alphas:\n",
        "    for min_df in min_dfs:\n",
        "        vectorizer = CountVectorizer(min_df=min_df)       \n",
        "        Xthis, ythis = make_xy(critics, vectorizer)\n",
        "        Xtrainthis = Xthis[mask]\n",
        "        ytrainthis = ythis[mask]\n",
        "        \n",
        "        clf = MultinomialNB(alpha=alpha)\n",
        "        cvscore = cv_score(clf, Xtrainthis, ytrainthis, log_likelihood)\n",
        "\n",
        "        if cvscore > maxscore:\n",
        "            maxscore = cvscore\n",
        "            best_alpha, best_min_df = alpha, min_df"
      ],
      "execution_count": 47,
      "outputs": []
    },
    {
      "cell_type": "code",
      "metadata": {
        "id": "FFaUkf80jjga",
        "colab_type": "code",
        "colab": {
          "base_uri": "https://localhost:8080/",
          "height": 51
        },
        "outputId": "51d46d68-7015-4ce8-c1a8-05cce9b61796"
      },
      "source": [
        "print(\"alpha: {}\".format(best_alpha))\n",
        "print(\"min_df: {}\".format(best_min_df))"
      ],
      "execution_count": 48,
      "outputs": [
        {
          "output_type": "stream",
          "text": [
            "alpha: 5\n",
            "min_df: 0.001\n"
          ],
          "name": "stdout"
        }
      ]
    },
    {
      "cell_type": "markdown",
      "metadata": {
        "id": "U6GMvTthjjgc",
        "colab_type": "text"
      },
      "source": [
        "<div class=\"alert alert-info\">\n",
        "<h3>Exercise Set V: Working with the Best Parameters</h3>\n",
        "\n",
        "<p><b>Exercise:</b> Using the best value of  `alpha` you just found, calculate the accuracy on the training and test sets. Is this classifier better? Why (not)?</p>\n",
        "\n",
        "</div>"
      ]
    },
    {
      "cell_type": "code",
      "metadata": {
        "scrolled": true,
        "id": "Ac9Oz386jjgc",
        "colab_type": "code",
        "colab": {
          "base_uri": "https://localhost:8080/",
          "height": 51
        },
        "outputId": "1771243c-dab2-47c9-baaf-131e8feef786"
      },
      "source": [
        "vectorizer = CountVectorizer(min_df=best_min_df)\n",
        "X, y = make_xy(critics, vectorizer)\n",
        "xtrain=X[mask]\n",
        "ytrain=y[mask]\n",
        "xtest=X[~mask]\n",
        "ytest=y[~mask]\n",
        "\n",
        "clf = MultinomialNB(alpha=best_alpha).fit(xtrain, ytrain)\n",
        "\n",
        "#your turn. Print the accuracy on the test and training dataset\n",
        "training_accuracy = clf.score(xtrain, ytrain)\n",
        "test_accuracy = clf.score(xtest, ytest)\n",
        "\n",
        "print(\"Accuracy on training data: {:2f}\".format(training_accuracy))\n",
        "print(\"Accuracy on test data:     {:2f}\".format(test_accuracy))"
      ],
      "execution_count": 49,
      "outputs": [
        {
          "output_type": "stream",
          "text": [
            "Accuracy on training data: 0.799529\n",
            "Accuracy on test data:     0.716214\n"
          ],
          "name": "stdout"
        }
      ]
    },
    {
      "cell_type": "markdown",
      "metadata": {
        "id": "B2qOLhG5jjgd",
        "colab_type": "text"
      },
      "source": [
        "> Accuracy on test data went down, but so did the training data, which indicates the model is not overfit. Classifier is not better according to our test data, but since it is not overfit to the training data, it may perform better generally to new data. However, this would need to be tested."
      ]
    },
    {
      "cell_type": "code",
      "metadata": {
        "id": "xh1RaIqHjjge",
        "colab_type": "code",
        "colab": {
          "base_uri": "https://localhost:8080/",
          "height": 51
        },
        "outputId": "d9291adb-26c4-4c7f-a0c7-297b0d47f688"
      },
      "source": [
        "from sklearn.metrics import confusion_matrix\n",
        "print(confusion_matrix(ytest, clf.predict(xtest)))"
      ],
      "execution_count": 50,
      "outputs": [
        {
          "output_type": "stream",
          "text": [
            "[[2044 2207]\n",
            " [ 884 5757]]\n"
          ],
          "name": "stdout"
        }
      ]
    },
    {
      "cell_type": "markdown",
      "metadata": {
        "id": "1IoSIX1Ejjgf",
        "colab_type": "text"
      },
      "source": [
        "## Interpretation"
      ]
    },
    {
      "cell_type": "markdown",
      "metadata": {
        "id": "y49SUurcjjgg",
        "colab_type": "text"
      },
      "source": [
        "### What are the strongly predictive features?\n",
        "\n",
        "We use a neat trick to identify strongly predictive features (i.e. words). \n",
        "\n",
        "* first, create a data set such that each row has exactly one feature. This is represented by the identity matrix.\n",
        "* use the trained classifier to make predictions on this matrix\n",
        "* sort the rows by predicted probabilities, and pick the top and bottom $K$ rows"
      ]
    },
    {
      "cell_type": "code",
      "metadata": {
        "id": "Wh_9JgjQjjgh",
        "colab_type": "code",
        "colab": {
          "base_uri": "https://localhost:8080/",
          "height": 391
        },
        "outputId": "87981962-7fe3-4986-f62a-a08ac0c2cbe2"
      },
      "source": [
        "words = np.array(vectorizer.get_feature_names())\n",
        "\n",
        "x = np.eye(xtest.shape[1])\n",
        "probs = clf.predict_log_proba(x)[:, 0]\n",
        "ind = np.argsort(probs)\n",
        "\n",
        "good_words = words[ind[:10]]\n",
        "bad_words = words[ind[-10:]]\n",
        "\n",
        "good_prob = probs[ind[:10]]\n",
        "bad_prob = probs[ind[-10:]]\n",
        "\n",
        "print(\"Good words\\t     P(fresh | word)\")\n",
        "for w, p in zip(good_words, good_prob):\n",
        "    print(\"{:>20}\".format(w), \"{:.2f}\".format(1 - np.exp(p)))\n",
        "    \n",
        "print(\"Bad words\\t     P(fresh | word)\")\n",
        "for w, p in zip(bad_words, bad_prob):\n",
        "    print(\"{:>20}\".format(w), \"{:.2f}\".format(1 - np.exp(p)))"
      ],
      "execution_count": 51,
      "outputs": [
        {
          "output_type": "stream",
          "text": [
            "Good words\t     P(fresh | word)\n",
            "             perfect 0.87\n",
            "            american 0.84\n",
            "            touching 0.84\n",
            "            pleasure 0.84\n",
            "        entertaining 0.84\n",
            "           hilarious 0.84\n",
            "               smart 0.83\n",
            "            powerful 0.83\n",
            "         intelligent 0.83\n",
            "           enjoyable 0.82\n",
            "Bad words\t     P(fresh | word)\n",
            "               worst 0.29\n",
            "               bland 0.29\n",
            "           formulaic 0.29\n",
            "               chase 0.28\n",
            "                lame 0.28\n",
            "                 nor 0.27\n",
            "       disappointing 0.27\n",
            "                dull 0.26\n",
            "                care 0.26\n",
            "               fails 0.25\n"
          ],
          "name": "stdout"
        }
      ]
    },
    {
      "cell_type": "markdown",
      "metadata": {
        "id": "lQ3yPC5djjgi",
        "colab_type": "text"
      },
      "source": [
        "<div class=\"alert alert-info\">\n",
        "<h3>Exercise Set VI</h3>\n",
        "\n",
        "<p><b>Exercise:</b> Why does this method work? What does the probability for each row in the identity matrix represent</p>\n",
        "\n",
        "</div>"
      ]
    },
    {
      "cell_type": "markdown",
      "metadata": {
        "id": "nqmmQSLWjjgj",
        "colab_type": "text"
      },
      "source": [
        "<div class=\"alert alert-success\">\n",
        "\n",
        "<p><b>Answer:</b> The predict log proba and and sorting sets the words in order of probability of freshness to rottenness.</p>\n",
        "\n",
        "</div>"
      ]
    },
    {
      "cell_type": "markdown",
      "metadata": {
        "id": "bcTiTpqAjjgj",
        "colab_type": "text"
      },
      "source": [
        "The above exercise is an example of *feature selection*. There are many other feature selection methods. A list of feature selection methods available in `sklearn` is [here](http://scikit-learn.org/stable/modules/classes.html#module-sklearn.feature_selection). The most common feature selection technique for text mining is the chi-squared $\\left( \\chi^2 \\right)$ [method](http://nlp.stanford.edu/IR-book/html/htmledition/feature-selectionchi2-feature-selection-1.html)."
      ]
    },
    {
      "cell_type": "markdown",
      "metadata": {
        "id": "renmYhr7jjgj",
        "colab_type": "text"
      },
      "source": [
        "### Prediction Errors\n",
        "\n",
        "We can see mis-predictions as well."
      ]
    },
    {
      "cell_type": "code",
      "metadata": {
        "id": "AIQOdQaCjjgk",
        "colab_type": "code",
        "colab": {
          "base_uri": "https://localhost:8080/",
          "height": 445
        },
        "outputId": "dd456111-1fa7-442c-c67b-496636690f98"
      },
      "source": [
        "x, y = make_xy(critics, vectorizer)\n",
        "\n",
        "prob = clf.predict_proba(x)[:, 0]\n",
        "predict = clf.predict(x)\n",
        "\n",
        "bad_rotten = np.argsort(prob[y == 0])[:5]\n",
        "bad_fresh = np.argsort(prob[y == 1])[-5:]\n",
        "\n",
        "print(\"Mis-predicted Rotten quotes\")\n",
        "print('---------------------------')\n",
        "for row in bad_rotten:\n",
        "    print(critics[y == 0].quote.iloc[row])\n",
        "    print(\"\")\n",
        "\n",
        "print(\"Mis-predicted Fresh quotes\")\n",
        "print('--------------------------')\n",
        "for row in bad_fresh:\n",
        "    print(critics[y == 1].quote.iloc[row])\n",
        "    print(\"\")"
      ],
      "execution_count": 52,
      "outputs": [
        {
          "output_type": "stream",
          "text": [
            "Mis-predicted Rotten quotes\n",
            "---------------------------\n",
            "It survives today only as an unusually pure example of a typical 50s art-film strategy: the attempt to make the most modern and most popular of art forms acceptable to the intelligentsia by forcing it into an arcane, antique mold.\n",
            "\n",
            "Nava, who started his feature-film career with El Norte, is a good director who invariably finds a strong rapport with his actors. He's not much of a writer, though, and he should think twice about creating dialogue for his future projects.\n",
            "\n",
            "It is sometimes funny in a puzzling kind of way, it is generally overwrought in an irritating kind of way, and once in a while it is inappropriately touching.\n",
            "\n",
            "Part comedy, part family drama, part romance, part special-effects mystery-adventure, and not entirely satisfying on any of these levels.\n",
            "\n",
            "The thought that he may yet return for further adventures with his body and Lugosi's sconce fills us with mortal terror. That is the most fearful prospect which the picture manages to convey.\n",
            "\n",
            "Mis-predicted Fresh quotes\n",
            "--------------------------\n",
            "Though it's a good half hour too long, this overblown 1993 spin-off of the 60s TV show otherwise adds up to a pretty good suspense thriller.\n",
            "\n",
            "There's a lot more to Nowhere in Africa -- too much, actually ... Yet even if the movie has at least one act too many, the question that runs through it -- of whether belonging to a place is a matter of time or of will -- remains consistent.\n",
            "\n",
            "This tough-to-peg whodunit keeps you going for two hours, despite a few James Bond-ish (or Jane Bond-ish) turns that play less preposterously than you might assume were they to be divulged.\n",
            "\n",
            "Some of the gags don't work, but fewer than in any previous Brooks film that I've seen, and when the jokes are meant to be bad, they are riotously poor. What more can one ask of Mel Brooks?\n",
            "\n",
            "The gangland plot is flimsy (bad guy Peter Greene wears too much eyeliner), and the jokes are erratic, but it's a far better showcase for Carrey's comic-from-Uranus talent than Ace Ventura.\n",
            "\n"
          ],
          "name": "stdout"
        }
      ]
    },
    {
      "cell_type": "markdown",
      "metadata": {
        "id": "0aNGTorUjjgl",
        "colab_type": "text"
      },
      "source": [
        "<div class=\"alert alert-info\">\n",
        "<h3>Exercise Set VII: Predicting the Freshness for a New Review</h3>\n",
        "<br/>\n",
        "<div>\n",
        "<b>Exercise:</b>\n",
        "<ul>\n",
        "<li> Using your best trained classifier, predict the freshness of the following sentence: *'This movie is not remarkable, touching, or superb in any way'*\n",
        "<li> Is the result what you'd expect? Why (not)?\n",
        "</ul>\n",
        "</div>\n",
        "</div>"
      ]
    },
    {
      "cell_type": "code",
      "metadata": {
        "id": "gaYtuVzgjjgl",
        "colab_type": "code",
        "colab": {
          "base_uri": "https://localhost:8080/",
          "height": 34
        },
        "outputId": "f548cdb4-c386-4469-bc33-439a5fadeb6c"
      },
      "source": [
        "clf.predict_proba(vectorizer.transform(['This movie is not remarkable, touching, or superb in any way']))"
      ],
      "execution_count": 53,
      "outputs": [
        {
          "output_type": "execute_result",
          "data": {
            "text/plain": [
              "array([[0.07369282, 0.92630718]])"
            ]
          },
          "metadata": {
            "tags": []
          },
          "execution_count": 53
        }
      ]
    },
    {
      "cell_type": "markdown",
      "metadata": {
        "id": "A_wrv7a5jjgn",
        "colab_type": "text"
      },
      "source": [
        "<div class=\"alert alert-success\">\n",
        "<b>Answer:</b> Assuming the array index 0 is rotten and 1 is fresh, the result indicates 94% of freshness, when the quote would imply  otherwise. Result is what I'd expect since there are many positive words in the sentence compared to the word 'not'.\n",
        "</div>"
      ]
    },
    {
      "cell_type": "markdown",
      "metadata": {
        "id": "-BIeSn-Wjjgn",
        "colab_type": "text"
      },
      "source": [
        "### Aside: TF-IDF Weighting for Term Importance\n",
        "\n",
        "TF-IDF stands for \n",
        "\n",
        "`Term-Frequency X Inverse Document Frequency`.\n",
        "\n",
        "In the standard `CountVectorizer` model above, we used just the term frequency in a document of words in our vocabulary. In TF-IDF, we weight this term frequency by the inverse of its popularity in all documents. For example, if the word \"movie\" showed up in all the documents, it would not have much predictive value. It could actually be considered a stopword. By weighing its counts by 1 divided by its overall frequency, we downweight it. We can then use this TF-IDF weighted features as inputs to any classifier. **TF-IDF is essentially a measure of term importance, and of how discriminative a word is in a corpus.** There are a variety of nuances involved in computing TF-IDF, mainly involving where to add the smoothing term to avoid division by 0, or log of 0 errors. The formula for TF-IDF in `scikit-learn` differs from that of most textbooks: \n",
        "\n",
        "$$\\mbox{TF-IDF}(t, d) = \\mbox{TF}(t, d)\\times \\mbox{IDF}(t) = n_{td} \\log{\\left( \\frac{\\vert D \\vert}{\\vert d : t \\in d \\vert} + 1 \\right)}$$\n",
        "\n",
        "where $n_{td}$ is the number of times term $t$ occurs in document $d$, $\\vert D \\vert$ is the number of documents, and $\\vert d : t \\in d \\vert$ is the number of documents that contain $t$"
      ]
    },
    {
      "cell_type": "code",
      "metadata": {
        "id": "_kqkCl0ljjgn",
        "colab_type": "code",
        "colab": {}
      },
      "source": [
        "# http://scikit-learn.org/dev/modules/feature_extraction.html#text-feature-extraction\n",
        "# http://scikit-learn.org/dev/modules/classes.html#text-feature-extraction-ref\n",
        "from sklearn.feature_extraction.text import TfidfVectorizer\n",
        "tfidfvectorizer = TfidfVectorizer(min_df=1, stop_words='english')\n",
        "Xtfidf=tfidfvectorizer.fit_transform(critics.quote)"
      ],
      "execution_count": 37,
      "outputs": []
    },
    {
      "cell_type": "markdown",
      "metadata": {
        "id": "Ua3GxyZ1jjgp",
        "colab_type": "text"
      },
      "source": [
        "<div class=\"alert alert-info\">\n",
        "<h3>Exercise Set VIII: Enrichment</h3>\n",
        "\n",
        "<p>\n",
        "There are several additional things we could try. Try some of these as exercises:\n",
        "<ol>\n",
        "<li> Build a Naive Bayes model where the features are n-grams instead of words. N-grams are phrases containing n words next to each other: a bigram contains 2 words, a trigram contains 3 words, and 6-gram contains 6 words. This is useful because \"not good\" and \"so good\" mean very different things. On the other hand, as n increases, the model does not scale well since the feature set becomes more sparse.\n",
        "<li> Try a model besides Naive Bayes, one that would allow for interactions between words -- for example, a Random Forest classifier.\n",
        "<li> Try adding supplemental features -- information about genre, director, cast, etc.\n",
        "<li> Use word2vec or [Latent Dirichlet Allocation](https://en.wikipedia.org/wiki/Latent_Dirichlet_allocation) to group words into topics and use those topics for prediction.\n",
        "<li> Use TF-IDF weighting instead of word counts.\n",
        "</ol>\n",
        "</p>\n",
        "\n",
        "<b>Exercise:</b> Try a few of these ideas to improve the model (or any other ideas of your own). Implement here and report on the result.\n",
        "</div>"
      ]
    },
    {
      "cell_type": "code",
      "metadata": {
        "id": "WbVxvrpQjjgp",
        "colab_type": "code",
        "colab": {
          "base_uri": "https://localhost:8080/",
          "height": 34
        },
        "outputId": "73397a04-296c-40c9-f1d8-4003f106832f"
      },
      "source": [
        "# Including bigrams\n",
        "vectorizer = CountVectorizer(ngram_range=(1,2), stop_words='english', min_df=1)\n",
        "X = vectorizer.fit_transform(critics.quote)\n",
        "X = X.tocsc()\n",
        "y = (critics.fresh == 'fresh').values.astype(np.int)\n",
        "\n",
        "X_train, X_test, y_train, y_test = train_test_split(X, y, test_size = 0.3, random_state=1111)\n",
        "m_nb = MultinomialNB()\n",
        "m_nb.fit(X_train, y_train)\n",
        "mnb_test_score = m_nb.score(X_test, y_test)\n",
        "\n",
        "print('Accuracy score for test set: %.4f' % mnb_test_score)"
      ],
      "execution_count": 38,
      "outputs": [
        {
          "output_type": "stream",
          "text": [
            "Accuracy score for test set: 0.7578\n"
          ],
          "name": "stdout"
        }
      ]
    },
    {
      "cell_type": "code",
      "metadata": {
        "id": "Nyq96U1rjjgr",
        "colab_type": "code",
        "colab": {
          "base_uri": "https://localhost:8080/",
          "height": 34
        },
        "outputId": "5153d7bc-2afc-4d64-f2b7-f365f9b31fab"
      },
      "source": [
        "# Using Random Forest classifier\n",
        "from sklearn.ensemble import RandomForestClassifier\n",
        "\n",
        "X_rf, y_rf = make_xy(critics)\n",
        "X_train, X_test, y_train, y_test = train_test_split(X_rf, y_rf, test_size = 0.3, random_state=1111)\n",
        "\n",
        "rf_clf = RandomForestClassifier()\n",
        "rf_clf.fit(X_train, y_train)\n",
        "rf_test_score = rf_clf.score(X_test, y_test)\n",
        "\n",
        "print('Accuracy score for test set: %.4f' % rf_test_score)"
      ],
      "execution_count": 39,
      "outputs": [
        {
          "output_type": "stream",
          "text": [
            "Accuracy score for test set: 0.7096\n"
          ],
          "name": "stdout"
        }
      ]
    },
    {
      "cell_type": "code",
      "metadata": {
        "id": "7eaI22C7jjgt",
        "colab_type": "code",
        "colab": {
          "base_uri": "https://localhost:8080/",
          "height": 34
        },
        "outputId": "3f46054e-7ae1-4fe8-aeea-20616699f442"
      },
      "source": [
        "# Using more features\n",
        "vectorizer = CountVectorizer(ngram_range=(1,2), stop_words='english', min_df=1)\n",
        "X = vectorizer.fit_transform(critics.quote, critics.critic)\n",
        "X = X.tocsc()\n",
        "y = (critics.fresh == 'fresh').values.astype(np.int)\n",
        "\n",
        "X_train, X_test, y_train, y_test = train_test_split(X, y, test_size = 0.3, random_state=1111)\n",
        "m_nb = MultinomialNB()\n",
        "m_nb.fit(X_train, y_train)\n",
        "mnb_test_score = m_nb.score(X_test, y_test)\n",
        "\n",
        "print('Accuracy score for test set: %.4f' % mnb_test_score)"
      ],
      "execution_count": 40,
      "outputs": [
        {
          "output_type": "stream",
          "text": [
            "Accuracy score for test set: 0.7578\n"
          ],
          "name": "stdout"
        }
      ]
    },
    {
      "cell_type": "code",
      "metadata": {
        "id": "gazPfzonjjgu",
        "colab_type": "code",
        "colab": {
          "base_uri": "https://localhost:8080/",
          "height": 34
        },
        "outputId": "7d1c4c58-16d3-4dfb-a6e6-b3636692b51f"
      },
      "source": [
        "# Using tf-idf\n",
        "X_train, X_test, y_train, y_test = train_test_split(Xtfidf, y, test_size = 0.3, random_state=1111)\n",
        "m_nb = MultinomialNB()\n",
        "m_nb.fit(X_train, y_train)\n",
        "mnb_test_score = m_nb.score(X_test, y_test)\n",
        "\n",
        "print('Accuracy score for test set: %.4f' % mnb_test_score)"
      ],
      "execution_count": 41,
      "outputs": [
        {
          "output_type": "stream",
          "text": [
            "Accuracy score for test set: 0.7162\n"
          ],
          "name": "stdout"
        }
      ]
    },
    {
      "cell_type": "markdown",
      "metadata": {
        "id": "EmWTsAeujjgw",
        "colab_type": "text"
      },
      "source": [
        "> Overall, out of the box without tuning hyperparameters for each different model, they perform similar or worse than what we started with according the test scores. Proceeding forward, things that can be addressed are hyperparameter tuning, trying different models, and including new features."
      ]
    }
  ]
}